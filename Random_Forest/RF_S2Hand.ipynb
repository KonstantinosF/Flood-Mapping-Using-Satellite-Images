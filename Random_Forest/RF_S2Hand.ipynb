{
  "nbformat": 4,
  "nbformat_minor": 0,
  "metadata": {
    "colab": {
      "provenance": []
    },
    "kernelspec": {
      "name": "python3",
      "display_name": "Python 3"
    },
    "language_info": {
      "name": "python"
    }
  },
  "cells": [
    {
      "cell_type": "code",
      "execution_count": 1,
      "metadata": {
        "id": "hTwGUPHs5iFR"
      },
      "outputs": [],
      "source": [
        "import numpy as np\n",
        "import cv2\n",
        "import pandas as pd\n",
        "from scipy import ndimage as nd\n",
        " \n",
        "import pickle\n",
        "from matplotlib import pyplot as plt\n",
        "import os\n",
        "from skimage.io import imread, imshow\n",
        "from skimage.filters import roberts, sobel, scharr, prewitt\n",
        "import glob"
      ]
    },
    {
      "cell_type": "code",
      "source": [
        "source_paths1 = \"S2Hand/\"\n",
        "label_path = \"LabelHand/\"\n",
        "\n",
        "sources = []\n",
        "label = []\n",
        "\n",
        "for file in os.listdir(source_paths1):\n",
        "    if file.endswith(\"tif\"):\n",
        "      sources.append(file)\n",
        "        \n",
        "for file in os.listdir(label_path):\n",
        "    if file.endswith(\"tif\"):\n",
        "      label.append(file)\n",
        "\n",
        "\n",
        "## SAnity Check\n",
        "sources = sorted(sources)\n",
        "label = sorted(label)\n",
        "print(len(sources))\n",
        "print(len(label))"
      ],
      "metadata": {
        "colab": {
          "base_uri": "https://localhost:8080/"
        },
        "id": "uFopsU8t5sgL",
        "outputId": "b23d21af-680e-432a-d5c1-1b75e2e2da2b"
      },
      "execution_count": 31,
      "outputs": [
        {
          "output_type": "stream",
          "name": "stdout",
          "text": [
            "577\n",
            "577\n"
          ]
        }
      ]
    },
    {
      "cell_type": "code",
      "source": [
        "####################################################################\n",
        "## STEP 1:   READ TRAINING IMAGES AND EXTRACT FEATURES - Sentinel 2\n",
        "################################################################\n",
        "image_dataset_s2 = pd.DataFrame()  #Dataframe to capture image features\n",
        "\n",
        "img_path = \"S2Hand/\" # CHANGE ME!!!\n",
        "for image in sources: #os.listdir(img_path):\n",
        "    df = pd.DataFrame()  #Temporary data frame to capture information for each loop.\n",
        "    #Reset dataframe to blank after each loop.\n",
        "\n",
        "    blue = imread(img_path + image)[0:1,:,:].reshape((128,128))    \n",
        "    green = imread(img_path + image)[1:2,:,:].reshape((128,128))\n",
        "    red = imread(img_path + image)[2:3,:,:].reshape((128,128))\n",
        "    nir = imread(img_path + image)[3:4,:,:].reshape((128,128))\n",
        "    swir = imread(img_path + image)[4:5,:,:].reshape((128,128))\n",
        "    \n",
        "    # Sentinel-2 MNDWI = (B03 - B08) / (B03 + B08)\n",
        "    ndwi = (green - swir)/ (green + swir)\n",
        "    ndwi_values = ndwi.reshape(-1)\n",
        "    df['NDWI'] = ndwi_values  \n",
        "\n",
        "    # Sentinel 2 NDVI = (NIR - RED) / (NIR + RED), where RED is B4 and NIR is B8\n",
        "    ndvi = (nir - red)/ (red + nir)\n",
        "    ndvi_values = ndvi.reshape(-1)\n",
        "    df['NDVI'] = ndvi_values \n",
        "\n",
        "    #MEDIAN with sigma=3\n",
        "    median_img = nd.median_filter(nir, size=3)\n",
        "    median_img1 = median_img.reshape(-1)\n",
        "    df['Median_s3'] = median_img1\n",
        "\n",
        "   #VARIANCE with size=3\n",
        "    variance_img = nd.generic_filter(nir, np.var, size=3)\n",
        "    variance_img1 = variance_img.reshape(-1)\n",
        "    df['Variance_s3'] = variance_img1  \n",
        "\n",
        "   #ROBERTS EDGE\n",
        "    edge_roberts = roberts(nir)\n",
        "    edge_roberts1 = edge_roberts.reshape(-1)\n",
        "    df['Roberts'] = edge_roberts1\n",
        "\n",
        "    blue_values = blue.reshape(-1)\n",
        "    df['Blue'] = blue_values  \n",
        "            \n",
        "    green_values = green.reshape(-1)\n",
        "    df['Green'] = green_values   \n",
        "             \n",
        "        \n",
        "    image_dataset_s2 = image_dataset_s2.append(df)  "
      ],
      "metadata": {
        "id": "W-kiKLJj5smD"
      },
      "execution_count": 4,
      "outputs": []
    },
    {
      "cell_type": "code",
      "source": [
        "###########################################################\n",
        "# STEP 2: READ LABELED IMAGES (MASKS) AND CREATE ANOTHER DATAFRAME\n",
        "    # WITH LABEL VALUES AND LABEL FILE NAMES\n",
        "##########################################################\n",
        "mask_dataset = pd.DataFrame()  #Create dataframe to capture mask info.\n",
        "\n",
        "mask_path = \"LabelHand/\" ### CHANGE ME!!!\n",
        "for mask in label:   #os.listdir(mask_path):\n",
        "    df2 = pd.DataFrame()  #Temporary dataframe to capture info for each mask in the loop\n",
        "    input_mask = imread(mask_path + mask)\n",
        "    label = input_mask\n",
        "    #Add pixel values to the data frame\n",
        "    label_values = label.reshape(-1)\n",
        "    df2['Label_Value'] = label_values\n",
        "    df2['Mask_Name'] = mask\n",
        "    mask_dataset = mask_dataset.append(df2)  #Update mask dataframe with all the info from each mask"
      ],
      "metadata": {
        "id": "cy2lIx_55sqp"
      },
      "execution_count": 5,
      "outputs": []
    },
    {
      "cell_type": "code",
      "source": [
        "################################################################\n",
        " #  STEP 3: GET DATA READY FOR RANDOM FOREST (or other classifier)\n",
        " # COMBINE BOTH DATAFRAMES INTO A SINGLE DATASET\n",
        "###############################################################\n",
        "dataset = pd.concat([image_dataset_s2, mask_dataset], axis=1)    #Concatenate both image and mask datasets\n",
        "\n",
        "#If you expect image and mask names to be the same this is where we can perform sanity check\n",
        "#dataset['Image_Name'].equals(dataset['Mask_Name'])   \n",
        "##\n",
        "##If we do not want to include pixels with value 0 \n",
        "##e.g. Sometimes unlabeled pixels may be given a value 0.\n",
        "dataset.replace([np.inf, -np.inf], np.nan, inplace=True)\n",
        "# dataset.fillna(-1, inplace=True)\n",
        "dataset.fillna(999, inplace=True)\n",
        "# dataset = dataset[dataset.Label_Value != -1]\n",
        "dataset.dropna()\n",
        "# dataset = dataset.reset_index()\n",
        "\n",
        "\n",
        "#Assign training features to X and labels to Y\n",
        "#Drop columns that are not relevant for training (non-features)\n",
        "X = dataset.drop(labels = [\"Mask_Name\",\"Label_Value\"], axis=1) \n",
        "\n",
        "#Assign label values to Y (our prediction)\n",
        "Y = dataset[\"Label_Value\"].values "
      ],
      "metadata": {
        "id": "UqSVCVem5svL"
      },
      "execution_count": 6,
      "outputs": []
    },
    {
      "cell_type": "code",
      "source": [
        "## Sanity Check\n",
        "print(X.shape)\n",
        "print(Y.shape)"
      ],
      "metadata": {
        "colab": {
          "base_uri": "https://localhost:8080/"
        },
        "id": "rgXF7WJ15syf",
        "outputId": "f4be62a8-17c6-46ff-d24f-309859d450f4"
      },
      "execution_count": 7,
      "outputs": [
        {
          "output_type": "stream",
          "name": "stdout",
          "text": [
            "(9453568, 7)\n",
            "(9453568,)\n"
          ]
        }
      ]
    },
    {
      "cell_type": "code",
      "source": [
        "################################################################\n",
        " #  STEP : Scale The Features\n",
        "###############################################################\n",
        "from sklearn import preprocessing\n",
        "scaler = preprocessing.StandardScaler().fit(X)\n",
        "X_scaled = scaler.transform(X)"
      ],
      "metadata": {
        "id": "pEWbMeBr58fT"
      },
      "execution_count": 8,
      "outputs": []
    },
    {
      "cell_type": "code",
      "source": [
        "## Split data into train and test to verify accuracy after fitting the model. \n",
        "from sklearn.model_selection import train_test_split\n",
        "X_train, X_test, y_train, y_test = train_test_split(X_scaled, Y, test_size=0.3) #random_state=20"
      ],
      "metadata": {
        "id": "QL7lRlyN58ly"
      },
      "execution_count": 9,
      "outputs": []
    },
    {
      "cell_type": "code",
      "source": [
        "####################################################################\n",
        "# STEP 4: Define the classifier and fit a model with our training data\n",
        "###################################################################\n",
        "\n",
        "#Import training classifier\n",
        "from sklearn.ensemble import RandomForestClassifier\n",
        "## Instantiate model with n number of decision trees\n",
        "model = RandomForestClassifier(n_estimators = 20, verbose=10)\n",
        "\n",
        "## Train the model on training data\n",
        "model.fit(X_scaled, Y)"
      ],
      "metadata": {
        "colab": {
          "base_uri": "https://localhost:8080/"
        },
        "id": "i9iTFvZW58rO",
        "outputId": "b9e704e2-dbb1-4b6c-884e-ff158d0d8d9d"
      },
      "execution_count": 10,
      "outputs": [
        {
          "output_type": "stream",
          "name": "stderr",
          "text": [
            "[Parallel(n_jobs=1)]: Using backend SequentialBackend with 1 concurrent workers.\n"
          ]
        },
        {
          "output_type": "stream",
          "name": "stdout",
          "text": [
            "building tree 1 of 20\n"
          ]
        },
        {
          "output_type": "stream",
          "name": "stderr",
          "text": [
            "[Parallel(n_jobs=1)]: Done   1 out of   1 | elapsed:   37.3s remaining:    0.0s\n"
          ]
        },
        {
          "output_type": "stream",
          "name": "stdout",
          "text": [
            "building tree 2 of 20\n"
          ]
        },
        {
          "output_type": "stream",
          "name": "stderr",
          "text": [
            "[Parallel(n_jobs=1)]: Done   2 out of   2 | elapsed:  1.3min remaining:    0.0s\n"
          ]
        },
        {
          "output_type": "stream",
          "name": "stdout",
          "text": [
            "building tree 3 of 20\n"
          ]
        },
        {
          "output_type": "stream",
          "name": "stderr",
          "text": [
            "[Parallel(n_jobs=1)]: Done   3 out of   3 | elapsed:  1.9min remaining:    0.0s\n"
          ]
        },
        {
          "output_type": "stream",
          "name": "stdout",
          "text": [
            "building tree 4 of 20\n"
          ]
        },
        {
          "output_type": "stream",
          "name": "stderr",
          "text": [
            "[Parallel(n_jobs=1)]: Done   4 out of   4 | elapsed:  2.6min remaining:    0.0s\n"
          ]
        },
        {
          "output_type": "stream",
          "name": "stdout",
          "text": [
            "building tree 5 of 20\n"
          ]
        },
        {
          "output_type": "stream",
          "name": "stderr",
          "text": [
            "[Parallel(n_jobs=1)]: Done   5 out of   5 | elapsed:  3.2min remaining:    0.0s\n"
          ]
        },
        {
          "output_type": "stream",
          "name": "stdout",
          "text": [
            "building tree 6 of 20\n"
          ]
        },
        {
          "output_type": "stream",
          "name": "stderr",
          "text": [
            "[Parallel(n_jobs=1)]: Done   6 out of   6 | elapsed:  3.9min remaining:    0.0s\n"
          ]
        },
        {
          "output_type": "stream",
          "name": "stdout",
          "text": [
            "building tree 7 of 20\n"
          ]
        },
        {
          "output_type": "stream",
          "name": "stderr",
          "text": [
            "[Parallel(n_jobs=1)]: Done   7 out of   7 | elapsed:  4.6min remaining:    0.0s\n"
          ]
        },
        {
          "output_type": "stream",
          "name": "stdout",
          "text": [
            "building tree 8 of 20\n"
          ]
        },
        {
          "output_type": "stream",
          "name": "stderr",
          "text": [
            "[Parallel(n_jobs=1)]: Done   8 out of   8 | elapsed:  5.2min remaining:    0.0s\n"
          ]
        },
        {
          "output_type": "stream",
          "name": "stdout",
          "text": [
            "building tree 9 of 20\n"
          ]
        },
        {
          "output_type": "stream",
          "name": "stderr",
          "text": [
            "[Parallel(n_jobs=1)]: Done   9 out of   9 | elapsed:  5.9min remaining:    0.0s\n"
          ]
        },
        {
          "output_type": "stream",
          "name": "stdout",
          "text": [
            "building tree 10 of 20\n",
            "building tree 11 of 20\n",
            "building tree 12 of 20\n",
            "building tree 13 of 20\n",
            "building tree 14 of 20\n",
            "building tree 15 of 20\n",
            "building tree 16 of 20\n",
            "building tree 17 of 20\n",
            "building tree 18 of 20\n",
            "building tree 19 of 20\n",
            "building tree 20 of 20\n"
          ]
        },
        {
          "output_type": "stream",
          "name": "stderr",
          "text": [
            "[Parallel(n_jobs=1)]: Done  20 out of  20 | elapsed: 12.9min finished\n"
          ]
        },
        {
          "output_type": "execute_result",
          "data": {
            "text/plain": [
              "RandomForestClassifier(n_estimators=20, verbose=10)"
            ]
          },
          "metadata": {},
          "execution_count": 10
        }
      ]
    },
    {
      "cell_type": "code",
      "source": [
        "#######################################################\n",
        "# STEP 5: Accuracy check\n",
        "#########################################################\n",
        "\n",
        "from sklearn import metrics\n",
        "prediction_test = model.predict(X_scaled)\n",
        "##Check accuracy on test dataset. \n",
        "print (\"Accuracy = \", metrics.accuracy_score(Y, prediction_test))\n",
        "print(\"IOU = \", metrics.jaccard_score(Y, prediction_test, average='micro'))\n",
        "print(\"Precision = \", metrics.precision_score(Y, prediction_test,average='micro'))\n",
        "print(\"Recall = \", \tmetrics.recall_score(Y, prediction_test,average='micro'))\n",
        "print(\"F1 score = \", metrics.f1_score(Y, prediction_test,average='micro'))"
      ],
      "metadata": {
        "colab": {
          "base_uri": "https://localhost:8080/"
        },
        "id": "jp9UmBFZ6C1W",
        "outputId": "8fabb2dd-0bda-4d7e-ae0a-357351211954"
      },
      "execution_count": null,
      "outputs": [
        {
          "output_type": "stream",
          "name": "stderr",
          "text": [
            "[Parallel(n_jobs=1)]: Using backend SequentialBackend with 1 concurrent workers.\n",
            "[Parallel(n_jobs=1)]: Done   1 out of   1 | elapsed:    3.4s remaining:    0.0s\n",
            "[Parallel(n_jobs=1)]: Done   2 out of   2 | elapsed:    6.8s remaining:    0.0s\n",
            "[Parallel(n_jobs=1)]: Done   3 out of   3 | elapsed:   10.4s remaining:    0.0s\n",
            "[Parallel(n_jobs=1)]: Done   4 out of   4 | elapsed:   13.9s remaining:    0.0s\n",
            "[Parallel(n_jobs=1)]: Done   5 out of   5 | elapsed:   17.5s remaining:    0.0s\n",
            "[Parallel(n_jobs=1)]: Done   6 out of   6 | elapsed:   20.9s remaining:    0.0s\n",
            "[Parallel(n_jobs=1)]: Done   7 out of   7 | elapsed:   24.2s remaining:    0.0s\n",
            "[Parallel(n_jobs=1)]: Done   8 out of   8 | elapsed:   27.4s remaining:    0.0s\n",
            "[Parallel(n_jobs=1)]: Done   9 out of   9 | elapsed:   30.7s remaining:    0.0s\n",
            "[Parallel(n_jobs=1)]: Done  20 out of  20 | elapsed:  1.1min finished\n"
          ]
        },
        {
          "output_type": "stream",
          "name": "stdout",
          "text": [
            "Accuracy =  0.9987306379982669\n",
            "IOU =  0.9974644944709076\n",
            "Precision =  0.9987306379982669\n",
            "Recall =  0.9987306379982669\n",
            "F1 score =  0.9987306379982669\n"
          ]
        }
      ]
    },
    {
      "cell_type": "code",
      "source": [
        "### Feature Importance ####\n",
        "# model.feature_importances_\n",
        "\n",
        "# plt.barh(image_dataset.columns, model.feature_importances_)\n",
        "fig=plt.figure(figsize=(10,10))\n",
        "sorted_idx = model.feature_importances_.argsort()\n",
        "plt.barh(X.columns[sorted_idx], model.feature_importances_[sorted_idx])\n",
        "# plt.margins(x=0, y=-0.10) \n",
        "plt.xlabel(\"Random Forest Feature Importance\")"
      ],
      "metadata": {
        "colab": {
          "base_uri": "https://localhost:8080/",
          "height": 623
        },
        "id": "LdWyf29g6DCB",
        "outputId": "43ce3328-e011-43d0-b6f0-a7d150d30acf"
      },
      "execution_count": null,
      "outputs": [
        {
          "output_type": "execute_result",
          "data": {
            "text/plain": [
              "Text(0.5, 0, 'Random Forest Feature Importance')"
            ]
          },
          "metadata": {},
          "execution_count": 15
        },
        {
          "output_type": "display_data",
          "data": {
            "text/plain": [
              "<Figure size 720x720 with 1 Axes>"
            ],
            "image/png": "[encoded data removed]"
          },
          "metadata": {
            "needs_background": "light"
          }
        }
      ]
    },
    {
      "cell_type": "code",
      "source": [
        "##########################################################\n",
        "#STEP 6: SAVE MODEL FOR FUTURE USE\n",
        "###########################################################\n",
        "##You can store the model for future use. In fact, this is how you do machine elarning\n",
        "##Train on training images, validate on test images and deploy the model on unknown images. \n",
        "#\n",
        "#\n",
        "##Save the trained model as pickle string to disk for future use\n",
        "model_name = \"RF_S1Hand\"\n",
        "pickle.dump(model, open(model_name, 'wb'))\n",
        "#\n",
        "##To test the model on future datasets\n",
        "#loaded_model = pickle.load(open(model_name, 'rb'))"
      ],
      "metadata": {
        "id": "scRgAru86LnH"
      },
      "execution_count": null,
      "outputs": []
    },
    {
      "cell_type": "code",
      "source": [],
      "metadata": {
        "id": "Shg2t9wc6LrR"
      },
      "execution_count": null,
      "outputs": []
    },
    {
      "cell_type": "markdown",
      "source": [
        "Classification Map - Visual Validation"
      ],
      "metadata": {
        "id": "lssxSq2QzNJR"
      }
    },
    {
      "cell_type": "code",
      "source": [
        "def feature_extraction(imge):\n",
        "  img_path = \"S2Hand/\"\n",
        "\n",
        "  df = pd.DataFrame()  #Temporary data frame to capture information for each loop.\n",
        "\n",
        "  blue = imread(img_path + imge)[0:1,:,:].reshape((128,128))    \n",
        "  green = imread(img_path + imge)[1:2,:,:].reshape((128,128))\n",
        "  red = imread(img_path + imge)[2:3,:,:].reshape((128,128))\n",
        "  nir = imread(img_path + imge)[3:4,:,:].reshape((128,128))\n",
        "  swir = imread(img_path + imge)[4:5,:,:].reshape((128,128))\n",
        "    \n",
        "    # Sentinel-2 MNDWI = (B03 - B08) / (B03 + B08)\n",
        "  ndwi = (green - swir)/ (green + swir)\n",
        "  ndwi_values = ndwi.reshape(-1)\n",
        "  df['NDWI'] = ndwi_values  \n",
        "\n",
        "    # Sentinel 2 NDVI = (NIR - RED) / (NIR + RED), where RED is B4 and NIR is B8\n",
        "  ndvi = (nir - red)/ (red + nir)\n",
        "  ndvi_values = ndvi.reshape(-1)\n",
        "  df['NDVI'] = ndvi_values \n",
        "\n",
        "    #MEDIAN with sigma=3\n",
        "  median_img = nd.median_filter(nir, size=3)\n",
        "  median_img1 = median_img.reshape(-1)\n",
        "  df['Median_s3'] = median_img1\n",
        "\n",
        "   #VARIANCE with size=3\n",
        "  variance_img = nd.generic_filter(nir, np.var, size=3)\n",
        "  variance_img1 = variance_img.reshape(-1)\n",
        "  df['Variance_s3'] = variance_img1  \n",
        "\n",
        "   #ROBERTS EDGE\n",
        "  edge_roberts = roberts(nir)\n",
        "  edge_roberts1 = edge_roberts.reshape(-1)\n",
        "  df['Roberts'] = edge_roberts1\n",
        "\n",
        "  blue_values = blue.reshape(-1)\n",
        "  df['Blue'] = blue_values  \n",
        "            \n",
        "  green_values = green.reshape(-1)\n",
        "  df['Green'] = green_values   \n",
        "\n",
        "  return df"
      ],
      "metadata": {
        "id": "_8rHne7MzOkN"
      },
      "execution_count": 33,
      "outputs": []
    },
    {
      "cell_type": "code",
      "source": [
        "# Plot a predicted sample image\n",
        "img1 = sources[1]\n",
        "print(img1)\n",
        "Ximg = feature_extraction(img1)\n",
        "\n",
        "from sklearn import preprocessing\n",
        "scaler = preprocessing.StandardScaler().fit(Ximg)\n",
        "X_scaled2 = scaler.transform(Ximg)\n",
        "result = model.predict(X_scaled2)\n",
        "\n",
        "segmented = result.reshape((128,128))\n",
        "plt.imshow(segmented, cmap='RdBu')"
      ],
      "metadata": {
        "colab": {
          "base_uri": "https://localhost:8080/",
          "height": 494
        },
        "id": "zqAmrHk5zRFZ",
        "outputId": "3ccfb4f9-da64-43e6-f0a0-934cf97b3aa9"
      },
      "execution_count": 66,
      "outputs": [
        {
          "output_type": "stream",
          "name": "stdout",
          "text": [
            "Bolivia_129334_S2Hand_00128128.tif\n"
          ]
        },
        {
          "output_type": "stream",
          "name": "stderr",
          "text": [
            "[Parallel(n_jobs=1)]: Using backend SequentialBackend with 1 concurrent workers.\n",
            "[Parallel(n_jobs=1)]: Done   1 out of   1 | elapsed:    0.0s remaining:    0.0s\n",
            "[Parallel(n_jobs=1)]: Done   2 out of   2 | elapsed:    0.0s remaining:    0.0s\n",
            "[Parallel(n_jobs=1)]: Done   3 out of   3 | elapsed:    0.0s remaining:    0.0s\n",
            "[Parallel(n_jobs=1)]: Done   4 out of   4 | elapsed:    0.0s remaining:    0.0s\n",
            "[Parallel(n_jobs=1)]: Done   5 out of   5 | elapsed:    0.0s remaining:    0.0s\n",
            "[Parallel(n_jobs=1)]: Done   6 out of   6 | elapsed:    0.0s remaining:    0.0s\n",
            "[Parallel(n_jobs=1)]: Done   7 out of   7 | elapsed:    0.0s remaining:    0.0s\n",
            "[Parallel(n_jobs=1)]: Done   8 out of   8 | elapsed:    0.1s remaining:    0.0s\n",
            "[Parallel(n_jobs=1)]: Done   9 out of   9 | elapsed:    0.1s remaining:    0.0s\n",
            "[Parallel(n_jobs=1)]: Done  20 out of  20 | elapsed:    0.1s finished\n"
          ]
        },
        {
          "output_type": "execute_result",
          "data": {
            "text/plain": [
              "<matplotlib.image.AxesImage at 0x7f82a78fb0d0>"
            ]
          },
          "metadata": {},
          "execution_count": 66
        },
        {
          "output_type": "display_data",
          "data": {
            "text/plain": [
              "<Figure size 432x288 with 1 Axes>"
            ],
            "image/png": "[encoded data removed]"
          },
          "metadata": {
            "needs_background": "light"
          }
        }
      ]
    },
    {
      "cell_type": "code",
      "source": [
        "# Plot the Ground Truth Image\n",
        "label1 = label[1]\n",
        "print(label1)\n",
        "mask_path = \"LabelHand/\"\n",
        "input_mask = imread(mask_path + label1)\n",
        "plt.imshow(input_mask, cmap='RdBu')"
      ],
      "metadata": {
        "colab": {
          "base_uri": "https://localhost:8080/",
          "height": 303
        },
        "id": "z2l-DR71zRSm",
        "outputId": "1c2d8ead-5ddd-40eb-bd72-cc0bb26666b6"
      },
      "execution_count": 67,
      "outputs": [
        {
          "output_type": "stream",
          "name": "stdout",
          "text": [
            "Bolivia_129334_LabelHand_00128128.tif\n"
          ]
        },
        {
          "output_type": "execute_result",
          "data": {
            "text/plain": [
              "<matplotlib.image.AxesImage at 0x7f82a78d13a0>"
            ]
          },
          "metadata": {},
          "execution_count": 67
        },
        {
          "output_type": "display_data",
          "data": {
            "text/plain": [
              "<Figure size 432x288 with 1 Axes>"
            ],
            "image/png": "[encoded data removed]"
          },
          "metadata": {
            "needs_background": "light"
          }
        }
      ]
    }
  ]
}
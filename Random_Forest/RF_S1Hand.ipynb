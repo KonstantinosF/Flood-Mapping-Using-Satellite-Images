{
  "nbformat": 4,
  "nbformat_minor": 0,
  "metadata": {
    "colab": {
      "provenance": []
    },
    "kernelspec": {
      "name": "python3",
      "display_name": "Python 3"
    },
    "language_info": {
      "name": "python"
    }
  },
  "cells": [
    {
      "cell_type": "code",
      "execution_count": null,
      "metadata": {
        "id": "_TzUCdZlrknF"
      },
      "outputs": [],
      "source": [
        "import numpy as np\n",
        "import cv2\n",
        "import pandas as pd\n",
        "from scipy import ndimage as nd\n",
        " \n",
        "import pickle\n",
        "from matplotlib import pyplot as plt\n",
        "import os\n",
        "from skimage.io import imread, imshow\n",
        "from skimage.filters import roberts, sobel, scharr, prewitt\n",
        "import glob"
      ]
    },
    {
      "cell_type": "code",
      "source": [
        "source_paths = \"S1Hand/\"\n",
        "label_path = \"S1OtsuLabelHand/\"\n",
        "\n",
        "sources = []\n",
        "label = []\n",
        "\n",
        "for file in os.listdir(source_paths):\n",
        "    if file.endswith(\"tif\"):\n",
        "      sources.append(file)\n",
        "\n",
        "       \n",
        "for file in os.listdir(label_path):\n",
        "    if file.endswith(\"tif\"):\n",
        "      label.append(file)\n",
        "\n",
        "\n",
        "## Sanity Check\n",
        "sources = sorted(sources)\n",
        "label = sorted(label)\n",
        "print(len(sources))\n",
        "print(len(label))"
      ],
      "metadata": {
        "colab": {
          "base_uri": "https://localhost:8080/"
        },
        "id": "ZEJQ6QM5rq7s",
        "outputId": "819bafed-581f-4c1c-e24a-030f75621768"
      },
      "execution_count": null,
      "outputs": [
        {
          "output_type": "stream",
          "name": "stdout",
          "text": [
            "577\n",
            "577\n"
          ]
        }
      ]
    },
    {
      "cell_type": "code",
      "source": [
        "####################################################################\n",
        "## STEP 1:   READ TRAINING IMAGES AND EXTRACT FEATURES  - Sentinel 1\n",
        "################################################################\n",
        "image_dataset_s1 = pd.DataFrame()  #Dataframe to capture image features\n",
        "\n",
        "img_path = \"S1Hand/\" ## CHANGE ME!!!\n",
        "for image in os.listdir(img_path):\n",
        "  df = pd.DataFrame()  #Temporary data frame to capture information for each loop.\n",
        "  img = imread(img_path+image)\n",
        "\n",
        "  vv = imread(img_path + image)[0:1,:,:].reshape((128,128)) \n",
        "  vh = imread(img_path + image)[1:2:,:,:].reshape((128,128))\n",
        "  vv_vh = (vv/vh)\n",
        " \n",
        "  #Add pixel values to the data frame\n",
        "  vv_values = vv.reshape(-1)\n",
        "  df['VV'] = vv_values   #Pixel value itself as a feature\n",
        "            \n",
        "  vh_values = vh.reshape(-1)\n",
        "  df['VH'] = vh_values   \n",
        "  # df['Image_Names1']=image          \n",
        "  vv_vh_values = vv_vh.reshape(-1)\n",
        "  df['VV/VH'] = vv_vh_values   \n",
        "\n",
        "  #MEDIAN with sigma=3\n",
        "  median_img = nd.median_filter(vh, size=3)\n",
        "  median_img1 = median_img.reshape(-1)\n",
        "  df['Median_s3'] = median_img1\n",
        "\n",
        "  #VARIANCE with size=3\n",
        "  variance_img = nd.generic_filter(vh, np.var, size=3)\n",
        "  variance_img1 = variance_img.reshape(-1)\n",
        "  df['Variance_s3'] = variance_img1  \n",
        "\n",
        "  #ROBERTS EDGE\n",
        "  edge_roberts = roberts(vh)\n",
        "  edge_roberts1 = edge_roberts.reshape(-1)\n",
        "  df['Roberts'] = edge_roberts1\n",
        "\n",
        "  ######################################                    \n",
        "  #Update dataframe for images to include details for each image in the loop\n",
        "  image_dataset_s1 = image_dataset_s1.append(df)"
      ],
      "metadata": {
        "id": "OkJr62UnrrDM"
      },
      "execution_count": null,
      "outputs": []
    },
    {
      "cell_type": "code",
      "source": [
        "###########################################################\n",
        "# STEP 2: READ LABELED IMAGES (MASKS) AND CREATE ANOTHER DATAFRAME\n",
        "    # WITH LABEL VALUES AND LABEL FILE NAMES\n",
        "##########################################################\n",
        "mask_dataset = pd.DataFrame()  #Create dataframe to capture mask info.\n",
        "\n",
        "mask_path = \"S1OtsuLabelHand/\" ### CHANGE ME!!!\n",
        "for mask in label:   #os.listdir(mask_path):\n",
        "    df2 = pd.DataFrame()  #Temporary dataframe to capture info for each mask in the loop\n",
        "    input_mask = imread(mask_path + mask)\n",
        "    label = input_mask\n",
        "    #Add pixel values to the data frame\n",
        "    label_values = label.reshape(-1)\n",
        "    df2['Label_Value'] = label_values\n",
        "    df2['Mask_Name'] = mask\n",
        "    mask_dataset = mask_dataset.append(df2)  #Update mask dataframe with all the info from each mask"
      ],
      "metadata": {
        "id": "YqQ4xQHkrrJI"
      },
      "execution_count": null,
      "outputs": []
    },
    {
      "cell_type": "code",
      "source": [
        "################################################################\n",
        " #  STEP 3: GET DATA READY FOR RANDOM FOREST (or other classifier)\n",
        " # COMBINE BOTH DATAFRAMES INTO A SINGLE DATASET\n",
        "###############################################################\n",
        "dataset = pd.concat([image_dataset_s1, mask_dataset], axis=1)    #Concatenate both image and mask datasets\n",
        "\n",
        "##If we do not want to include pixels with value 0 \n",
        "dataset.replace([np.inf, -np.inf], np.nan, inplace=True)\n",
        "# dataset.fillna(-1, inplace=True)\n",
        "dataset.fillna(999, inplace=True)\n",
        "# dataset = dataset[dataset.Label_Value != -1]\n",
        "dataset.dropna()\n",
        "# dataset = dataset.reset_index()\n",
        "\n",
        "#Assign training features to X and labels to Y\n",
        "#Drop columns that are not relevant for training (non-features)\n",
        "X = dataset.drop(labels = [\"Mask_Name\",\"Label_Value\"], axis=1) \n",
        "\n",
        "#Assign label values to Y (our prediction)\n",
        "Y = dataset[\"Label_Value\"].values "
      ],
      "metadata": {
        "id": "74VsDc8crrQW"
      },
      "execution_count": null,
      "outputs": []
    },
    {
      "cell_type": "code",
      "source": [
        "## Sanity Check\n",
        "print(X.shape)\n",
        "print(Y.shape)"
      ],
      "metadata": {
        "colab": {
          "base_uri": "https://localhost:8080/"
        },
        "id": "1hZ5M4t5rraK",
        "outputId": "94416644-e833-4b6c-c03f-67b3b7fcbfa4"
      },
      "execution_count": null,
      "outputs": [
        {
          "output_type": "stream",
          "name": "stdout",
          "text": [
            "(9453568, 6)\n",
            "(9453568,)\n"
          ]
        }
      ]
    },
    {
      "cell_type": "code",
      "source": [
        "################################################################\n",
        " #  STEP : Scale The Features\n",
        "###############################################################\n",
        "from sklearn import preprocessing\n",
        "scaler = preprocessing.StandardScaler().fit(X)\n",
        "X_scaled = scaler.transform(X)"
      ],
      "metadata": {
        "id": "O7QyTZMfr-rx"
      },
      "execution_count": null,
      "outputs": []
    },
    {
      "cell_type": "code",
      "source": [
        "## Split data into train and test to verify accuracy after fitting the model. \n",
        "from sklearn.model_selection import train_test_split\n",
        "X_train, X_test, y_train, y_test = train_test_split(X_scaled, Y, test_size=0.3) #random_state=20"
      ],
      "metadata": {
        "id": "Zg0SB0d_r-xe"
      },
      "execution_count": null,
      "outputs": []
    },
    {
      "cell_type": "code",
      "source": [
        "####################################################################\n",
        "# STEP 4: Define the classifier and fit a model with our training data\n",
        "###################################################################\n",
        "\n",
        "# Import training classifier\n",
        "from sklearn.ensemble import RandomForestClassifier\n",
        "## Instantiate model with n number of decision trees\n",
        "model = RandomForestClassifier(n_estimators = 20, verbose=10)\n",
        "\n",
        "## Train the model on training data\n",
        "model.fit(X_scaled, Y)"
      ],
      "metadata": {
        "colab": {
          "base_uri": "https://localhost:8080/"
        },
        "id": "Gb27yb2Pr-54",
        "outputId": "fe0aed12-2788-48b7-9aa5-4da8e0947f42"
      },
      "execution_count": null,
      "outputs": [
        {
          "output_type": "stream",
          "name": "stderr",
          "text": [
            "[Parallel(n_jobs=1)]: Using backend SequentialBackend with 1 concurrent workers.\n"
          ]
        },
        {
          "output_type": "stream",
          "name": "stdout",
          "text": [
            "building tree 1 of 20\n"
          ]
        },
        {
          "output_type": "stream",
          "name": "stderr",
          "text": [
            "[Parallel(n_jobs=1)]: Done   1 out of   1 | elapsed:  1.2min remaining:    0.0s\n"
          ]
        },
        {
          "output_type": "stream",
          "name": "stdout",
          "text": [
            "building tree 2 of 20\n"
          ]
        },
        {
          "output_type": "stream",
          "name": "stderr",
          "text": [
            "[Parallel(n_jobs=1)]: Done   2 out of   2 | elapsed:  2.4min remaining:    0.0s\n"
          ]
        },
        {
          "output_type": "stream",
          "name": "stdout",
          "text": [
            "building tree 3 of 20\n"
          ]
        },
        {
          "output_type": "stream",
          "name": "stderr",
          "text": [
            "[Parallel(n_jobs=1)]: Done   3 out of   3 | elapsed:  3.9min remaining:    0.0s\n"
          ]
        },
        {
          "output_type": "stream",
          "name": "stdout",
          "text": [
            "building tree 4 of 20\n"
          ]
        },
        {
          "output_type": "stream",
          "name": "stderr",
          "text": [
            "[Parallel(n_jobs=1)]: Done   4 out of   4 | elapsed:  5.3min remaining:    0.0s\n"
          ]
        },
        {
          "output_type": "stream",
          "name": "stdout",
          "text": [
            "building tree 5 of 20\n"
          ]
        },
        {
          "output_type": "stream",
          "name": "stderr",
          "text": [
            "[Parallel(n_jobs=1)]: Done   5 out of   5 | elapsed:  6.6min remaining:    0.0s\n"
          ]
        },
        {
          "output_type": "stream",
          "name": "stdout",
          "text": [
            "building tree 6 of 20\n"
          ]
        },
        {
          "output_type": "stream",
          "name": "stderr",
          "text": [
            "[Parallel(n_jobs=1)]: Done   6 out of   6 | elapsed:  7.8min remaining:    0.0s\n"
          ]
        },
        {
          "output_type": "stream",
          "name": "stdout",
          "text": [
            "building tree 7 of 20\n"
          ]
        },
        {
          "output_type": "stream",
          "name": "stderr",
          "text": [
            "[Parallel(n_jobs=1)]: Done   7 out of   7 | elapsed:  9.0min remaining:    0.0s\n"
          ]
        },
        {
          "output_type": "stream",
          "name": "stdout",
          "text": [
            "building tree 8 of 20\n"
          ]
        },
        {
          "output_type": "stream",
          "name": "stderr",
          "text": [
            "[Parallel(n_jobs=1)]: Done   8 out of   8 | elapsed: 10.6min remaining:    0.0s\n"
          ]
        },
        {
          "output_type": "stream",
          "name": "stdout",
          "text": [
            "building tree 9 of 20\n"
          ]
        },
        {
          "output_type": "stream",
          "name": "stderr",
          "text": [
            "[Parallel(n_jobs=1)]: Done   9 out of   9 | elapsed: 12.0min remaining:    0.0s\n"
          ]
        },
        {
          "output_type": "stream",
          "name": "stdout",
          "text": [
            "building tree 10 of 20\n",
            "building tree 11 of 20\n",
            "building tree 12 of 20\n",
            "building tree 13 of 20\n",
            "building tree 14 of 20\n",
            "building tree 15 of 20\n",
            "building tree 16 of 20\n",
            "building tree 17 of 20\n",
            "building tree 18 of 20\n",
            "building tree 19 of 20\n",
            "building tree 20 of 20\n"
          ]
        },
        {
          "output_type": "stream",
          "name": "stderr",
          "text": [
            "[Parallel(n_jobs=1)]: Done  20 out of  20 | elapsed: 27.0min finished\n"
          ]
        },
        {
          "output_type": "execute_result",
          "data": {
            "text/plain": [
              "RandomForestClassifier(n_estimators=20, verbose=10)"
            ]
          },
          "metadata": {},
          "execution_count": 11
        }
      ]
    },
    {
      "cell_type": "code",
      "source": [
        "#######################################################\n",
        "# STEP 5: Accuracy check\n",
        "#########################################################\n",
        "\n",
        "from sklearn import metrics\n",
        "prediction_test = model.predict(X_scaled)\n",
        "## Check accuracy on test dataset. \n",
        "print (\"Accuracy = \", metrics.accuracy_score(Y, prediction_test))\n",
        "print(\"IOU = \", metrics.jaccard_score(Y, prediction_test))\n",
        "print(\"Precision = \", metrics.precision_score(Y, prediction_test))\n",
        "print(\"Recall = \", \tmetrics.recall_score(Y, prediction_test))\n",
        "print(\"F1 score = \", metrics.f1_score(Y, prediction_test))"
      ],
      "metadata": {
        "colab": {
          "base_uri": "https://localhost:8080/"
        },
        "id": "ItUaVdbyr_JI",
        "outputId": "f9c43ccb-a67c-4303-e734-1601318c1596"
      },
      "execution_count": null,
      "outputs": [
        {
          "output_type": "stream",
          "name": "stderr",
          "text": [
            "[Parallel(n_jobs=1)]: Using backend SequentialBackend with 1 concurrent workers.\n",
            "[Parallel(n_jobs=1)]: Done   1 out of   1 | elapsed:    6.8s remaining:    0.0s\n",
            "[Parallel(n_jobs=1)]: Done   2 out of   2 | elapsed:   14.2s remaining:    0.0s\n",
            "[Parallel(n_jobs=1)]: Done   3 out of   3 | elapsed:   20.6s remaining:    0.0s\n",
            "[Parallel(n_jobs=1)]: Done   4 out of   4 | elapsed:   27.9s remaining:    0.0s\n",
            "[Parallel(n_jobs=1)]: Done   5 out of   5 | elapsed:   35.0s remaining:    0.0s\n",
            "[Parallel(n_jobs=1)]: Done   6 out of   6 | elapsed:   42.5s remaining:    0.0s\n",
            "[Parallel(n_jobs=1)]: Done   7 out of   7 | elapsed:   49.4s remaining:    0.0s\n",
            "[Parallel(n_jobs=1)]: Done   8 out of   8 | elapsed:   56.7s remaining:    0.0s\n",
            "[Parallel(n_jobs=1)]: Done   9 out of   9 | elapsed:  1.1min remaining:    0.0s\n",
            "[Parallel(n_jobs=1)]: Done  20 out of  20 | elapsed:  2.3min finished\n"
          ]
        },
        {
          "output_type": "stream",
          "name": "stdout",
          "text": [
            "Accuracy =  0.9976450161462846\n",
            "IOU =  0.995301098130602\n",
            "Precision =  0.9976450161462846\n",
            "Recall =  0.9976450161462846\n",
            "F1 score =  0.9976450161462846\n"
          ]
        }
      ]
    },
    {
      "cell_type": "code",
      "source": [
        "### Feature Importance ####\n",
        "# model.feature_importances_\n",
        "\n",
        "# plt.barh(image_dataset.columns, model.feature_importances_)\n",
        "fig=plt.figure(figsize=(10,10))\n",
        "sorted_idx = model.feature_importances_.argsort()\n",
        "plt.barh(X.columns[sorted_idx], model.feature_importances_[sorted_idx])\n",
        "# plt.margins(x=0, y=-0.10) \n",
        "plt.xlabel(\"Random Forest Feature Importance\")"
      ],
      "metadata": {
        "colab": {
          "base_uri": "https://localhost:8080/",
          "height": 623
        },
        "id": "XJ4jhlF6r_Oc",
        "outputId": "f5cbf915-6edb-485d-9c47-bb26f57ca50c"
      },
      "execution_count": null,
      "outputs": [
        {
          "output_type": "execute_result",
          "data": {
            "text/plain": [
              "Text(0.5, 0, 'Random Forest Feature Importance')"
            ]
          },
          "metadata": {},
          "execution_count": 14
        },
        {
          "output_type": "display_data",
          "data": {
            "text/plain": [
              "<Figure size 720x720 with 1 Axes>"
            ],
            "image/png": "[encoded data removed]"
          },
          "metadata": {
            "needs_background": "light"
          }
        }
      ]
    },
    {
      "cell_type": "code",
      "source": [
        "##########################################################\n",
        "#STEP 6: SAVE MODEL FOR FUTURE USE\n",
        "###########################################################\n",
        "\n",
        "##Save the trained model as pickle string to disk for future use\n",
        "model_name = \"RF_S1Hand\"\n",
        "pickle.dump(model, open(model_name, 'wb'))\n",
        "#\n",
        "##To test the model on future datasets\n",
        "#loaded_model = pickle.load(open(model_name, 'rb'))"
      ],
      "metadata": {
        "id": "Z7oo5HBIsNj7"
      },
      "execution_count": null,
      "outputs": []
    },
    {
      "cell_type": "code",
      "source": [],
      "metadata": {
        "id": "hd5yz2jUsNoZ"
      },
      "execution_count": null,
      "outputs": []
    },
    {
      "cell_type": "markdown",
      "source": [
        "Classification Map - Visual Validation"
      ],
      "metadata": {
        "id": "-_a86U5WICLe"
      }
    },
    {
      "cell_type": "code",
      "source": [
        "def feature_extraction(imge):\n",
        "  image_dataset = pd.DataFrame()  #Dataframe to capture image features\n",
        "\n",
        "  img_path = \"S1Hand/\" ## CHANGE ME!!!\n",
        "  df = pd.DataFrame()  #Temporary data frame to capture information for each loop.\n",
        "  img = imread(img_path+imge)\n",
        "\n",
        "  vv = imread(img_path + imge)[0:1,:,:].reshape((128,128)) \n",
        "  vh = imread(img_path + imge)[1:2:,:,:].reshape((128,128))\n",
        "  vv_vh = (vv/vh)\n",
        " \n",
        "  # Add pixel values to the data frame\n",
        "  vv_values = vv.reshape(-1)\n",
        "  df['VV'] = vv_values   #Pixel value itself as a feature\n",
        "            \n",
        "  vh_values = vh.reshape(-1)\n",
        "  df['VH'] = vh_values   \n",
        "  # df['Image_Names1']=image          \n",
        "  vv_vh_values = vv_vh.reshape(-1)\n",
        "  df['VV/VH'] = vv_vh_values   \n",
        "\n",
        "  # MEDIAN with sigma=3\n",
        "  median_img = nd.median_filter(vh, size=3)\n",
        "  median_img1 = median_img.reshape(-1)\n",
        "  df['Median_s3'] = median_img1\n",
        "\n",
        "  # VARIANCE with size=3\n",
        "  variance_img = nd.generic_filter(vh, np.var, size=3)\n",
        "  variance_img1 = variance_img.reshape(-1)\n",
        "  df['Variance_s3'] = variance_img1  \n",
        "\n",
        "  # ROBERTS EDGE\n",
        "  edge_roberts = roberts(vh)\n",
        "  edge_roberts1 = edge_roberts.reshape(-1)\n",
        "  df['Roberts'] = edge_roberts1\n",
        "\n",
        "  ######################################                    \n",
        "  #Update dataframe for images to include details for each image in the loop\n",
        "  image_dataset = image_dataset.append(df)\n",
        "  return df"
      ],
      "metadata": {
        "id": "LqBD1uwHIEnP"
      },
      "execution_count": null,
      "outputs": []
    },
    {
      "cell_type": "code",
      "source": [
        "# Plot  a Predicted sample image\n",
        "img1 = sources[6]\n",
        "print(img1)\n",
        "X = feature_extraction(img1)\n",
        "print(X.shape)\n",
        "from sklearn import preprocessing\n",
        "scaler = preprocessing.StandardScaler().fit(X)\n",
        "X_scaled = scaler.transform(X)\n",
        "result = model.predict(X_scaled)\n",
        "segmented = result.reshape((128,128))\n",
        "plt.imshow(segmented, cmap='gist_gray')"
      ],
      "metadata": {
        "colab": {
          "base_uri": "https://localhost:8080/",
          "height": 511
        },
        "id": "yItZLsrmJs0K",
        "outputId": "81f505f5-5527-4607-8c04-ce6e41ce32be"
      },
      "execution_count": null,
      "outputs": [
        {
          "output_type": "stream",
          "name": "stdout",
          "text": [
            "Bolivia_23014_S1Hand_0384512128.tif\n",
            "(16384, 6)\n"
          ]
        },
        {
          "output_type": "stream",
          "name": "stderr",
          "text": [
            "[Parallel(n_jobs=1)]: Using backend SequentialBackend with 1 concurrent workers.\n",
            "[Parallel(n_jobs=1)]: Done   1 out of   1 | elapsed:    0.0s remaining:    0.0s\n",
            "[Parallel(n_jobs=1)]: Done   2 out of   2 | elapsed:    0.0s remaining:    0.0s\n",
            "[Parallel(n_jobs=1)]: Done   3 out of   3 | elapsed:    0.0s remaining:    0.0s\n",
            "[Parallel(n_jobs=1)]: Done   4 out of   4 | elapsed:    0.0s remaining:    0.0s\n",
            "[Parallel(n_jobs=1)]: Done   5 out of   5 | elapsed:    0.0s remaining:    0.0s\n",
            "[Parallel(n_jobs=1)]: Done   6 out of   6 | elapsed:    0.0s remaining:    0.0s\n",
            "[Parallel(n_jobs=1)]: Done   7 out of   7 | elapsed:    0.0s remaining:    0.0s\n",
            "[Parallel(n_jobs=1)]: Done   8 out of   8 | elapsed:    0.1s remaining:    0.0s\n",
            "[Parallel(n_jobs=1)]: Done   9 out of   9 | elapsed:    0.1s remaining:    0.0s\n",
            "[Parallel(n_jobs=1)]: Done  20 out of  20 | elapsed:    0.2s finished\n"
          ]
        },
        {
          "output_type": "execute_result",
          "data": {
            "text/plain": [
              "<matplotlib.image.AxesImage at 0x7f06cc821880>"
            ]
          },
          "metadata": {},
          "execution_count": 46
        },
        {
          "output_type": "display_data",
          "data": {
            "text/plain": [
              "<Figure size 432x288 with 1 Axes>"
            ],
            "image/png": "[encoded data removed]"
          },
          "metadata": {
            "needs_background": "light"
          }
        }
      ]
    },
    {
      "cell_type": "code",
      "source": [
        "# Plot the corresponding ground truth label\n",
        "label1 = label[6]\n",
        "mask_path = \"S1OtsuLabelHand/\"\n",
        "input_mask = imread(mask_path + label1)\n",
        "\n",
        "plt.imshow(input_mask, cmap='gist_gray')"
      ],
      "metadata": {
        "id": "yKfk1oUqJuRr",
        "colab": {
          "base_uri": "https://localhost:8080/",
          "height": 285
        },
        "outputId": "6a90260b-c3bf-4bec-edae-1a5a201ed051"
      },
      "execution_count": null,
      "outputs": [
        {
          "output_type": "execute_result",
          "data": {
            "text/plain": [
              "<matplotlib.image.AxesImage at 0x7f5fd138bf40>"
            ]
          },
          "metadata": {},
          "execution_count": 4
        },
        {
          "output_type": "display_data",
          "data": {
            "text/plain": [
              "<Figure size 432x288 with 1 Axes>"
            ],
            "image/png": "[encoded data removed]"
          },
          "metadata": {
            "needs_background": "light"
          }
        }
      ]
    }
  ]
}
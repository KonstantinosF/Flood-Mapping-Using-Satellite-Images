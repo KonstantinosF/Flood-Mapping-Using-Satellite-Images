{
  "nbformat": 4,
  "nbformat_minor": 0,
  "metadata": {
    "colab": {
      "provenance": []
    },
    "kernelspec": {
      "name": "python3",
      "display_name": "Python 3"
    },
    "language_info": {
      "name": "python"
    }
  },
  "cells": [
    {
      "cell_type": "code",
      "source": [
        "# Load Dependencies\n",
        "import os\n",
        "import numpy as np\n",
        "from skimage.io import imread, imshow\n",
        "from collections import Counter\n",
        "import subprocess \n",
        "from subprocess import PIPE\n",
        "from skimage.io import imread, imshow, imsave\n",
        "from itertools import product\n",
        "from skimage.filters import threshold_otsu\n",
        "\n",
        "import cv2\n",
        "import pandas as pd\n",
        "from scipy import ndimage as nd\n",
        "from matplotlib import pyplot as plt\n",
        "import glob"
      ],
      "metadata": {
        "id": "3Jh6L8dJcaU4"
      },
      "execution_count": null,
      "outputs": []
    },
    {
      "cell_type": "code",
      "source": [
        "def otsu_threshold (img):\n",
        "  # return the number of threshold\n",
        "  # np.where to binarize the image given the threshold.\n",
        "  thresh = threshold_otsu(img)\n",
        "  # make all pixels < threshold black\n",
        "  binarized = 1.0 * (img > thresh)\n",
        "\n",
        "  return binarized.astype(int)"
      ],
      "metadata": {
        "id": "AGYeQaT8eKvi"
      },
      "execution_count": null,
      "outputs": []
    },
    {
      "cell_type": "code",
      "execution_count": null,
      "metadata": {
        "id": "f0X6U4wsa6ZC"
      },
      "outputs": [],
      "source": [
        "# Create a list of names from masks including at least one cloudy pixel, with the scope not including them in our analysis.\n",
        "source_path = os.getcwd() + '/LabelHand/'\n",
        "listimages=[]\n",
        "alllist = []\n",
        "for item in os.listdir(source_path):\n",
        "    print(item)\n",
        "    img = imread(source_path+item)\n",
        "    alllist.append(item)\n",
        "    countminus = np.count_nonzero(img ==-1)    \n",
        "    if countminus==0: \n",
        "      x = item.split(\"_\")\n",
        "      name = x[0] +\"_\"+ x[1]+\"_\"+x[3]\n",
        "      listimages.append(name)"
      ]
    },
    {
      "cell_type": "code",
      "source": [
        "# Create two new list which host only the images without clouds.\n",
        "folders = [\"S2Hand\",\"LabelHand\"]\n",
        "S2List = []\n",
        "LabeList =[]\n",
        "\n",
        "for folder in folders:\n",
        "    source_path = os.getcwd() + '/' + folder +'/'\n",
        "    for item in os.listdir(source_path):\n",
        "        x = item.split(\"_\")\n",
        "        name = x[0] +\"_\"+ x[1]+\"_\"+x[3]\n",
        "        if name in listimages:\n",
        "            # path = os.path.join(source_path, item)\n",
        "            # print(item)\n",
        "            if folder == \"S2Hand\":\n",
        "              S2List.append(item)\n",
        "            else:\n",
        "              LabeList.append(item)"
      ],
      "metadata": {
        "id": "iK-hN5_WgWn9"
      },
      "execution_count": null,
      "outputs": []
    },
    {
      "cell_type": "code",
      "source": [
        "source_paths = \"S2Hand/\"\n",
        "label_path = \"LabelHand/\"\n",
        "\n",
        "## Sanity Check\n",
        "S2List = sorted(S2List)\n",
        "LabeList = sorted(LabeList)\n",
        "print(len(S2List))\n",
        "print(len(LabeList))\n",
        "\n",
        "print(f\"The first image:\", S2List[0])\n",
        "print(f\"The first image:\", LabeList[0])"
      ],
      "metadata": {
        "colab": {
          "base_uri": "https://localhost:8080/"
        },
        "id": "YWyFD6_id7BX",
        "outputId": "ed402c50-cea6-4494-a65a-b2310da01eb5"
      },
      "execution_count": null,
      "outputs": [
        {
          "output_type": "stream",
          "name": "stdout",
          "text": [
            "337\n",
            "337\n",
            "The first image: Bolivia_103757_S2Hand_384256384512.tif\n",
            "The label image: Bolivia_103757_LabelHand_384256384512.tif\n"
          ]
        }
      ]
    },
    {
      "cell_type": "code",
      "source": [
        "####################################################################\n",
        "## STEP 1:   READ TRAINING IMAGES AND EXTRACT FEATURES  - Sentinel 1\n",
        "################################################################\n",
        "image_dataset_s1 = pd.DataFrame()  #Dataframe to capture image features\n",
        "\n",
        "img_path = \"S2Hand/\" ## CHANGE ME!!!\n",
        "for image in S2List:\n",
        "  df = pd.DataFrame()  #Temporary data frame to capture information for each loop.\n",
        "  \n",
        "  green = imread(img_path + image)[1:2,:,:].reshape((128,128))\n",
        "  swir = imread(img_path + image)[4:5,:,:].reshape((128,128))\n",
        "\n",
        "# Sentinel-2 MNDWI = (B03 - B08) / (B03 + B08)\n",
        "  ndwi = (green - swir)/ (green + swir)\n",
        "  binaryimage = otsu_threshold(ndwi)  \n",
        "  ndwi_values = binaryimage.reshape(-1)\n",
        "  df['Predicted'] = ndwi_values  \n",
        "\n",
        "  ######################################                    \n",
        "  #Update dataframe for images to include details for each image in the loop\n",
        "  image_dataset_s1 = image_dataset_s1.append(df)"
      ],
      "metadata": {
        "id": "IUEibEtKd7Ir"
      },
      "execution_count": null,
      "outputs": []
    },
    {
      "cell_type": "code",
      "source": [
        "###########################################################\n",
        "# STEP 2: READ LABELED IMAGES (MASKS) AND CREATE ANOTHER DATAFRAME\n",
        "    # WITH LABEL VALUES AND LABEL FILE NAMES\n",
        "##########################################################\n",
        "mask_dataset = pd.DataFrame()  #Create dataframe to capture mask info.\n",
        "\n",
        "mask_path = \"LabelHand/\" ### CHANGE ME!!!\n",
        "for mask in LabeList:   #os.listdir(mask_path):\n",
        "    df2 = pd.DataFrame()  #Temporary dataframe to capture info for each mask in the loop\n",
        "    input_mask = imread(mask_path + mask)\n",
        "    label = input_mask\n",
        "    #Add pixel values to the data frame\n",
        "    label_values = label.reshape(-1)\n",
        "    df2['Label_Value'] = label_values\n",
        "    df2['Mask_Name'] = mask\n",
        "    mask_dataset = mask_dataset.append(df2)  #Update mask dataframe with all the info from each mask"
      ],
      "metadata": {
        "id": "Q4FQPd1_e4VP"
      },
      "execution_count": null,
      "outputs": []
    },
    {
      "cell_type": "code",
      "source": [
        "# Sanity Check \n",
        "print(len(mask_dataset.Mask_Name))\n",
        "print(len(image_dataset_s1.Predicted))"
      ],
      "metadata": {
        "colab": {
          "base_uri": "https://localhost:8080/"
        },
        "id": "Cgemt6RGsLy1",
        "outputId": "ad6b15b4-288f-49f2-be86-bb0ea6618647"
      },
      "execution_count": null,
      "outputs": [
        {
          "output_type": "execute_result",
          "data": {
            "text/plain": [
              "5521408"
            ]
          },
          "metadata": {},
          "execution_count": 60
        }
      ]
    },
    {
      "cell_type": "code",
      "source": [
        " #Concatenate both image and mask datasets\n",
        "dataset = pd.concat([image_dataset_s1, mask_dataset], axis=1)   \n",
        "\n",
        "# Drop NA\n",
        "dataset.dropna(inplace=True)\n",
        "dataset.reset_index(drop=True, inplace=True)"
      ],
      "metadata": {
        "id": "sM2KNyZSsaTX"
      },
      "execution_count": null,
      "outputs": []
    },
    {
      "cell_type": "code",
      "source": [
        "# Transform label and predicted values into vectors.\n",
        "y_true = dataset.Label_Value.values\n",
        "y_pred = dataset.Predicted.values"
      ],
      "metadata": {
        "id": "YXjQiaI1sabg"
      },
      "execution_count": null,
      "outputs": []
    },
    {
      "cell_type": "code",
      "source": [
        "# Print Accuracy\n",
        "from sklearn.metrics import accuracy_score\n",
        "acc = accuracy_score(y_true, y_pred, normalize=True)\n",
        "print(acc)"
      ],
      "metadata": {
        "colab": {
          "base_uri": "https://localhost:8080/"
        },
        "id": "Xcsch_3ds0BH",
        "outputId": "eeba1e17-8c5c-46d2-9f96-322aa5c306a3"
      },
      "execution_count": null,
      "outputs": [
        {
          "output_type": "stream",
          "name": "stdout",
          "text": [
            "0.8140709760988502\n"
          ]
        }
      ]
    },
    {
      "cell_type": "code",
      "source": [
        "# Print F1 Score\n",
        "from sklearn.metrics import f1_score\n",
        "f1_macro = f1_score(y_true, y_pred, average='macro')\n",
        "f1_micro = f1_score(y_true, y_pred, average='micro')\n",
        "\n",
        "print(\"F1 macro\", f1_macro)\n",
        "print(\"F1 micro\", f1_micro)"
      ],
      "metadata": {
        "colab": {
          "base_uri": "https://localhost:8080/"
        },
        "id": "-B5gVw2As0GZ",
        "outputId": "b33ca28a-1074-4633-9130-faf548ac7fa8"
      },
      "execution_count": null,
      "outputs": [
        {
          "output_type": "stream",
          "name": "stdout",
          "text": [
            "F1 macro 0.8118777041639389\n",
            "F1 micro 0.8140709760988503\n"
          ]
        }
      ]
    },
    {
      "cell_type": "code",
      "source": [
        "# Print IoU \n",
        "from sklearn.metrics import jaccard_score\n",
        "iou = jaccard_score(y_true, y_pred)\n",
        "print(iou)"
      ],
      "metadata": {
        "colab": {
          "base_uri": "https://localhost:8080/"
        },
        "id": "tqhO1t49tL6d",
        "outputId": "cc594554-08c7-494a-dc3c-1190f1429e99"
      },
      "execution_count": null,
      "outputs": [
        {
          "output_type": "stream",
          "name": "stdout",
          "text": [
            "0.6550332503335115\n"
          ]
        }
      ]
    },
    {
      "cell_type": "code",
      "source": [
        "# Print Recall \n",
        "from sklearn.metrics import recall_score\n",
        "recal1 = recall_score(y_true, y_pred, average='macro')\n",
        "recal2 = recall_score(y_true, y_pred, average='micro')\n",
        "print(recal1, recal2)"
      ],
      "metadata": {
        "colab": {
          "base_uri": "https://localhost:8080/"
        },
        "id": "mWwMphIatOLo",
        "outputId": "25aa20b6-6cd4-40df-cd4d-4485f8e44f23"
      },
      "execution_count": null,
      "outputs": [
        {
          "output_type": "stream",
          "name": "stdout",
          "text": [
            "0.8343929280036686 0.8140709760988502\n"
          ]
        }
      ]
    },
    {
      "cell_type": "code",
      "source": [
        "# Print Precision score\n",
        "from sklearn.metrics import precision_score\n",
        "pre1 = precision_score(y_true, y_pred, average='macro')\n",
        "pre2 = precision_score(y_true, y_pred, average='micro')\n",
        "print(pre1, pre2)\n",
        "\n",
        "#'micro': Calculate metrics globally by counting the total true positives, false negatives and false positives.\n",
        "#'macro': Calculate metrics for each label, and find their unweighted mean. This does not take label imbalance into account."
      ],
      "metadata": {
        "colab": {
          "base_uri": "https://localhost:8080/"
        },
        "id": "8DOD8U_xtQhw",
        "outputId": "c807cde6-467f-4824-d72c-29cbc853834d"
      },
      "execution_count": null,
      "outputs": [
        {
          "output_type": "stream",
          "name": "stdout",
          "text": [
            "0.816237197939323 0.8140709760988502\n"
          ]
        }
      ]
    },
    {
      "cell_type": "code",
      "source": [
        "## Plot an example of predicted image\n",
        "source_paths = \"S2Hand/\"\n",
        "imagetobeviz = S2List[0] # plot the first image of the list\n",
        "\n",
        "\n",
        "green = imread(source_paths + imagetobeviz)[1:2,:,:].reshape((128,128))\n",
        "swir = imread(source_paths + imagetobeviz)[4:5,:,:].reshape((128,128))\n",
        "\n",
        "# Sentinel-2 MNDWI2 = (B03 - B08) / (B03 + B08)\n",
        "ndwi = (green - swir)/ (green + swir)\n",
        "binaryimage = otsu_threshold(ndwi)  \n",
        "\n",
        "plt.imshow(binaryimage, cmap='binary')\n"
      ],
      "metadata": {
        "colab": {
          "base_uri": "https://localhost:8080/",
          "height": 285
        },
        "id": "U_TyRwvw6mA6",
        "outputId": "946ce7e9-b2e7-4f59-8f00-5bd0b4233547"
      },
      "execution_count": null,
      "outputs": [
        {
          "output_type": "execute_result",
          "data": {
            "text/plain": [
              "<matplotlib.image.AxesImage at 0x7f3b51588a90>"
            ]
          },
          "metadata": {},
          "execution_count": 72
        },
        {
          "output_type": "display_data",
          "data": {
            "text/plain": [
              "<Figure size 432x288 with 1 Axes>"
            ],
            "image/png": "[encoded data removed]"
          },
          "metadata": {
            "needs_background": "light"
          }
        }
      ]
    },
    {
      "cell_type": "code",
      "source": [
        "# Print the Corresponding Ground Truth Image\n",
        "label_path = \"LabelHand/\"\n",
        "\n",
        "labeltobeviz = LabeList[0]\n",
        "\n",
        "mask = imread(label_path + labeltobeviz)\n",
        "\n",
        "plt.imshow(mask, cmap='binary')"
      ],
      "metadata": {
        "colab": {
          "base_uri": "https://localhost:8080/",
          "height": 285
        },
        "id": "TrdfTWvu71A7",
        "outputId": "8e9c2b11-d467-4748-d04d-f853feca0e7f"
      },
      "execution_count": null,
      "outputs": [
        {
          "output_type": "execute_result",
          "data": {
            "text/plain": [
              "<matplotlib.image.AxesImage at 0x7f3b5156b4f0>"
            ]
          },
          "metadata": {},
          "execution_count": 73
        },
        {
          "output_type": "display_data",
          "data": {
            "text/plain": [
              "<Figure size 432x288 with 1 Axes>"
            ],
            "image/png": "[encoded data removed]"
          },
          "metadata": {
            "needs_background": "light"
          }
        }
      ]
    }
  ]
}
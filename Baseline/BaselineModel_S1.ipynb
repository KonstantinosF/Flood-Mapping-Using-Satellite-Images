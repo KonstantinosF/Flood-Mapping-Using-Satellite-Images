{
  "nbformat": 4,
  "nbformat_minor": 0,
  "metadata": {
    "colab": {
      "provenance": []
    },
    "kernelspec": {
      "name": "python3",
      "display_name": "Python 3"
    },
    "language_info": {
      "name": "python"
    }
  },
  "cells": [
    {
      "cell_type": "code",
      "execution_count": null,
      "metadata": {
        "id": "4H-ZhDHs_zG5"
      },
      "outputs": [],
      "source": [
        "import numpy as np\n",
        "import cv2\n",
        "import pandas as pd\n",
        "from scipy import ndimage as nd\n",
        " \n",
        "from matplotlib import pyplot as plt\n",
        "import os\n",
        "from skimage.io import imread, imshow\n",
        "import glob\n",
        "from skimage.filters import threshold_otsu"
      ]
    },
    {
      "cell_type": "code",
      "source": [
        "cd /content/drive/MyDrive/DATA/Hand"
      ],
      "metadata": {
        "colab": {
          "base_uri": "https://localhost:8080/"
        },
        "id": "S3Iqw2vNA237",
        "outputId": "afef92e1-d110-4092-8c87-b8badecb49a2"
      },
      "execution_count": null,
      "outputs": [
        {
          "output_type": "stream",
          "name": "stdout",
          "text": [
            "/content/drive/MyDrive/DATA/Hand\n"
          ]
        }
      ]
    },
    {
      "cell_type": "code",
      "source": [
        "def otsu_threshold (img):\n",
        "  # return the number of threshold\n",
        "  # np.where to binarize the image given the threshold.\n",
        "  thresh = threshold_otsu(img)\n",
        "  # make all pixels > threshold black\n",
        "  binarized = 1.0 * (img < thresh)\n",
        "\n",
        "  return binarized.astype(int)"
      ],
      "metadata": {
        "id": "GTW6L7QH_5u4"
      },
      "execution_count": null,
      "outputs": []
    },
    {
      "cell_type": "code",
      "source": [
        "source_paths = \"S1Hand/\"\n",
        "label_path = \"S1OtsuLabelHand/\"\n",
        "\n",
        "sources = []\n",
        "label = []\n",
        "\n",
        "for file in os.listdir(source_paths):\n",
        "    if file.endswith(\"tif\"):\n",
        "      sources.append(file)\n",
        "\n",
        "       \n",
        "for file in os.listdir(label_path):\n",
        "    if file.endswith(\"tif\"):\n",
        "      label.append(file)\n",
        "\n",
        "\n",
        "## Sanity Check\n",
        "sources = sorted(sources)\n",
        "label = sorted(label)\n",
        "print(len(sources))\n",
        "print(len(label))"
      ],
      "metadata": {
        "colab": {
          "base_uri": "https://localhost:8080/"
        },
        "id": "qhtVj8_q_5x8",
        "outputId": "f24b8c85-7d71-4ae7-fcd3-be5a46296f0a"
      },
      "execution_count": null,
      "outputs": [
        {
          "output_type": "stream",
          "name": "stdout",
          "text": [
            "577\n",
            "577\n"
          ]
        }
      ]
    },
    {
      "cell_type": "code",
      "source": [
        "####################################################################\n",
        "## STEP 1:   READ TRAINING IMAGES AND EXTRACT FEATURES  - Sentinel 1\n",
        "################################################################\n",
        "image_dataset_s1 = pd.DataFrame()  #Dataframe to capture image features\n",
        "\n",
        "img_path = \"S1Hand/\" ## CHANGE ME!!!\n",
        "for image in os.listdir(img_path):\n",
        "  df = pd.DataFrame()  #Temporary data frame to capture information for each loop.\n",
        "  img = imread(img_path+image)\n",
        "\n",
        "  vv = imread(img_path + image)[0:1,:,:].reshape((128,128)) \n",
        "  vh = imread(img_path + image)[1:2:,:,:].reshape((128,128))\n",
        " \n",
        "  vh_new = vh[np.logical_not(np.isnan(vh))]\n",
        "  binaryimage = otsu_threshold(vh_new)          \n",
        "  vh_values = binaryimage.reshape(-1)\n",
        "  df['Predicted'] = vh_values  \n",
        "\n",
        "  ######################################                    \n",
        "  #Update dataframe for images to include details for each image in the loop\n",
        "  image_dataset_s1 = image_dataset_s1.append(df)"
      ],
      "metadata": {
        "id": "V8Hk4t35_842"
      },
      "execution_count": null,
      "outputs": []
    },
    {
      "cell_type": "code",
      "source": [
        "###########################################################\n",
        "# STEP 2: READ LABELED IMAGES (MASKS) AND CREATE ANOTHER DATAFRAME\n",
        "    # WITH LABEL VALUES AND LABEL FILE NAMES\n",
        "##########################################################\n",
        "mask_dataset = pd.DataFrame()  #Create dataframe to capture mask info.\n",
        "\n",
        "mask_path = \"S1OtsuLabelHand/\" ### CHANGE ME!!!\n",
        "for mask in label:   #os.listdir(mask_path):\n",
        "    df2 = pd.DataFrame()  #Temporary dataframe to capture info for each mask in the loop\n",
        "    input_mask = imread(mask_path + mask)\n",
        "    label = input_mask\n",
        "    #Add pixel values to the data frame\n",
        "    label_values = label.reshape(-1)\n",
        "    df2['Label_Value'] = label_values\n",
        "    df2['Mask_Name'] = mask\n",
        "    mask_dataset = mask_dataset.append(df2)  #Update mask dataframe with all the info from each mask"
      ],
      "metadata": {
        "id": "Xjcag_eG_87k"
      },
      "execution_count": null,
      "outputs": []
    },
    {
      "cell_type": "code",
      "source": [
        " #Concatenate both image and mask datasets\n",
        "dataset = pd.concat([image_dataset_s1, mask_dataset], axis=1)   \n",
        "\n",
        "# Drop NA\n",
        "dataset.dropna(inplace=True)\n",
        "dataset.reset_index(drop=True, inplace=True)"
      ],
      "metadata": {
        "id": "Fpr9ROU3AMlX"
      },
      "execution_count": null,
      "outputs": []
    },
    {
      "cell_type": "code",
      "source": [
        "y_true = dataset.Label_Value.values\n",
        "y_pred = dataset.Predicted.values"
      ],
      "metadata": {
        "id": "CVCw1YdqO6Nb"
      },
      "execution_count": null,
      "outputs": []
    },
    {
      "cell_type": "code",
      "source": [
        "from sklearn.metrics import accuracy_score\n",
        "acc = accuracy_score(y_true, y_pred, normalize=True)\n",
        "print(acc)"
      ],
      "metadata": {
        "colab": {
          "base_uri": "https://localhost:8080/"
        },
        "id": "foSp4RmBO6Tk",
        "outputId": "8e4a6fc3-f411-40a8-db59-a70ca74d4df1"
      },
      "execution_count": null,
      "outputs": [
        {
          "output_type": "stream",
          "name": "stdout",
          "text": [
            "0.8616092625773694\n"
          ]
        }
      ]
    },
    {
      "cell_type": "code",
      "source": [
        "from sklearn.metrics import f1_score\n",
        "f1_macro = f1_score(y_true, y_pred, average='macro')\n",
        "f1_micro = f1_score(y_true, y_pred, average='micro')\n",
        "\n",
        "print(\"F1 macro\", f1_macro)\n",
        "print(\"F1 micro\", f1_micro)"
      ],
      "metadata": {
        "colab": {
          "base_uri": "https://localhost:8080/"
        },
        "id": "uSPbJWohPrv4",
        "outputId": "a10d841f-3eb5-4d24-f05b-9b4e18faf4b8"
      },
      "execution_count": null,
      "outputs": [
        {
          "output_type": "stream",
          "name": "stdout",
          "text": [
            "F1 macro 0.8603484307948339\n",
            "F1 micro 0.8616092625773694\n"
          ]
        }
      ]
    },
    {
      "cell_type": "code",
      "source": [
        "from sklearn.metrics import jaccard_score\n",
        "iou = jaccard_score(y_true, y_pred)\n",
        "print(iou)"
      ],
      "metadata": {
        "colab": {
          "base_uri": "https://localhost:8080/"
        },
        "id": "tA_4rC6wQJVt",
        "outputId": "832f6cd9-f96a-4940-e611-17b0aa82e163"
      },
      "execution_count": null,
      "outputs": [
        {
          "output_type": "stream",
          "name": "stdout",
          "text": [
            "0.7347242724562052\n"
          ]
        }
      ]
    },
    {
      "cell_type": "code",
      "source": [
        "from sklearn.metrics import recall_score\n",
        "recal1 = recall_score(y_true, y_pred, average='macro')\n",
        "recal2 = recall_score(y_true, y_pred, average='micro')\n",
        "print(recal1, recal2)"
      ],
      "metadata": {
        "colab": {
          "base_uri": "https://localhost:8080/"
        },
        "id": "sTK-N84QQJYJ",
        "outputId": "7b2ddafb-c182-4430-8531-0be752d5d5c2"
      },
      "execution_count": null,
      "outputs": [
        {
          "output_type": "stream",
          "name": "stdout",
          "text": [
            "0.8590694044957421 0.8616092625773694\n"
          ]
        }
      ]
    },
    {
      "cell_type": "code",
      "source": [
        "from sklearn.metrics import precision_score\n",
        "pre1 = precision_score(y_true, y_pred, average='macro')\n",
        "pre2 = precision_score(y_true, y_pred, average='micro')\n",
        "print(pre1, pre2)"
      ],
      "metadata": {
        "colab": {
          "base_uri": "https://localhost:8080/"
        },
        "id": "RhheyC3qTx_5",
        "outputId": "1497df42-44ca-44c4-d315-888fc21e2b76"
      },
      "execution_count": null,
      "outputs": [
        {
          "output_type": "stream",
          "name": "stdout",
          "text": [
            "0.866012541401326 0.8616092625773694\n"
          ]
        }
      ]
    },
    {
      "cell_type": "markdown",
      "source": [
        "##Classification Maps"
      ],
      "metadata": {
        "id": "faN4nkIM-uzV"
      }
    },
    {
      "cell_type": "code",
      "source": [
        "## Classification Map\n",
        "source_paths = \"S1Hand/\"\n",
        "imagetobeviz = sources[1]\n",
        "\n",
        "# img = imread(img_path+image)\n",
        "\n",
        "vv = imread(source_paths + imagetobeviz)[0:1,:,:].reshape((128,128)) \n",
        "vh = imread(source_paths + imagetobeviz)[1:2:,:,:].reshape((128,128))\n",
        " \n",
        "# vh_new = vh[np.logical_not(np.isnan(vh))]\n",
        "binaryimage_vh = otsu_threshold(vh)     \n",
        "\n",
        "plt.imshow(binaryimage_vh, cmap='binary')"
      ],
      "metadata": {
        "colab": {
          "base_uri": "https://localhost:8080/",
          "height": 285
        },
        "id": "FLbsP-JE-xIN",
        "outputId": "8756d3e8-cc96-4b17-f4ce-8058e0201109"
      },
      "execution_count": null,
      "outputs": [
        {
          "output_type": "execute_result",
          "data": {
            "text/plain": [
              "<matplotlib.image.AxesImage at 0x7fa54d029e50>"
            ]
          },
          "metadata": {},
          "execution_count": 9
        },
        {
          "output_type": "display_data",
          "data": {
            "text/plain": [
              "<Figure size 432x288 with 1 Axes>"
            ],
            "image/png": "[encoded data removed]"
          },
          "metadata": {
            "needs_background": "light"
          }
        }
      ]
    },
    {
      "cell_type": "code",
      "source": [
        "# Print the corresponding ground truth \n",
        "label_path = \"S1OtsuLabelHand/\"\n",
        "\n",
        "labeltobeviz = label[1]\n",
        "\n",
        "mask = imread(label_path + labeltobeviz)\n",
        "\n",
        "plt.imshow(mask, cmap='binary')"
      ],
      "metadata": {
        "colab": {
          "base_uri": "https://localhost:8080/",
          "height": 285
        },
        "id": "pZ_9FFyg_n-C",
        "outputId": "69b32d34-3f2f-4974-beac-85e49778e5b9"
      },
      "execution_count": null,
      "outputs": [
        {
          "output_type": "execute_result",
          "data": {
            "text/plain": [
              "<matplotlib.image.AxesImage at 0x7fa54cf969a0>"
            ]
          },
          "metadata": {},
          "execution_count": 10
        },
        {
          "output_type": "display_data",
          "data": {
            "text/plain": [
              "<Figure size 432x288 with 1 Axes>"
            ],
            "image/png": "[encoded data removed]"
          },
          "metadata": {
            "needs_background": "light"
          }
        }
      ]
    }
  ]
}
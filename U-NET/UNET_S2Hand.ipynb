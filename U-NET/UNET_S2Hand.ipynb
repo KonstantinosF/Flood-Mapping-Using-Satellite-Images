{
 "cells": [
  {
   "cell_type": "code",
   "execution_count": 67,
   "metadata": {
    "id": "efCuvHRApYvV"
   },
   "outputs": [],
   "source": [
    "import tensorflow as tf\n",
    "import numpy as np\n",
    "import os\n",
    "import random\n",
    "from skimage.io import imread, imshow\n",
    "import skimage.transform\n",
    "import matplotlib.pyplot as plt"
   ]
  },
  {
   "cell_type": "markdown",
   "metadata": {},
   "source": [
    "### Prepare the Dataset"
   ]
  },
  {
   "cell_type": "code",
   "execution_count": 136,
   "metadata": {
    "id": "LEIbZxmspYxo"
   },
   "outputs": [],
   "source": [
    "source_path = \"S2Hand/\"\n",
    "label_path = \"LabelHand/\"\n",
    "\n",
    "source = []\n",
    "label = []\n",
    "for file in os.listdir(source_path):\n",
    "    if file.endswith(\"tif\"):\n",
    "      source.append(file)\n",
    "        \n",
    "for file in os.listdir(label_path):\n",
    "    if file.endswith(\"tif\"):\n",
    "      label.append(file)"
   ]
  },
  {
   "cell_type": "code",
   "execution_count": 137,
   "metadata": {
    "colab": {
     "base_uri": "https://localhost:8080/"
    },
    "id": "Kbg-jQAtpYz9",
    "outputId": "69084d79-2a88-40db-b522-c64c47ea0f43"
   },
   "outputs": [
    {
     "name": "stdout",
     "output_type": "stream",
     "text": [
      "577\n",
      "577\n"
     ]
    }
   ],
   "source": [
    "## SAnity Check\n",
    "source = sorted(source)\n",
    "label = sorted(label)\n",
    "print(len(source))\n",
    "print(len(label))"
   ]
  },
  {
   "cell_type": "code",
   "execution_count": 138,
   "metadata": {
    "id": "8HXN2bOUpY3e"
   },
   "outputs": [],
   "source": [
    "IMG_WIDTH = 128\n",
    "IMG_HEIGHT = 128\n",
    "IMG_CHANNELS = 5\n",
    "\n",
    "\n",
    "#Build the model\n",
    "inputs = tf.keras.layers.Input((IMG_HEIGHT, IMG_WIDTH, IMG_CHANNELS))\n",
    "s = tf.keras.layers.Lambda(lambda x: x / 255)(inputs)"
   ]
  },
  {
   "cell_type": "code",
   "execution_count": 139,
   "metadata": {
    "id": "6kVY0wospY5C"
   },
   "outputs": [],
   "source": [
    "X = np.zeros((len(source), IMG_HEIGHT, IMG_WIDTH, IMG_CHANNELS), dtype=np.uint8)\n",
    "Y = np.zeros((len(label),IMG_HEIGHT, IMG_WIDTH, 1), dtype=np.uint8)"
   ]
  },
  {
   "cell_type": "code",
   "execution_count": 140,
   "metadata": {
    "id": "C-8_sc7apY9G"
   },
   "outputs": [],
   "source": [
    "for count, file in enumerate(source):\n",
    "    source_img = imread(source_path +'/' +file ) #[0:2,:,:]\n",
    "    # print(f\"the shape of the source image: {source_img.shape}\")\n",
    "    new_image = np.transpose(source_img, (1, 2, 0))\n",
    "    X[count] = new_image\n",
    "\n",
    "\n",
    "for count, file in enumerate(label):\n",
    "    slabel_img = imread(label_path + '/'+file ) #[:,:,:,IMG_CHANNELS]\n",
    "    y = np.expand_dims(slabel_img, axis=2)\n",
    "    # print(f\"The shape of y labels: {y.min()}\")\n",
    "    Y[count] = y "
   ]
  },
  {
   "cell_type": "code",
   "execution_count": 141,
   "metadata": {
    "colab": {
     "base_uri": "https://localhost:8080/"
    },
    "id": "KLflK3SFph2s",
    "outputId": "394d9a0c-7ab0-4f86-fcf7-90bfdcd2bd7c"
   },
   "outputs": [
    {
     "name": "stdout",
     "output_type": "stream",
     "text": [
      "(577, 128, 128, 5)\n",
      "(577, 128, 128, 1)\n"
     ]
    }
   ],
   "source": [
    "# Sanity Check\n",
    "print(X.shape)\n",
    "print(Y.shape)"
   ]
  },
  {
   "cell_type": "code",
   "execution_count": 142,
   "metadata": {
    "colab": {
     "base_uri": "https://localhost:8080/"
    },
    "id": "mLdEm3K14NiG",
    "outputId": "0f475bd6-cb4c-487c-acca-c80a83b30ea1"
   },
   "outputs": [
    {
     "name": "stdout",
     "output_type": "stream",
     "text": [
      "[0 1 2]\n"
     ]
    }
   ],
   "source": [
    "from sklearn.preprocessing import LabelEncoder \n",
    "labelencoder = LabelEncoder()\n",
    "Y_resahped = Y.reshape(-1,1)\n",
    "Y_resahped_encoded = labelencoder.fit_transform(Y_resahped)\n",
    "Y_original = Y_resahped_encoded.reshape(577,128,128,1)\n",
    "print(np.unique(Y_original))"
   ]
  },
  {
   "cell_type": "markdown",
   "metadata": {},
   "source": [
    "### Define The UNET"
   ]
  },
  {
   "cell_type": "code",
   "execution_count": 143,
   "metadata": {
    "colab": {
     "base_uri": "https://localhost:8080/"
    },
    "id": "MLHwwY4sph89",
    "outputId": "5cbb71dc-414f-4635-f302-57c53af56e93"
   },
   "outputs": [
    {
     "name": "stdout",
     "output_type": "stream",
     "text": [
      "Model: \"model_10\"\n",
      "__________________________________________________________________________________________________\n",
      " Layer (type)                   Output Shape         Param #     Connected to                     \n",
      "==================================================================================================\n",
      " input_10 (InputLayer)          [(None, 128, 128, 5  0           []                               \n",
      "                                )]                                                                \n",
      "                                                                                                  \n",
      " lambda_9 (Lambda)              (None, 128, 128, 5)  0           ['input_10[0][0]']               \n",
      "                                                                                                  \n",
      " conv2d_190 (Conv2D)            (None, 128, 128, 16  736         ['lambda_9[0][0]']               \n",
      "                                )                                                                 \n",
      "                                                                                                  \n",
      " dropout_90 (Dropout)           (None, 128, 128, 16  0           ['conv2d_190[0][0]']             \n",
      "                                )                                                                 \n",
      "                                                                                                  \n",
      " conv2d_191 (Conv2D)            (None, 128, 128, 16  2320        ['dropout_90[0][0]']             \n",
      "                                )                                                                 \n",
      "                                                                                                  \n",
      " max_pooling2d_40 (MaxPooling2D  (None, 64, 64, 16)  0           ['conv2d_191[0][0]']             \n",
      " )                                                                                                \n",
      "                                                                                                  \n",
      " conv2d_192 (Conv2D)            (None, 64, 64, 32)   4640        ['max_pooling2d_40[0][0]']       \n",
      "                                                                                                  \n",
      " dropout_91 (Dropout)           (None, 64, 64, 32)   0           ['conv2d_192[0][0]']             \n",
      "                                                                                                  \n",
      " conv2d_193 (Conv2D)            (None, 64, 64, 32)   9248        ['dropout_91[0][0]']             \n",
      "                                                                                                  \n",
      " max_pooling2d_41 (MaxPooling2D  (None, 32, 32, 32)  0           ['conv2d_193[0][0]']             \n",
      " )                                                                                                \n",
      "                                                                                                  \n",
      " conv2d_194 (Conv2D)            (None, 32, 32, 64)   18496       ['max_pooling2d_41[0][0]']       \n",
      "                                                                                                  \n",
      " dropout_92 (Dropout)           (None, 32, 32, 64)   0           ['conv2d_194[0][0]']             \n",
      "                                                                                                  \n",
      " conv2d_195 (Conv2D)            (None, 32, 32, 64)   36928       ['dropout_92[0][0]']             \n",
      "                                                                                                  \n",
      " max_pooling2d_42 (MaxPooling2D  (None, 16, 16, 64)  0           ['conv2d_195[0][0]']             \n",
      " )                                                                                                \n",
      "                                                                                                  \n",
      " conv2d_196 (Conv2D)            (None, 16, 16, 128)  73856       ['max_pooling2d_42[0][0]']       \n",
      "                                                                                                  \n",
      " dropout_93 (Dropout)           (None, 16, 16, 128)  0           ['conv2d_196[0][0]']             \n",
      "                                                                                                  \n",
      " conv2d_197 (Conv2D)            (None, 16, 16, 128)  147584      ['dropout_93[0][0]']             \n",
      "                                                                                                  \n",
      " max_pooling2d_43 (MaxPooling2D  (None, 8, 8, 128)   0           ['conv2d_197[0][0]']             \n",
      " )                                                                                                \n",
      "                                                                                                  \n",
      " conv2d_198 (Conv2D)            (None, 8, 8, 256)    295168      ['max_pooling2d_43[0][0]']       \n",
      "                                                                                                  \n",
      " dropout_94 (Dropout)           (None, 8, 8, 256)    0           ['conv2d_198[0][0]']             \n",
      "                                                                                                  \n",
      " conv2d_199 (Conv2D)            (None, 8, 8, 256)    590080      ['dropout_94[0][0]']             \n",
      "                                                                                                  \n",
      " conv2d_transpose_40 (Conv2DTra  (None, 16, 16, 128)  131200     ['conv2d_199[0][0]']             \n",
      " nspose)                                                                                          \n",
      "                                                                                                  \n",
      " concatenate_40 (Concatenate)   (None, 16, 16, 256)  0           ['conv2d_transpose_40[0][0]',    \n",
      "                                                                  'conv2d_197[0][0]']             \n",
      "                                                                                                  \n",
      " conv2d_200 (Conv2D)            (None, 16, 16, 128)  295040      ['concatenate_40[0][0]']         \n",
      "                                                                                                  \n",
      " dropout_95 (Dropout)           (None, 16, 16, 128)  0           ['conv2d_200[0][0]']             \n",
      "                                                                                                  \n",
      " conv2d_201 (Conv2D)            (None, 16, 16, 128)  147584      ['dropout_95[0][0]']             \n",
      "                                                                                                  \n",
      " conv2d_transpose_41 (Conv2DTra  (None, 32, 32, 64)  32832       ['conv2d_201[0][0]']             \n",
      " nspose)                                                                                          \n",
      "                                                                                                  \n",
      " concatenate_41 (Concatenate)   (None, 32, 32, 128)  0           ['conv2d_transpose_41[0][0]',    \n",
      "                                                                  'conv2d_195[0][0]']             \n",
      "                                                                                                  \n",
      " conv2d_202 (Conv2D)            (None, 32, 32, 64)   73792       ['concatenate_41[0][0]']         \n",
      "                                                                                                  \n",
      " dropout_96 (Dropout)           (None, 32, 32, 64)   0           ['conv2d_202[0][0]']             \n",
      "                                                                                                  \n",
      " conv2d_203 (Conv2D)            (None, 32, 32, 64)   36928       ['dropout_96[0][0]']             \n",
      "                                                                                                  \n",
      " conv2d_transpose_42 (Conv2DTra  (None, 64, 64, 32)  8224        ['conv2d_203[0][0]']             \n",
      " nspose)                                                                                          \n",
      "                                                                                                  \n",
      " concatenate_42 (Concatenate)   (None, 64, 64, 64)   0           ['conv2d_transpose_42[0][0]',    \n",
      "                                                                  'conv2d_193[0][0]']             \n",
      "                                                                                                  \n",
      " conv2d_204 (Conv2D)            (None, 64, 64, 32)   18464       ['concatenate_42[0][0]']         \n",
      "                                                                                                  \n",
      " dropout_97 (Dropout)           (None, 64, 64, 32)   0           ['conv2d_204[0][0]']             \n",
      "                                                                                                  \n",
      " conv2d_205 (Conv2D)            (None, 64, 64, 32)   9248        ['dropout_97[0][0]']             \n",
      "                                                                                                  \n",
      " conv2d_transpose_43 (Conv2DTra  (None, 128, 128, 16  2064       ['conv2d_205[0][0]']             \n",
      " nspose)                        )                                                                 \n",
      "                                                                                                  \n",
      " concatenate_43 (Concatenate)   (None, 128, 128, 32  0           ['conv2d_transpose_43[0][0]',    \n",
      "                                )                                 'conv2d_191[0][0]']             \n",
      "                                                                                                  \n",
      " conv2d_206 (Conv2D)            (None, 128, 128, 16  4624        ['concatenate_43[0][0]']         \n",
      "                                )                                                                 \n",
      "                                                                                                  \n",
      " dropout_98 (Dropout)           (None, 128, 128, 16  0           ['conv2d_206[0][0]']             \n",
      "                                )                                                                 \n",
      "                                                                                                  \n",
      " conv2d_207 (Conv2D)            (None, 128, 128, 16  2320        ['dropout_98[0][0]']             \n",
      "                                )                                                                 \n",
      "                                                                                                  \n",
      " conv2d_208 (Conv2D)            (None, 128, 128, 3)  51          ['conv2d_207[0][0]']             \n",
      "                                                                                                  \n",
      "==================================================================================================\n",
      "Total params: 1,941,427\n",
      "Trainable params: 1,941,427\n",
      "Non-trainable params: 0\n",
      "__________________________________________________________________________________________________\n"
     ]
    }
   ],
   "source": [
    "#Contraction path\n",
    "c1 = tf.keras.layers.Conv2D(16, (3, 3), activation='relu', kernel_initializer='he_normal', padding='same')(s)\n",
    "c1 = tf.keras.layers.Dropout(0.1)(c1)\n",
    "c1 = tf.keras.layers.Conv2D(16, (3, 3), activation='relu', kernel_initializer='he_normal', padding='same')(c1)\n",
    "p1 = tf.keras.layers.MaxPooling2D((2, 2))(c1)\n",
    "\n",
    "c2 = tf.keras.layers.Conv2D(32, (3, 3), activation='relu', kernel_initializer='he_normal', padding='same')(p1)\n",
    "c2 = tf.keras.layers.Dropout(0.1)(c2)\n",
    "c2 = tf.keras.layers.Conv2D(32, (3, 3), activation='relu', kernel_initializer='he_normal', padding='same')(c2)\n",
    "p2 = tf.keras.layers.MaxPooling2D((2, 2))(c2)\n",
    " \n",
    "c3 = tf.keras.layers.Conv2D(64, (3, 3), activation='relu', kernel_initializer='he_normal', padding='same')(p2)\n",
    "c3 = tf.keras.layers.Dropout(0.2)(c3)\n",
    "c3 = tf.keras.layers.Conv2D(64, (3, 3), activation='relu', kernel_initializer='he_normal', padding='same')(c3)\n",
    "p3 = tf.keras.layers.MaxPooling2D((2, 2))(c3)\n",
    " \n",
    "c4 = tf.keras.layers.Conv2D(128, (3, 3), activation='relu', kernel_initializer='he_normal', padding='same')(p3)\n",
    "c4 = tf.keras.layers.Dropout(0.2)(c4)\n",
    "c4 = tf.keras.layers.Conv2D(128, (3, 3), activation='relu', kernel_initializer='he_normal', padding='same')(c4)\n",
    "p4 = tf.keras.layers.MaxPooling2D(pool_size=(2, 2))(c4)\n",
    " \n",
    "c5 = tf.keras.layers.Conv2D(256, (3, 3), activation='relu', kernel_initializer='he_normal', padding='same')(p4)\n",
    "c5 = tf.keras.layers.Dropout(0.3)(c5)\n",
    "c5 = tf.keras.layers.Conv2D(256, (3, 3), activation='relu', kernel_initializer='he_normal', padding='same')(c5)\n",
    "\n",
    "#Expansive path \n",
    "u6 = tf.keras.layers.Conv2DTranspose(128, (2, 2), strides=(2, 2), padding='same')(c5)\n",
    "u6 = tf.keras.layers.concatenate([u6, c4])\n",
    "c6 = tf.keras.layers.Conv2D(128, (3, 3), activation='relu', kernel_initializer='he_normal', padding='same')(u6)\n",
    "c6 = tf.keras.layers.Dropout(0.2)(c6)\n",
    "c6 = tf.keras.layers.Conv2D(128, (3, 3), activation='relu', kernel_initializer='he_normal', padding='same')(c6)\n",
    " \n",
    "u7 = tf.keras.layers.Conv2DTranspose(64, (2, 2), strides=(2, 2), padding='same')(c6)\n",
    "u7 = tf.keras.layers.concatenate([u7, c3])\n",
    "c7 = tf.keras.layers.Conv2D(64, (3, 3), activation='relu', kernel_initializer='he_normal', padding='same')(u7)\n",
    "c7 = tf.keras.layers.Dropout(0.2)(c7)\n",
    "c7 = tf.keras.layers.Conv2D(64, (3, 3), activation='relu', kernel_initializer='he_normal', padding='same')(c7)\n",
    " \n",
    "u8 = tf.keras.layers.Conv2DTranspose(32, (2, 2), strides=(2, 2), padding='same')(c7)\n",
    "u8 = tf.keras.layers.concatenate([u8, c2])\n",
    "c8 = tf.keras.layers.Conv2D(32, (3, 3), activation='relu', kernel_initializer='he_normal', padding='same')(u8)\n",
    "c8 = tf.keras.layers.Dropout(0.1)(c8)\n",
    "c8 = tf.keras.layers.Conv2D(32, (3, 3), activation='relu', kernel_initializer='he_normal', padding='same')(c8)\n",
    " \n",
    "u9 = tf.keras.layers.Conv2DTranspose(16, (2, 2), strides=(2, 2), padding='same')(c8)\n",
    "u9 = tf.keras.layers.concatenate([u9, c1], axis=3)\n",
    "c9 = tf.keras.layers.Conv2D(16, (3, 3), activation='relu', kernel_initializer='he_normal', padding='same')(u9)\n",
    "c9 = tf.keras.layers.Dropout(0.1)(c9)\n",
    "c9 = tf.keras.layers.Conv2D(16, (3, 3), activation='relu', kernel_initializer='he_normal', padding='same')(c9)\n",
    " \n",
    "outputs = tf.keras.layers.Conv2D(3, (1, 1), activation='softmax')(c9) #sigmoid\n",
    " \n",
    "model = tf.keras.Model(inputs=[inputs], outputs=[outputs])\n",
    "opt = tf.keras.optimizers.SGD(learning_rate=0.01, momentum=0.0, nesterov=False, name=\"SGD\")\n",
    "model.compile(optimizer='adam', loss='categorical_crossentropy', metrics=['accuracy'])\n",
    "model.summary()"
   ]
  },
  {
   "cell_type": "markdown",
   "metadata": {},
   "source": [
    "### Train The model"
   ]
  },
  {
   "cell_type": "code",
   "execution_count": 144,
   "metadata": {
    "id": "kidx65-dpiBt"
   },
   "outputs": [],
   "source": [
    "from sklearn.model_selection import train_test_split\n",
    "x_train, x_test, y_train, y_test = train_test_split(X, Y_original, test_size=0.30)"
   ]
  },
  {
   "cell_type": "code",
   "execution_count": 145,
   "metadata": {
    "colab": {
     "base_uri": "https://localhost:8080/"
    },
    "id": "_E2eb34H81-i",
    "outputId": "58a64b4d-8b2a-4f11-c310-b6cc22e7fcc4"
   },
   "outputs": [
    {
     "name": "stdout",
     "output_type": "stream",
     "text": [
      "(519, 128, 128, 3)\n"
     ]
    }
   ],
   "source": [
    "from keras.utils import to_categorical\n",
    "train_mask_cat = to_categorical(y_train, num_classes=3)\n",
    "y_train_cat = train_mask_cat.reshape(y_train.shape[0], y_train.shape[1], y_train.shape[2],3)\n",
    "print(y_train_cat.shape) # Sanity Check"
   ]
  },
  {
   "cell_type": "code",
   "execution_count": 146,
   "metadata": {
    "colab": {
     "base_uri": "https://localhost:8080/"
    },
    "id": "2xEE3OKK900j",
    "outputId": "0438a4e1-bf36-46b8-97fb-a81fce2edf21"
   },
   "outputs": [
    {
     "name": "stdout",
     "output_type": "stream",
     "text": [
      "(58, 128, 128, 3)\n"
     ]
    }
   ],
   "source": [
    "test_mask_cat = to_categorical(y_test, num_classes=3)\n",
    "y_test_cat = test_mask_cat.reshape(y_test.shape[0], y_test.shape[1], y_test.shape[2], 3)\n",
    "print(y_test_cat.shape) # Sanity Check"
   ]
  },
  {
   "cell_type": "code",
   "execution_count": 147,
   "metadata": {
    "colab": {
     "base_uri": "https://localhost:8080/"
    },
    "id": "ODvZyGFupiE-",
    "outputId": "b1f654ce-538b-4e4d-ea35-441b8989e654"
   },
   "outputs": [
    {
     "name": "stdout",
     "output_type": "stream",
     "text": [
      "Epoch 1/200\n",
      "39/39 [==============================] - ETA: 0s - loss: 0.9790 - accuracy: 0.5462\n",
      "Epoch 1: val_loss improved from inf to 0.89228, saving model to model_S2Hand.h5\n",
      "39/39 [==============================] - 4s 72ms/step - loss: 0.9790 - accuracy: 0.5462 - val_loss: 0.8923 - val_accuracy: 0.6056\n",
      "Epoch 2/200\n",
      "39/39 [==============================] - ETA: 0s - loss: 0.9412 - accuracy: 0.5793\n",
      "Epoch 2: val_loss improved from 0.89228 to 0.87031, saving model to model_S2Hand.h5\n",
      "39/39 [==============================] - 2s 39ms/step - loss: 0.9412 - accuracy: 0.5793 - val_loss: 0.8703 - val_accuracy: 0.6068\n",
      "Epoch 3/200\n",
      "39/39 [==============================] - ETA: 0s - loss: 0.9368 - accuracy: 0.5804\n",
      "Epoch 3: val_loss did not improve from 0.87031\n",
      "39/39 [==============================] - 1s 34ms/step - loss: 0.9368 - accuracy: 0.5804 - val_loss: 0.8758 - val_accuracy: 0.6069\n",
      "Epoch 4/200\n",
      "39/39 [==============================] - ETA: 0s - loss: 0.9278 - accuracy: 0.5839\n",
      "Epoch 4: val_loss improved from 0.87031 to 0.85309, saving model to model_S2Hand.h5\n",
      "39/39 [==============================] - 2s 40ms/step - loss: 0.9278 - accuracy: 0.5839 - val_loss: 0.8531 - val_accuracy: 0.6252\n",
      "Epoch 5/200\n",
      "39/39 [==============================] - ETA: 0s - loss: 0.9151 - accuracy: 0.5994\n",
      "Epoch 5: val_loss improved from 0.85309 to 0.85064, saving model to model_S2Hand.h5\n",
      "39/39 [==============================] - 2s 40ms/step - loss: 0.9151 - accuracy: 0.5994 - val_loss: 0.8506 - val_accuracy: 0.6287\n",
      "Epoch 6/200\n",
      "39/39 [==============================] - ETA: 0s - loss: 0.8862 - accuracy: 0.6155\n",
      "Epoch 6: val_loss improved from 0.85064 to 0.77360, saving model to model_S2Hand.h5\n",
      "39/39 [==============================] - 2s 40ms/step - loss: 0.8862 - accuracy: 0.6155 - val_loss: 0.7736 - val_accuracy: 0.6752\n",
      "Epoch 7/200\n",
      "39/39 [==============================] - ETA: 0s - loss: 0.8936 - accuracy: 0.6109\n",
      "Epoch 7: val_loss did not improve from 0.77360\n",
      "39/39 [==============================] - 1s 34ms/step - loss: 0.8936 - accuracy: 0.6109 - val_loss: 0.8042 - val_accuracy: 0.6511\n",
      "Epoch 8/200\n",
      "39/39 [==============================] - ETA: 0s - loss: 0.8749 - accuracy: 0.6242\n",
      "Epoch 8: val_loss did not improve from 0.77360\n",
      "39/39 [==============================] - 1s 33ms/step - loss: 0.8749 - accuracy: 0.6242 - val_loss: 0.7868 - val_accuracy: 0.6764\n",
      "Epoch 9/200\n",
      "39/39 [==============================] - ETA: 0s - loss: 0.8496 - accuracy: 0.6376\n",
      "Epoch 9: val_loss improved from 0.77360 to 0.76142, saving model to model_S2Hand.h5\n",
      "39/39 [==============================] - 2s 39ms/step - loss: 0.8496 - accuracy: 0.6376 - val_loss: 0.7614 - val_accuracy: 0.6962\n",
      "Epoch 10/200\n",
      "39/39 [==============================] - ETA: 0s - loss: 0.8416 - accuracy: 0.6387\n",
      "Epoch 10: val_loss did not improve from 0.76142\n",
      "39/39 [==============================] - 1s 34ms/step - loss: 0.8416 - accuracy: 0.6387 - val_loss: 0.8344 - val_accuracy: 0.6842\n",
      "Epoch 11/200\n",
      "39/39 [==============================] - ETA: 0s - loss: 0.8601 - accuracy: 0.6377\n",
      "Epoch 11: val_loss improved from 0.76142 to 0.74712, saving model to model_S2Hand.h5\n",
      "39/39 [==============================] - 2s 39ms/step - loss: 0.8601 - accuracy: 0.6377 - val_loss: 0.7471 - val_accuracy: 0.6936\n",
      "Epoch 12/200\n",
      "39/39 [==============================] - ETA: 0s - loss: 0.8147 - accuracy: 0.6556\n",
      "Epoch 12: val_loss did not improve from 0.74712\n",
      "39/39 [==============================] - 1s 34ms/step - loss: 0.8147 - accuracy: 0.6556 - val_loss: 0.7525 - val_accuracy: 0.6959\n",
      "Epoch 13/200\n",
      "39/39 [==============================] - ETA: 0s - loss: 0.8088 - accuracy: 0.6550\n",
      "Epoch 13: val_loss improved from 0.74712 to 0.71986, saving model to model_S2Hand.h5\n",
      "39/39 [==============================] - 2s 40ms/step - loss: 0.8088 - accuracy: 0.6550 - val_loss: 0.7199 - val_accuracy: 0.7031\n",
      "Epoch 14/200\n",
      "39/39 [==============================] - ETA: 0s - loss: 0.8020 - accuracy: 0.6618\n",
      "Epoch 14: val_loss did not improve from 0.71986\n",
      "39/39 [==============================] - 1s 34ms/step - loss: 0.8020 - accuracy: 0.6618 - val_loss: 0.7235 - val_accuracy: 0.7005\n",
      "Epoch 15/200\n",
      "39/39 [==============================] - ETA: 0s - loss: 0.8168 - accuracy: 0.6481\n",
      "Epoch 15: val_loss did not improve from 0.71986\n",
      "39/39 [==============================] - 1s 34ms/step - loss: 0.8168 - accuracy: 0.6481 - val_loss: 0.7359 - val_accuracy: 0.7101\n",
      "Epoch 16/200\n",
      "39/39 [==============================] - ETA: 0s - loss: 0.7882 - accuracy: 0.6620\n",
      "Epoch 16: val_loss improved from 0.71986 to 0.71273, saving model to model_S2Hand.h5\n",
      "39/39 [==============================] - 2s 40ms/step - loss: 0.7882 - accuracy: 0.6620 - val_loss: 0.7127 - val_accuracy: 0.7072\n",
      "Epoch 17/200\n",
      "39/39 [==============================] - ETA: 0s - loss: 0.7946 - accuracy: 0.6515\n",
      "Epoch 17: val_loss did not improve from 0.71273\n",
      "39/39 [==============================] - 1s 34ms/step - loss: 0.7946 - accuracy: 0.6515 - val_loss: 0.7397 - val_accuracy: 0.6891\n",
      "Epoch 18/200\n",
      "39/39 [==============================] - ETA: 0s - loss: 0.7918 - accuracy: 0.6615\n",
      "Epoch 18: val_loss improved from 0.71273 to 0.70630, saving model to model_S2Hand.h5\n",
      "39/39 [==============================] - 2s 40ms/step - loss: 0.7918 - accuracy: 0.6615 - val_loss: 0.7063 - val_accuracy: 0.7108\n",
      "Epoch 19/200\n",
      "39/39 [==============================] - ETA: 0s - loss: 0.7717 - accuracy: 0.6690\n",
      "Epoch 19: val_loss did not improve from 0.70630\n",
      "39/39 [==============================] - 1s 34ms/step - loss: 0.7717 - accuracy: 0.6690 - val_loss: 0.7841 - val_accuracy: 0.6314\n",
      "Epoch 20/200\n",
      "39/39 [==============================] - ETA: 0s - loss: 0.8104 - accuracy: 0.6626\n",
      "Epoch 20: val_loss improved from 0.70630 to 0.70041, saving model to model_S2Hand.h5\n",
      "39/39 [==============================] - 2s 39ms/step - loss: 0.8104 - accuracy: 0.6626 - val_loss: 0.7004 - val_accuracy: 0.7065\n",
      "Epoch 21/200\n",
      "39/39 [==============================] - ETA: 0s - loss: 0.8007 - accuracy: 0.6593\n",
      "Epoch 21: val_loss did not improve from 0.70041\n",
      "39/39 [==============================] - 1s 34ms/step - loss: 0.8007 - accuracy: 0.6593 - val_loss: 0.7535 - val_accuracy: 0.7115\n",
      "Epoch 22/200\n",
      "39/39 [==============================] - ETA: 0s - loss: 0.7891 - accuracy: 0.6646\n",
      "Epoch 22: val_loss did not improve from 0.70041\n",
      "39/39 [==============================] - 1s 34ms/step - loss: 0.7891 - accuracy: 0.6646 - val_loss: 0.7143 - val_accuracy: 0.7073\n",
      "Epoch 23/200\n",
      "39/39 [==============================] - ETA: 0s - loss: 0.7658 - accuracy: 0.6737\n",
      "Epoch 23: val_loss improved from 0.70041 to 0.69828, saving model to model_S2Hand.h5\n",
      "39/39 [==============================] - 2s 40ms/step - loss: 0.7658 - accuracy: 0.6737 - val_loss: 0.6983 - val_accuracy: 0.7162\n",
      "Epoch 24/200\n",
      "39/39 [==============================] - ETA: 0s - loss: 0.7600 - accuracy: 0.6739\n",
      "Epoch 24: val_loss improved from 0.69828 to 0.69137, saving model to model_S2Hand.h5\n",
      "39/39 [==============================] - 2s 40ms/step - loss: 0.7600 - accuracy: 0.6739 - val_loss: 0.6914 - val_accuracy: 0.7186\n",
      "Epoch 25/200\n",
      "39/39 [==============================] - ETA: 0s - loss: 0.7603 - accuracy: 0.6703\n",
      "Epoch 25: val_loss did not improve from 0.69137\n",
      "39/39 [==============================] - 1s 34ms/step - loss: 0.7603 - accuracy: 0.6703 - val_loss: 0.6997 - val_accuracy: 0.7104\n",
      "Epoch 26/200\n",
      "39/39 [==============================] - ETA: 0s - loss: 0.7526 - accuracy: 0.6768\n",
      "Epoch 26: val_loss did not improve from 0.69137\n",
      "39/39 [==============================] - 1s 34ms/step - loss: 0.7526 - accuracy: 0.6768 - val_loss: 0.6940 - val_accuracy: 0.7111\n",
      "Epoch 27/200\n",
      "39/39 [==============================] - ETA: 0s - loss: 0.7371 - accuracy: 0.6823\n",
      "Epoch 27: val_loss improved from 0.69137 to 0.69082, saving model to model_S2Hand.h5\n",
      "39/39 [==============================] - 2s 39ms/step - loss: 0.7371 - accuracy: 0.6823 - val_loss: 0.6908 - val_accuracy: 0.7182\n",
      "Epoch 28/200\n",
      "39/39 [==============================] - ETA: 0s - loss: 0.7330 - accuracy: 0.6852\n",
      "Epoch 28: val_loss improved from 0.69082 to 0.67944, saving model to model_S2Hand.h5\n",
      "39/39 [==============================] - 2s 40ms/step - loss: 0.7330 - accuracy: 0.6852 - val_loss: 0.6794 - val_accuracy: 0.7237\n",
      "Epoch 29/200\n",
      "39/39 [==============================] - ETA: 0s - loss: 0.7349 - accuracy: 0.6830\n",
      "Epoch 29: val_loss improved from 0.67944 to 0.66809, saving model to model_S2Hand.h5\n",
      "39/39 [==============================] - 2s 39ms/step - loss: 0.7349 - accuracy: 0.6830 - val_loss: 0.6681 - val_accuracy: 0.7261\n",
      "Epoch 30/200\n",
      "39/39 [==============================] - ETA: 0s - loss: 0.7338 - accuracy: 0.6868\n",
      "Epoch 30: val_loss did not improve from 0.66809\n",
      "39/39 [==============================] - 1s 34ms/step - loss: 0.7338 - accuracy: 0.6868 - val_loss: 0.7248 - val_accuracy: 0.7194\n",
      "Epoch 31/200\n",
      "39/39 [==============================] - ETA: 0s - loss: 0.7340 - accuracy: 0.6886\n",
      "Epoch 31: val_loss did not improve from 0.66809\n",
      "39/39 [==============================] - 1s 34ms/step - loss: 0.7340 - accuracy: 0.6886 - val_loss: 0.6849 - val_accuracy: 0.7253\n",
      "Epoch 32/200\n",
      "39/39 [==============================] - ETA: 0s - loss: 0.7402 - accuracy: 0.6862\n",
      "Epoch 32: val_loss did not improve from 0.66809\n",
      "39/39 [==============================] - 1s 34ms/step - loss: 0.7402 - accuracy: 0.6862 - val_loss: 0.7042 - val_accuracy: 0.7151\n",
      "Epoch 33/200\n",
      "39/39 [==============================] - ETA: 0s - loss: 0.7523 - accuracy: 0.6846\n",
      "Epoch 33: val_loss did not improve from 0.66809\n",
      "39/39 [==============================] - 1s 34ms/step - loss: 0.7523 - accuracy: 0.6846 - val_loss: 0.7085 - val_accuracy: 0.7173\n",
      "Epoch 34/200\n",
      "39/39 [==============================] - ETA: 0s - loss: 0.7450 - accuracy: 0.6848\n",
      "Epoch 34: val_loss did not improve from 0.66809\n",
      "39/39 [==============================] - 1s 34ms/step - loss: 0.7450 - accuracy: 0.6848 - val_loss: 0.6936 - val_accuracy: 0.7273\n",
      "Epoch 35/200\n",
      "39/39 [==============================] - ETA: 0s - loss: 0.7296 - accuracy: 0.6870\n",
      "Epoch 35: val_loss did not improve from 0.66809\n",
      "39/39 [==============================] - 1s 34ms/step - loss: 0.7296 - accuracy: 0.6870 - val_loss: 0.6687 - val_accuracy: 0.7304\n",
      "Epoch 36/200\n",
      "39/39 [==============================] - ETA: 0s - loss: 0.7110 - accuracy: 0.6912\n",
      "Epoch 36: val_loss did not improve from 0.66809\n",
      "39/39 [==============================] - 1s 34ms/step - loss: 0.7110 - accuracy: 0.6912 - val_loss: 0.6842 - val_accuracy: 0.7214\n",
      "Epoch 37/200\n",
      "39/39 [==============================] - ETA: 0s - loss: 0.7052 - accuracy: 0.6969\n",
      "Epoch 37: val_loss improved from 0.66809 to 0.65979, saving model to model_S2Hand.h5\n",
      "39/39 [==============================] - 2s 40ms/step - loss: 0.7052 - accuracy: 0.6969 - val_loss: 0.6598 - val_accuracy: 0.7317\n",
      "Epoch 38/200\n",
      "39/39 [==============================] - ETA: 0s - loss: 0.6959 - accuracy: 0.7016\n",
      "Epoch 38: val_loss improved from 0.65979 to 0.65876, saving model to model_S2Hand.h5\n",
      "39/39 [==============================] - 2s 40ms/step - loss: 0.6959 - accuracy: 0.7016 - val_loss: 0.6588 - val_accuracy: 0.7296\n",
      "Epoch 39/200\n",
      "39/39 [==============================] - ETA: 0s - loss: 0.7040 - accuracy: 0.6982\n",
      "Epoch 39: val_loss improved from 0.65876 to 0.63143, saving model to model_S2Hand.h5\n",
      "39/39 [==============================] - 2s 41ms/step - loss: 0.7040 - accuracy: 0.6982 - val_loss: 0.6314 - val_accuracy: 0.7404\n",
      "Epoch 40/200\n",
      "39/39 [==============================] - ETA: 0s - loss: 0.6885 - accuracy: 0.7044\n",
      "Epoch 40: val_loss did not improve from 0.63143\n",
      "39/39 [==============================] - 1s 34ms/step - loss: 0.6885 - accuracy: 0.7044 - val_loss: 0.6405 - val_accuracy: 0.7358\n",
      "Epoch 41/200\n",
      "39/39 [==============================] - ETA: 0s - loss: 0.7072 - accuracy: 0.6975\n",
      "Epoch 41: val_loss did not improve from 0.63143\n",
      "39/39 [==============================] - 1s 34ms/step - loss: 0.7072 - accuracy: 0.6975 - val_loss: 0.7184 - val_accuracy: 0.7094\n",
      "Epoch 42/200\n",
      "39/39 [==============================] - ETA: 0s - loss: 0.7174 - accuracy: 0.6831\n",
      "Epoch 42: val_loss did not improve from 0.63143\n",
      "39/39 [==============================] - 1s 34ms/step - loss: 0.7174 - accuracy: 0.6831 - val_loss: 0.6817 - val_accuracy: 0.7228\n",
      "Epoch 43/200\n",
      "39/39 [==============================] - ETA: 0s - loss: 0.7114 - accuracy: 0.6938\n",
      "Epoch 43: val_loss did not improve from 0.63143\n",
      "39/39 [==============================] - 1s 34ms/step - loss: 0.7114 - accuracy: 0.6938 - val_loss: 0.6499 - val_accuracy: 0.7370\n",
      "Epoch 44/200\n",
      "39/39 [==============================] - ETA: 0s - loss: 0.6886 - accuracy: 0.7001\n",
      "Epoch 44: val_loss did not improve from 0.63143\n",
      "39/39 [==============================] - 1s 34ms/step - loss: 0.6886 - accuracy: 0.7001 - val_loss: 0.6671 - val_accuracy: 0.7396\n",
      "Epoch 45/200\n",
      "39/39 [==============================] - ETA: 0s - loss: 0.6635 - accuracy: 0.7169\n",
      "Epoch 45: val_loss did not improve from 0.63143\n",
      "39/39 [==============================] - 1s 34ms/step - loss: 0.6635 - accuracy: 0.7169 - val_loss: 0.6413 - val_accuracy: 0.7349\n",
      "Epoch 46/200\n",
      "39/39 [==============================] - ETA: 0s - loss: 0.6445 - accuracy: 0.7200\n",
      "Epoch 46: val_loss did not improve from 0.63143\n",
      "39/39 [==============================] - 1s 34ms/step - loss: 0.6445 - accuracy: 0.7200 - val_loss: 0.6891 - val_accuracy: 0.7372\n",
      "Epoch 47/200\n",
      "39/39 [==============================] - ETA: 0s - loss: 0.6550 - accuracy: 0.7142\n",
      "Epoch 47: val_loss did not improve from 0.63143\n",
      "39/39 [==============================] - 1s 34ms/step - loss: 0.6550 - accuracy: 0.7142 - val_loss: 0.6813 - val_accuracy: 0.7206\n",
      "Epoch 48/200\n",
      "39/39 [==============================] - ETA: 0s - loss: 0.6496 - accuracy: 0.7247\n",
      "Epoch 48: val_loss did not improve from 0.63143\n",
      "39/39 [==============================] - 1s 34ms/step - loss: 0.6496 - accuracy: 0.7247 - val_loss: 0.7187 - val_accuracy: 0.6983\n",
      "Epoch 49/200\n",
      "39/39 [==============================] - ETA: 0s - loss: 0.6893 - accuracy: 0.7035\n",
      "Epoch 49: val_loss did not improve from 0.63143\n",
      "39/39 [==============================] - 1s 34ms/step - loss: 0.6893 - accuracy: 0.7035 - val_loss: 0.6746 - val_accuracy: 0.7321\n",
      "Epoch 50/200\n",
      "39/39 [==============================] - ETA: 0s - loss: 0.6489 - accuracy: 0.7240\n",
      "Epoch 50: val_loss improved from 0.63143 to 0.61208, saving model to model_S2Hand.h5\n",
      "39/39 [==============================] - 2s 59ms/step - loss: 0.6489 - accuracy: 0.7240 - val_loss: 0.6121 - val_accuracy: 0.7504\n",
      "Epoch 51/200\n",
      "39/39 [==============================] - ETA: 0s - loss: 0.6388 - accuracy: 0.7181\n",
      "Epoch 51: val_loss did not improve from 0.61208\n",
      "39/39 [==============================] - 1s 35ms/step - loss: 0.6388 - accuracy: 0.7181 - val_loss: 0.6192 - val_accuracy: 0.7473\n",
      "Epoch 52/200\n",
      "39/39 [==============================] - ETA: 0s - loss: 0.6124 - accuracy: 0.7379\n",
      "Epoch 52: val_loss did not improve from 0.61208\n",
      "39/39 [==============================] - 1s 34ms/step - loss: 0.6124 - accuracy: 0.7379 - val_loss: 0.6927 - val_accuracy: 0.7301\n",
      "Epoch 53/200\n",
      "39/39 [==============================] - ETA: 0s - loss: 0.6146 - accuracy: 0.7353\n",
      "Epoch 53: val_loss did not improve from 0.61208\n",
      "39/39 [==============================] - 1s 34ms/step - loss: 0.6146 - accuracy: 0.7353 - val_loss: 0.6781 - val_accuracy: 0.7230\n",
      "Epoch 54/200\n",
      "39/39 [==============================] - ETA: 0s - loss: 0.6010 - accuracy: 0.7457\n",
      "Epoch 54: val_loss did not improve from 0.61208\n",
      "39/39 [==============================] - 1s 34ms/step - loss: 0.6010 - accuracy: 0.7457 - val_loss: 0.6510 - val_accuracy: 0.7469\n",
      "Epoch 55/200\n",
      "39/39 [==============================] - ETA: 0s - loss: 0.5978 - accuracy: 0.7444\n",
      "Epoch 55: val_loss did not improve from 0.61208\n",
      "39/39 [==============================] - 1s 34ms/step - loss: 0.5978 - accuracy: 0.7444 - val_loss: 0.6255 - val_accuracy: 0.7575\n",
      "Epoch 56/200\n",
      "39/39 [==============================] - ETA: 0s - loss: 0.5655 - accuracy: 0.7583\n",
      "Epoch 56: val_loss did not improve from 0.61208\n",
      "39/39 [==============================] - 1s 35ms/step - loss: 0.5655 - accuracy: 0.7583 - val_loss: 0.6427 - val_accuracy: 0.7419\n",
      "Epoch 57/200\n",
      "39/39 [==============================] - ETA: 0s - loss: 0.6436 - accuracy: 0.7213\n",
      "Epoch 57: val_loss did not improve from 0.61208\n",
      "39/39 [==============================] - 1s 34ms/step - loss: 0.6436 - accuracy: 0.7213 - val_loss: 0.6762 - val_accuracy: 0.7431\n",
      "Epoch 58/200\n",
      "39/39 [==============================] - ETA: 0s - loss: 0.5786 - accuracy: 0.7537\n",
      "Epoch 58: val_loss did not improve from 0.61208\n",
      "39/39 [==============================] - 1s 34ms/step - loss: 0.5786 - accuracy: 0.7537 - val_loss: 0.6436 - val_accuracy: 0.7539\n",
      "Epoch 59/200\n",
      "39/39 [==============================] - ETA: 0s - loss: 0.6052 - accuracy: 0.7383\n",
      "Epoch 59: val_loss improved from 0.61208 to 0.60040, saving model to model_S2Hand.h5\n",
      "39/39 [==============================] - 4s 92ms/step - loss: 0.6052 - accuracy: 0.7383 - val_loss: 0.6004 - val_accuracy: 0.7553\n",
      "Epoch 60/200\n",
      "38/39 [============================>.] - ETA: 0s - loss: 0.5685 - accuracy: 0.7538\n",
      "Epoch 60: val_loss did not improve from 0.60040\n",
      "39/39 [==============================] - 1s 36ms/step - loss: 0.5658 - accuracy: 0.7551 - val_loss: 0.6400 - val_accuracy: 0.7538\n",
      "Epoch 61/200\n",
      "39/39 [==============================] - ETA: 0s - loss: 0.5663 - accuracy: 0.7581\n",
      "Epoch 61: val_loss did not improve from 0.60040\n",
      "39/39 [==============================] - 1s 34ms/step - loss: 0.5663 - accuracy: 0.7581 - val_loss: 0.6194 - val_accuracy: 0.7545\n",
      "Epoch 62/200\n",
      "39/39 [==============================] - ETA: 0s - loss: 0.5397 - accuracy: 0.7703\n",
      "Epoch 62: val_loss did not improve from 0.60040\n",
      "39/39 [==============================] - 1s 34ms/step - loss: 0.5397 - accuracy: 0.7703 - val_loss: 0.6653 - val_accuracy: 0.7381\n",
      "Epoch 63/200\n",
      "39/39 [==============================] - ETA: 0s - loss: 0.5269 - accuracy: 0.7748\n",
      "Epoch 63: val_loss did not improve from 0.60040\n",
      "39/39 [==============================] - 1s 35ms/step - loss: 0.5269 - accuracy: 0.7748 - val_loss: 0.6911 - val_accuracy: 0.7409\n",
      "Epoch 64/200\n",
      "39/39 [==============================] - ETA: 0s - loss: 0.5933 - accuracy: 0.7345\n",
      "Epoch 64: val_loss improved from 0.60040 to 0.59668, saving model to model_S2Hand.h5\n",
      "39/39 [==============================] - 2s 40ms/step - loss: 0.5933 - accuracy: 0.7345 - val_loss: 0.5967 - val_accuracy: 0.7683\n",
      "Epoch 65/200\n",
      "39/39 [==============================] - ETA: 0s - loss: 0.5472 - accuracy: 0.7592\n",
      "Epoch 65: val_loss did not improve from 0.59668\n",
      "39/39 [==============================] - 1s 34ms/step - loss: 0.5472 - accuracy: 0.7592 - val_loss: 0.6218 - val_accuracy: 0.7574\n",
      "Epoch 66/200\n",
      "39/39 [==============================] - ETA: 0s - loss: 0.5189 - accuracy: 0.7771\n",
      "Epoch 66: val_loss did not improve from 0.59668\n",
      "39/39 [==============================] - 1s 35ms/step - loss: 0.5189 - accuracy: 0.7771 - val_loss: 0.7601 - val_accuracy: 0.7350\n",
      "Epoch 67/200\n",
      "39/39 [==============================] - ETA: 0s - loss: 0.5325 - accuracy: 0.7766\n",
      "Epoch 67: val_loss did not improve from 0.59668\n",
      "39/39 [==============================] - 1s 35ms/step - loss: 0.5325 - accuracy: 0.7766 - val_loss: 0.6163 - val_accuracy: 0.7679\n",
      "Epoch 68/200\n",
      "39/39 [==============================] - ETA: 0s - loss: 0.5078 - accuracy: 0.7803\n",
      "Epoch 68: val_loss did not improve from 0.59668\n",
      "39/39 [==============================] - 1s 35ms/step - loss: 0.5078 - accuracy: 0.7803 - val_loss: 0.6227 - val_accuracy: 0.7614\n",
      "Epoch 69/200\n",
      "39/39 [==============================] - ETA: 0s - loss: 0.5110 - accuracy: 0.7808\n",
      "Epoch 69: val_loss did not improve from 0.59668\n",
      "39/39 [==============================] - 1s 34ms/step - loss: 0.5110 - accuracy: 0.7808 - val_loss: 0.6743 - val_accuracy: 0.7497\n",
      "Epoch 70/200\n",
      "39/39 [==============================] - ETA: 0s - loss: 0.5269 - accuracy: 0.7803\n",
      "Epoch 70: val_loss did not improve from 0.59668\n",
      "39/39 [==============================] - 1s 34ms/step - loss: 0.5269 - accuracy: 0.7803 - val_loss: 0.6614 - val_accuracy: 0.7388\n",
      "Epoch 71/200\n",
      "39/39 [==============================] - ETA: 0s - loss: 0.5179 - accuracy: 0.7761\n",
      "Epoch 71: val_loss did not improve from 0.59668\n",
      "39/39 [==============================] - 1s 35ms/step - loss: 0.5179 - accuracy: 0.7761 - val_loss: 0.6152 - val_accuracy: 0.7570\n",
      "Epoch 72/200\n",
      "39/39 [==============================] - ETA: 0s - loss: 0.5138 - accuracy: 0.7754\n",
      "Epoch 72: val_loss did not improve from 0.59668\n",
      "39/39 [==============================] - 1s 34ms/step - loss: 0.5138 - accuracy: 0.7754 - val_loss: 0.6651 - val_accuracy: 0.7254\n",
      "Epoch 73/200\n",
      "39/39 [==============================] - ETA: 0s - loss: 0.5098 - accuracy: 0.7788\n",
      "Epoch 73: val_loss did not improve from 0.59668\n",
      "39/39 [==============================] - 1s 34ms/step - loss: 0.5098 - accuracy: 0.7788 - val_loss: 0.7291 - val_accuracy: 0.7205\n",
      "Epoch 74/200\n",
      "39/39 [==============================] - ETA: 0s - loss: 0.4854 - accuracy: 0.7960\n",
      "Epoch 74: val_loss did not improve from 0.59668\n",
      "39/39 [==============================] - 1s 35ms/step - loss: 0.4854 - accuracy: 0.7960 - val_loss: 0.7825 - val_accuracy: 0.7009\n",
      "Epoch 75/200\n",
      "39/39 [==============================] - ETA: 0s - loss: 0.4752 - accuracy: 0.7967\n",
      "Epoch 75: val_loss did not improve from 0.59668\n",
      "39/39 [==============================] - 1s 34ms/step - loss: 0.4752 - accuracy: 0.7967 - val_loss: 0.6766 - val_accuracy: 0.7379\n",
      "Epoch 76/200\n",
      "39/39 [==============================] - ETA: 0s - loss: 0.4560 - accuracy: 0.8072\n",
      "Epoch 76: val_loss did not improve from 0.59668\n",
      "39/39 [==============================] - 1s 35ms/step - loss: 0.4560 - accuracy: 0.8072 - val_loss: 0.6847 - val_accuracy: 0.7292\n",
      "Epoch 77/200\n",
      "39/39 [==============================] - ETA: 0s - loss: 0.4482 - accuracy: 0.8122\n",
      "Epoch 77: val_loss did not improve from 0.59668\n",
      "39/39 [==============================] - 1s 34ms/step - loss: 0.4482 - accuracy: 0.8122 - val_loss: 0.6498 - val_accuracy: 0.7555\n",
      "Epoch 78/200\n",
      "39/39 [==============================] - ETA: 0s - loss: 0.4898 - accuracy: 0.7845\n",
      "Epoch 78: val_loss did not improve from 0.59668\n",
      "39/39 [==============================] - 1s 34ms/step - loss: 0.4898 - accuracy: 0.7845 - val_loss: 0.6741 - val_accuracy: 0.7312\n",
      "Epoch 79/200\n",
      "39/39 [==============================] - ETA: 0s - loss: 0.4820 - accuracy: 0.7956\n",
      "Epoch 79: val_loss did not improve from 0.59668\n",
      "39/39 [==============================] - 1s 34ms/step - loss: 0.4820 - accuracy: 0.7956 - val_loss: 0.6358 - val_accuracy: 0.7528\n",
      "Epoch 80/200\n",
      "39/39 [==============================] - ETA: 0s - loss: 0.4395 - accuracy: 0.8167\n",
      "Epoch 80: val_loss did not improve from 0.59668\n",
      "39/39 [==============================] - 1s 34ms/step - loss: 0.4395 - accuracy: 0.8167 - val_loss: 0.6910 - val_accuracy: 0.7188\n",
      "Epoch 81/200\n",
      "39/39 [==============================] - ETA: 0s - loss: 0.4214 - accuracy: 0.8262\n",
      "Epoch 81: val_loss did not improve from 0.59668\n",
      "39/39 [==============================] - 1s 34ms/step - loss: 0.4214 - accuracy: 0.8262 - val_loss: 0.7317 - val_accuracy: 0.7060\n",
      "Epoch 82/200\n",
      "39/39 [==============================] - ETA: 0s - loss: 0.4215 - accuracy: 0.8288\n",
      "Epoch 82: val_loss did not improve from 0.59668\n",
      "39/39 [==============================] - 1s 35ms/step - loss: 0.4215 - accuracy: 0.8288 - val_loss: 0.7493 - val_accuracy: 0.7183\n",
      "Epoch 83/200\n",
      "39/39 [==============================] - ETA: 0s - loss: 0.4293 - accuracy: 0.8191\n",
      "Epoch 83: val_loss did not improve from 0.59668\n",
      "39/39 [==============================] - 1s 34ms/step - loss: 0.4293 - accuracy: 0.8191 - val_loss: 0.7419 - val_accuracy: 0.7145\n",
      "Epoch 84/200\n",
      "39/39 [==============================] - ETA: 0s - loss: 0.4153 - accuracy: 0.8266\n",
      "Epoch 84: val_loss did not improve from 0.59668\n",
      "39/39 [==============================] - 1s 34ms/step - loss: 0.4153 - accuracy: 0.8266 - val_loss: 0.6985 - val_accuracy: 0.7261\n"
     ]
    }
   ],
   "source": [
    "checkpointer = tf.keras.callbacks.ModelCheckpoint('model_S2Hand.h5', verbose=1, save_best_only=True)\n",
    "\n",
    "callbacks = [\n",
    "    tf.keras.callbacks.EarlyStopping(patience=20, monitor='val_loss'),checkpointer]\n",
    "\n",
    "results = model.fit(x_train, y_train_cat, validation_split=0.1, batch_size=12, epochs=200, callbacks=callbacks)"
   ]
  },
  {
   "cell_type": "markdown",
   "metadata": {},
   "source": [
    "### Evaluate the model on the test data"
   ]
  },
  {
   "cell_type": "code",
   "execution_count": 148,
   "metadata": {
    "colab": {
     "base_uri": "https://localhost:8080/"
    },
    "id": "GLLmQZs3ptxC",
    "outputId": "3ce45b7c-4cc9-4c10-e9c8-0c9e4f7751d8"
   },
   "outputs": [
    {
     "name": "stdout",
     "output_type": "stream",
     "text": [
      "Evaluate on test data\n",
      "5/5 [==============================] - 0s 17ms/step - loss: 0.7192 - accuracy: 0.6953\n",
      "test loss, test acc: [0.7192115187644958, 0.6953198909759521]\n"
     ]
    }
   ],
   "source": [
    "# Evaluate the model on the test data using `evaluate`\n",
    "print(\"Evaluate on test data\")\n",
    "results = model.evaluate(x_test, y_test_cat, batch_size=12)\n",
    "print(\"test loss, test acc:\", results)"
   ]
  },
  {
   "cell_type": "code",
   "execution_count": 149,
   "metadata": {
    "colab": {
     "base_uri": "https://localhost:8080/"
    },
    "id": "7aCY3nEKDe61",
    "outputId": "b51e9fd0-c398-4d23-e61f-fa1491939914"
   },
   "outputs": [
    {
     "name": "stderr",
     "output_type": "stream",
     "text": [
      "WARNING:tensorflow:5 out of the last 21 calls to <function Model.make_predict_function.<locals>.predict_function at 0x7f126c305550> triggered tf.function retracing. Tracing is expensive and the excessive number of tracings could be due to (1) creating @tf.function repeatedly in a loop, (2) passing tensors with different shapes, (3) passing Python objects instead of tensors. For (1), please define your @tf.function outside of the loop. For (2), @tf.function has reduce_retracing=True option that can avoid unnecessary retracing. For (3), please refer to https://www.tensorflow.org/guide/function#controlling_retracing and https://www.tensorflow.org/api_docs/python/tf/function for  more details.\n"
     ]
    },
    {
     "name": "stdout",
     "output_type": "stream",
     "text": [
      "2/2 [==============================] - 0s 30ms/step\n",
      "Mean IoU:  0.4664258\n"
     ]
    }
   ],
   "source": [
    "# IoU\n",
    "y_pred = model.predict(x_test)\n",
    "y_pred_argmax = np.argmax(y_pred,  axis=3)\n",
    "\n",
    "from keras.metrics import MeanIoU\n",
    "n_classes = 3\n",
    "IoU_Keras = MeanIoU(num_classes=n_classes)\n",
    "IoU_Keras.update_state(y_test[:,:,:,0], y_pred_argmax)\n",
    "print(\"Mean IoU: \", IoU_Keras.result().numpy())"
   ]
  },
  {
   "cell_type": "markdown",
   "metadata": {
    "id": "aNG9Vtt0pxVL"
   },
   "source": [
    "### Classification Maps"
   ]
  },
  {
   "cell_type": "code",
   "execution_count": 276,
   "metadata": {
    "colab": {
     "base_uri": "https://localhost:8080/",
     "height": 313
    },
    "id": "mzYluLDjpxfv",
    "outputId": "9cc4ce24-ed4a-4e88-f649-0095fe668b1f"
   },
   "outputs": [
    {
     "name": "stdout",
     "output_type": "stream",
     "text": [
      "1/1 [==============================] - 0s 16ms/step\n",
      "(1, 128, 128)\n",
      "[0 1 2]\n"
     ]
    },
    {
     "data": {
      "image/png": "[encoded data removed]",
      "text/plain": [
       "<Figure size 864x576 with 3 Axes>"
      ]
     },
     "metadata": {
      "needs_background": "light"
     },
     "output_type": "display_data"
    }
   ],
   "source": [
    "import random\n",
    "test_img_number = 10 #10, 36\n",
    "test_img = x_test[test_img_number]\n",
    "ground_truth = y_test[test_img_number]\n",
    "test_img_input = np.expand_dims(test_img, 0)\n",
    "prediction = model.predict(test_img_input)\n",
    "predicted_img=np.argmax(prediction, axis=3)\n",
    "print(predicted_img.shape)\n",
    "print(np.unique(predicted_img))\n",
    "\n",
    "\n",
    "plt.figure(figsize=(12, 8))\n",
    "plt.subplot(231)\n",
    "plt.title('Testing Image')\n",
    "plt.imshow(test_img[:,:,0], cmap='gray')\n",
    "plt.subplot(232)\n",
    "plt.title('Testing Label')\n",
    "plt.imshow(ground_truth[:,:,0], cmap='brg')\n",
    "plt.imsave('UNET_S2Hand_TestLabel.jpg', prediction_image, cmap='brg')\n",
    "plt.subplot(233)\n",
    "plt.title('Prediction on test image')\n",
    "plt.imshow(predicted_img[0,:,:], cmap='brg')\n",
    "plt.imsave('UNET_S2Hand_Predicted.jpg', prediction_image, cmap='brg')\n",
    "plt.show()"
   ]
  }
 ],
 "metadata": {
  "accelerator": "GPU",
  "colab": {
   "provenance": []
  },
  "gpuClass": "standard",
  "kernelspec": {
   "display_name": "Python 3 (ipykernel)",
   "language": "python",
   "name": "python3"
  },
  "language_info": {
   "codemirror_mode": {
    "name": "ipython",
    "version": 3
   },
   "file_extension": ".py",
   "mimetype": "text/x-python",
   "name": "python",
   "nbconvert_exporter": "python",
   "pygments_lexer": "ipython3",
   "version": "3.7.12"
  }
 },
 "nbformat": 4,
 "nbformat_minor": 1
}

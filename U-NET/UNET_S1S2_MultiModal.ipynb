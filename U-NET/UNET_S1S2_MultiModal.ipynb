{
 "cells": [
  {
   "cell_type": "code",
   "execution_count": 2,
   "metadata": {
    "id": "7Npp6F20-U9o"
   },
   "outputs": [],
   "source": [
    "import numpy as np\n",
    "import cv2\n",
    "import pandas as pd\n",
    "from scipy import ndimage as nd\n",
    " \n",
    "import pickle\n",
    "import os\n",
    "from skimage.io import imread, imshow\n",
    "from skimage.filters import roberts, sobel, scharr, prewitt\n",
    "import glob\n",
    "\n",
    "import tensorflow as tf\n",
    "import random\n",
    "from skimage.io import imread, imshow\n",
    "import skimage.transform\n",
    "import matplotlib.pyplot as plt"
   ]
  },
  {
   "cell_type": "markdown",
   "metadata": {},
   "source": [
    "### Prepare the Dataset"
   ]
  },
  {
   "cell_type": "code",
   "execution_count": 44,
   "metadata": {
    "colab": {
     "base_uri": "https://localhost:8080/"
    },
    "id": "mPC75L16-VAB",
    "outputId": "efa2ae89-a06b-4e38-9ec3-d79eb593539a"
   },
   "outputs": [
    {
     "name": "stdout",
     "output_type": "stream",
     "text": [
      "577\n",
      "577\n",
      "577\n"
     ]
    }
   ],
   "source": [
    "source_paths1 = \"S1Hand/\"\n",
    "source_paths2 = \"S2Hand\"\n",
    "label_path = \"LabelHand/\"\n",
    "\n",
    "sources1 = []\n",
    "sources2 =[]\n",
    "label = []\n",
    "\n",
    "for file in os.listdir(source_paths1):\n",
    "    if file.endswith(\"tif\"):\n",
    "      sources1.append(file)\n",
    "\n",
    "for file in os.listdir(source_paths2):\n",
    "    if file.endswith(\"tif\"):\n",
    "      sources2.append(file)\n",
    "        \n",
    "for file in os.listdir(label_path):\n",
    "    if file.endswith(\"tif\"):\n",
    "      label.append(file)\n",
    "\n",
    "\n",
    "## SAnity Check\n",
    "sources1 = sorted(sources1)\n",
    "sources2 = sorted(sources2)\n",
    "label = sorted(label)\n",
    "print(len(sources1))\n",
    "print(len(sources2))\n",
    "print(len(label))"
   ]
  },
  {
   "cell_type": "code",
   "execution_count": 45,
   "metadata": {
    "id": "pHpwRO2h-VDF"
   },
   "outputs": [],
   "source": [
    "IMG_WIDTH = 128\n",
    "IMG_HEIGHT = 128\n",
    "IMG_CHANNELS = 7\n",
    "\n",
    "\n",
    "#Build the model\n",
    "inputs = tf.keras.layers.Input((IMG_HEIGHT, IMG_WIDTH, IMG_CHANNELS))\n",
    "s = tf.keras.layers.Lambda(lambda x: x / 255)(inputs)"
   ]
  },
  {
   "cell_type": "code",
   "execution_count": 46,
   "metadata": {
    "id": "6kHXeG5m-VFF"
   },
   "outputs": [],
   "source": [
    "X = np.zeros((len(sources1), IMG_HEIGHT, IMG_WIDTH, IMG_CHANNELS), dtype=np.uint8)\n",
    "Y = np.zeros((len(label),IMG_HEIGHT, IMG_WIDTH, 1), dtype=np.uint8)"
   ]
  },
  {
   "cell_type": "code",
   "execution_count": 47,
   "metadata": {
    "colab": {
     "base_uri": "https://localhost:8080/"
    },
    "id": "rKiNGKAx-VIT",
    "outputId": "eca5d16c-9cc0-494d-aaf7-8536a75ad4a4"
   },
   "outputs": [
    {
     "name": "stdout",
     "output_type": "stream",
     "text": [
      "(577, 128, 128, 7)\n",
      "(577, 128, 128, 1)\n"
     ]
    }
   ],
   "source": [
    "# Sanity Check\n",
    "print(X.shape)\n",
    "print(Y.shape)"
   ]
  },
  {
   "cell_type": "code",
   "execution_count": 48,
   "metadata": {
    "id": "3WWhCybm-VKa"
   },
   "outputs": [],
   "source": [
    "for count, file in enumerate(sources1):\n",
    "    source_img = imread(source_paths1 +'/' +file ) #[0:2,:,:]\n",
    "    name = file.split(\"_\")\n",
    "    s2_name = name[0] + \"_\" +  name[1] + \"_\" + \"S2Hand_\" + name[3]\n",
    "\n",
    "    s1_image = np.transpose(source_img, (1, 2, 0))\n",
    "    s2_image =imread(source_paths2+'/' +s2_name)\n",
    "    s2_image = np.transpose(s2_image, (1, 2, 0))\n",
    "\n",
    "    merged = np.concatenate((s2_image, s1_image), axis=2)\n",
    "    X[count] = merged\n",
    "\n",
    "\n",
    "for count, file in enumerate(label):\n",
    "    slabel_img = imread(label_path + '/'+file ) #[:,:,:,IMG_CHANNELS]\n",
    "    # print(slabel_img.min())\n",
    "    y = np.expand_dims(slabel_img, axis=2)\n",
    "    # print(f\"The shape of y labels: {y.min()}\")\n",
    "    Y[count] = y "
   ]
  },
  {
   "cell_type": "code",
   "execution_count": 49,
   "metadata": {
    "colab": {
     "base_uri": "https://localhost:8080/"
    },
    "id": "6OuIvSIQ-VNZ",
    "outputId": "aff28868-a5d1-4bd8-b892-9d6182381dae"
   },
   "outputs": [
    {
     "name": "stdout",
     "output_type": "stream",
     "text": [
      "[0 1 2]\n"
     ]
    }
   ],
   "source": [
    "from sklearn.preprocessing import LabelEncoder \n",
    "labelencoder = LabelEncoder()\n",
    "Y_resahped = Y.reshape(-1,1)\n",
    "Y_resahped_encoded = labelencoder.fit_transform(Y_resahped)\n",
    "Y_original = Y_resahped_encoded.reshape(577,128,128,1)\n",
    "print(np.unique(Y_original))"
   ]
  },
  {
   "cell_type": "markdown",
   "metadata": {},
   "source": [
    "### Define the UNET"
   ]
  },
  {
   "cell_type": "code",
   "execution_count": 50,
   "metadata": {
    "colab": {
     "base_uri": "https://localhost:8080/"
    },
    "id": "UnDBdPkK-VPY",
    "outputId": "7c90c155-8f61-4ebe-ee90-c36f748f8644"
   },
   "outputs": [
    {
     "name": "stdout",
     "output_type": "stream",
     "text": [
      "Model: \"model_3\"\n",
      "__________________________________________________________________________________________________\n",
      " Layer (type)                   Output Shape         Param #     Connected to                     \n",
      "==================================================================================================\n",
      " input_2 (InputLayer)           [(None, 128, 128, 7  0           []                               \n",
      "                                )]                                                                \n",
      "                                                                                                  \n",
      " lambda_1 (Lambda)              (None, 128, 128, 7)  0           ['input_2[0][0]']                \n",
      "                                                                                                  \n",
      " conv2d_57 (Conv2D)             (None, 128, 128, 16  1024        ['lambda_1[0][0]']               \n",
      "                                )                                                                 \n",
      "                                                                                                  \n",
      " dropout_27 (Dropout)           (None, 128, 128, 16  0           ['conv2d_57[0][0]']              \n",
      "                                )                                                                 \n",
      "                                                                                                  \n",
      " conv2d_58 (Conv2D)             (None, 128, 128, 16  2320        ['dropout_27[0][0]']             \n",
      "                                )                                                                 \n",
      "                                                                                                  \n",
      " max_pooling2d_12 (MaxPooling2D  (None, 64, 64, 16)  0           ['conv2d_58[0][0]']              \n",
      " )                                                                                                \n",
      "                                                                                                  \n",
      " conv2d_59 (Conv2D)             (None, 64, 64, 32)   4640        ['max_pooling2d_12[0][0]']       \n",
      "                                                                                                  \n",
      " dropout_28 (Dropout)           (None, 64, 64, 32)   0           ['conv2d_59[0][0]']              \n",
      "                                                                                                  \n",
      " conv2d_60 (Conv2D)             (None, 64, 64, 32)   9248        ['dropout_28[0][0]']             \n",
      "                                                                                                  \n",
      " max_pooling2d_13 (MaxPooling2D  (None, 32, 32, 32)  0           ['conv2d_60[0][0]']              \n",
      " )                                                                                                \n",
      "                                                                                                  \n",
      " conv2d_61 (Conv2D)             (None, 32, 32, 64)   18496       ['max_pooling2d_13[0][0]']       \n",
      "                                                                                                  \n",
      " dropout_29 (Dropout)           (None, 32, 32, 64)   0           ['conv2d_61[0][0]']              \n",
      "                                                                                                  \n",
      " conv2d_62 (Conv2D)             (None, 32, 32, 64)   36928       ['dropout_29[0][0]']             \n",
      "                                                                                                  \n",
      " max_pooling2d_14 (MaxPooling2D  (None, 16, 16, 64)  0           ['conv2d_62[0][0]']              \n",
      " )                                                                                                \n",
      "                                                                                                  \n",
      " conv2d_63 (Conv2D)             (None, 16, 16, 128)  73856       ['max_pooling2d_14[0][0]']       \n",
      "                                                                                                  \n",
      " dropout_30 (Dropout)           (None, 16, 16, 128)  0           ['conv2d_63[0][0]']              \n",
      "                                                                                                  \n",
      " conv2d_64 (Conv2D)             (None, 16, 16, 128)  147584      ['dropout_30[0][0]']             \n",
      "                                                                                                  \n",
      " max_pooling2d_15 (MaxPooling2D  (None, 8, 8, 128)   0           ['conv2d_64[0][0]']              \n",
      " )                                                                                                \n",
      "                                                                                                  \n",
      " conv2d_65 (Conv2D)             (None, 8, 8, 256)    295168      ['max_pooling2d_15[0][0]']       \n",
      "                                                                                                  \n",
      " dropout_31 (Dropout)           (None, 8, 8, 256)    0           ['conv2d_65[0][0]']              \n",
      "                                                                                                  \n",
      " conv2d_66 (Conv2D)             (None, 8, 8, 256)    590080      ['dropout_31[0][0]']             \n",
      "                                                                                                  \n",
      " conv2d_transpose_12 (Conv2DTra  (None, 16, 16, 128)  131200     ['conv2d_66[0][0]']              \n",
      " nspose)                                                                                          \n",
      "                                                                                                  \n",
      " concatenate_12 (Concatenate)   (None, 16, 16, 256)  0           ['conv2d_transpose_12[0][0]',    \n",
      "                                                                  'conv2d_64[0][0]']              \n",
      "                                                                                                  \n",
      " conv2d_67 (Conv2D)             (None, 16, 16, 128)  295040      ['concatenate_12[0][0]']         \n",
      "                                                                                                  \n",
      " dropout_32 (Dropout)           (None, 16, 16, 128)  0           ['conv2d_67[0][0]']              \n",
      "                                                                                                  \n",
      " conv2d_68 (Conv2D)             (None, 16, 16, 128)  147584      ['dropout_32[0][0]']             \n",
      "                                                                                                  \n",
      " conv2d_transpose_13 (Conv2DTra  (None, 32, 32, 64)  32832       ['conv2d_68[0][0]']              \n",
      " nspose)                                                                                          \n",
      "                                                                                                  \n",
      " concatenate_13 (Concatenate)   (None, 32, 32, 128)  0           ['conv2d_transpose_13[0][0]',    \n",
      "                                                                  'conv2d_62[0][0]']              \n",
      "                                                                                                  \n",
      " conv2d_69 (Conv2D)             (None, 32, 32, 64)   73792       ['concatenate_13[0][0]']         \n",
      "                                                                                                  \n",
      " dropout_33 (Dropout)           (None, 32, 32, 64)   0           ['conv2d_69[0][0]']              \n",
      "                                                                                                  \n",
      " conv2d_70 (Conv2D)             (None, 32, 32, 64)   36928       ['dropout_33[0][0]']             \n",
      "                                                                                                  \n",
      " conv2d_transpose_14 (Conv2DTra  (None, 64, 64, 32)  8224        ['conv2d_70[0][0]']              \n",
      " nspose)                                                                                          \n",
      "                                                                                                  \n",
      " concatenate_14 (Concatenate)   (None, 64, 64, 64)   0           ['conv2d_transpose_14[0][0]',    \n",
      "                                                                  'conv2d_60[0][0]']              \n",
      "                                                                                                  \n",
      " conv2d_71 (Conv2D)             (None, 64, 64, 32)   18464       ['concatenate_14[0][0]']         \n",
      "                                                                                                  \n",
      " dropout_34 (Dropout)           (None, 64, 64, 32)   0           ['conv2d_71[0][0]']              \n",
      "                                                                                                  \n",
      " conv2d_72 (Conv2D)             (None, 64, 64, 32)   9248        ['dropout_34[0][0]']             \n",
      "                                                                                                  \n",
      " conv2d_transpose_15 (Conv2DTra  (None, 128, 128, 16  2064       ['conv2d_72[0][0]']              \n",
      " nspose)                        )                                                                 \n",
      "                                                                                                  \n",
      " concatenate_15 (Concatenate)   (None, 128, 128, 32  0           ['conv2d_transpose_15[0][0]',    \n",
      "                                )                                 'conv2d_58[0][0]']              \n",
      "                                                                                                  \n",
      " conv2d_73 (Conv2D)             (None, 128, 128, 16  4624        ['concatenate_15[0][0]']         \n",
      "                                )                                                                 \n",
      "                                                                                                  \n",
      " dropout_35 (Dropout)           (None, 128, 128, 16  0           ['conv2d_73[0][0]']              \n",
      "                                )                                                                 \n",
      "                                                                                                  \n",
      " conv2d_74 (Conv2D)             (None, 128, 128, 16  2320        ['dropout_35[0][0]']             \n",
      "                                )                                                                 \n",
      "                                                                                                  \n",
      " conv2d_75 (Conv2D)             (None, 128, 128, 3)  51          ['conv2d_74[0][0]']              \n",
      "                                                                                                  \n",
      "==================================================================================================\n",
      "Total params: 1,941,715\n",
      "Trainable params: 1,941,715\n",
      "Non-trainable params: 0\n",
      "__________________________________________________________________________________________________\n"
     ]
    }
   ],
   "source": [
    "#Contraction path\n",
    "c1 = tf.keras.layers.Conv2D(16, (3, 3), activation='relu', kernel_initializer='he_normal', padding='same')(s)\n",
    "c1 = tf.keras.layers.Dropout(0.1)(c1)\n",
    "c1 = tf.keras.layers.Conv2D(16, (3, 3), activation='relu', kernel_initializer='he_normal', padding='same')(c1)\n",
    "p1 = tf.keras.layers.MaxPooling2D((2, 2))(c1)\n",
    "\n",
    "c2 = tf.keras.layers.Conv2D(32, (3, 3), activation='relu', kernel_initializer='he_normal', padding='same')(p1)\n",
    "c2 = tf.keras.layers.Dropout(0.1)(c2)\n",
    "c2 = tf.keras.layers.Conv2D(32, (3, 3), activation='relu', kernel_initializer='he_normal', padding='same')(c2)\n",
    "p2 = tf.keras.layers.MaxPooling2D((2, 2))(c2)\n",
    " \n",
    "c3 = tf.keras.layers.Conv2D(64, (3, 3), activation='relu', kernel_initializer='he_normal', padding='same')(p2)\n",
    "c3 = tf.keras.layers.Dropout(0.2)(c3)\n",
    "c3 = tf.keras.layers.Conv2D(64, (3, 3), activation='relu', kernel_initializer='he_normal', padding='same')(c3)\n",
    "p3 = tf.keras.layers.MaxPooling2D((2, 2))(c3)\n",
    " \n",
    "c4 = tf.keras.layers.Conv2D(128, (3, 3), activation='relu', kernel_initializer='he_normal', padding='same')(p3)\n",
    "c4 = tf.keras.layers.Dropout(0.2)(c4)\n",
    "c4 = tf.keras.layers.Conv2D(128, (3, 3), activation='relu', kernel_initializer='he_normal', padding='same')(c4)\n",
    "p4 = tf.keras.layers.MaxPooling2D(pool_size=(2, 2))(c4)\n",
    " \n",
    "c5 = tf.keras.layers.Conv2D(256, (3, 3), activation='relu', kernel_initializer='he_normal', padding='same')(p4)\n",
    "c5 = tf.keras.layers.Dropout(0.3)(c5)\n",
    "c5 = tf.keras.layers.Conv2D(256, (3, 3), activation='relu', kernel_initializer='he_normal', padding='same')(c5)\n",
    "\n",
    "#Expansive path \n",
    "u6 = tf.keras.layers.Conv2DTranspose(128, (2, 2), strides=(2, 2), padding='same')(c5)\n",
    "u6 = tf.keras.layers.concatenate([u6, c4])\n",
    "c6 = tf.keras.layers.Conv2D(128, (3, 3), activation='relu', kernel_initializer='he_normal', padding='same')(u6)\n",
    "c6 = tf.keras.layers.Dropout(0.2)(c6)\n",
    "c6 = tf.keras.layers.Conv2D(128, (3, 3), activation='relu', kernel_initializer='he_normal', padding='same')(c6)\n",
    " \n",
    "u7 = tf.keras.layers.Conv2DTranspose(64, (2, 2), strides=(2, 2), padding='same')(c6)\n",
    "u7 = tf.keras.layers.concatenate([u7, c3])\n",
    "c7 = tf.keras.layers.Conv2D(64, (3, 3), activation='relu', kernel_initializer='he_normal', padding='same')(u7)\n",
    "c7 = tf.keras.layers.Dropout(0.2)(c7)\n",
    "c7 = tf.keras.layers.Conv2D(64, (3, 3), activation='relu', kernel_initializer='he_normal', padding='same')(c7)\n",
    " \n",
    "u8 = tf.keras.layers.Conv2DTranspose(32, (2, 2), strides=(2, 2), padding='same')(c7)\n",
    "u8 = tf.keras.layers.concatenate([u8, c2])\n",
    "c8 = tf.keras.layers.Conv2D(32, (3, 3), activation='relu', kernel_initializer='he_normal', padding='same')(u8)\n",
    "c8 = tf.keras.layers.Dropout(0.1)(c8)\n",
    "c8 = tf.keras.layers.Conv2D(32, (3, 3), activation='relu', kernel_initializer='he_normal', padding='same')(c8)\n",
    " \n",
    "u9 = tf.keras.layers.Conv2DTranspose(16, (2, 2), strides=(2, 2), padding='same')(c8)\n",
    "u9 = tf.keras.layers.concatenate([u9, c1], axis=3)\n",
    "c9 = tf.keras.layers.Conv2D(16, (3, 3), activation='relu', kernel_initializer='he_normal', padding='same')(u9)\n",
    "c9 = tf.keras.layers.Dropout(0.1)(c9)\n",
    "c9 = tf.keras.layers.Conv2D(16, (3, 3), activation='relu', kernel_initializer='he_normal', padding='same')(c9)\n",
    " \n",
    "outputs = tf.keras.layers.Conv2D(3, (1, 1), activation='softmax')(c9) #sigmoid\n",
    " \n",
    "model = tf.keras.Model(inputs=[inputs], outputs=[outputs])\n",
    "opt = tf.keras.optimizers.SGD(learning_rate=0.01, momentum=0.0, nesterov=False, name=\"SGD\")\n",
    "model.compile(optimizer='adam', loss='categorical_crossentropy', metrics=['accuracy'])\n",
    "model.summary()"
   ]
  },
  {
   "cell_type": "markdown",
   "metadata": {},
   "source": [
    "### Train the Model"
   ]
  },
  {
   "cell_type": "code",
   "execution_count": 51,
   "metadata": {
    "id": "2rVVNazz-VRl"
   },
   "outputs": [],
   "source": [
    "from sklearn.model_selection import train_test_split\n",
    "x_train, x_test, y_train, y_test = train_test_split(X, Y_original, test_size=0.10)"
   ]
  },
  {
   "cell_type": "code",
   "execution_count": 52,
   "metadata": {
    "colab": {
     "base_uri": "https://localhost:8080/"
    },
    "id": "pzUR3HPp-VT6",
    "outputId": "5eb603b9-0708-4b1b-8aad-fd15612df017"
   },
   "outputs": [
    {
     "name": "stdout",
     "output_type": "stream",
     "text": [
      "(519, 128, 128, 3)\n"
     ]
    }
   ],
   "source": [
    "from keras.utils import to_categorical\n",
    "train_mask_cat = to_categorical(y_train, num_classes=3)\n",
    "y_train_cat = train_mask_cat.reshape(y_train.shape[0], y_train.shape[1], y_train.shape[2],3)\n",
    "print(y_train_cat.shape)"
   ]
  },
  {
   "cell_type": "code",
   "execution_count": 53,
   "metadata": {
    "colab": {
     "base_uri": "https://localhost:8080/"
    },
    "id": "ubVwwQaq-VWi",
    "outputId": "b3494caf-90e6-4f4b-ac82-4b864974b7a7"
   },
   "outputs": [
    {
     "name": "stdout",
     "output_type": "stream",
     "text": [
      "(58, 128, 128, 3)\n"
     ]
    }
   ],
   "source": [
    "test_mask_cat = to_categorical(y_test, num_classes=3)\n",
    "y_test_cat = test_mask_cat.reshape(y_test.shape[0], y_test.shape[1], y_test.shape[2], 3)\n",
    "print(y_test_cat.shape)"
   ]
  },
  {
   "cell_type": "code",
   "execution_count": 54,
   "metadata": {
    "colab": {
     "base_uri": "https://localhost:8080/"
    },
    "id": "jr1ftzzR-xYD",
    "outputId": "879219dd-2af1-436f-d415-1966a4b5e895"
   },
   "outputs": [
    {
     "name": "stdout",
     "output_type": "stream",
     "text": [
      "Epoch 1/150\n",
      "38/39 [============================>.] - ETA: 0s - loss: 0.9866 - accuracy: 0.5342\n",
      "Epoch 1: val_loss improved from inf to 0.95362, saving model to model_S1S2.h5\n",
      "39/39 [==============================] - 4s 67ms/step - loss: 0.9847 - accuracy: 0.5367 - val_loss: 0.9536 - val_accuracy: 0.5800\n",
      "Epoch 2/150\n",
      "39/39 [==============================] - ETA: 0s - loss: 0.9226 - accuracy: 0.5887\n",
      "Epoch 2: val_loss improved from 0.95362 to 0.93723, saving model to model_S1S2.h5\n",
      "39/39 [==============================] - 2s 41ms/step - loss: 0.9226 - accuracy: 0.5887 - val_loss: 0.9372 - val_accuracy: 0.5805\n",
      "Epoch 3/150\n",
      "39/39 [==============================] - ETA: 0s - loss: 0.8916 - accuracy: 0.5959\n",
      "Epoch 3: val_loss improved from 0.93723 to 0.87214, saving model to model_S1S2.h5\n",
      "39/39 [==============================] - 2s 41ms/step - loss: 0.8916 - accuracy: 0.5959 - val_loss: 0.8721 - val_accuracy: 0.6110\n",
      "Epoch 4/150\n",
      "39/39 [==============================] - ETA: 0s - loss: 0.8803 - accuracy: 0.6026\n",
      "Epoch 4: val_loss did not improve from 0.87214\n",
      "39/39 [==============================] - 1s 35ms/step - loss: 0.8803 - accuracy: 0.6026 - val_loss: 0.8735 - val_accuracy: 0.6166\n",
      "Epoch 5/150\n",
      "39/39 [==============================] - ETA: 0s - loss: 0.8511 - accuracy: 0.6188\n",
      "Epoch 5: val_loss improved from 0.87214 to 0.86907, saving model to model_S1S2.h5\n",
      "39/39 [==============================] - 2s 41ms/step - loss: 0.8511 - accuracy: 0.6188 - val_loss: 0.8691 - val_accuracy: 0.6188\n",
      "Epoch 6/150\n",
      "39/39 [==============================] - ETA: 0s - loss: 0.8455 - accuracy: 0.6227\n",
      "Epoch 6: val_loss improved from 0.86907 to 0.85480, saving model to model_S1S2.h5\n",
      "39/39 [==============================] - 2s 41ms/step - loss: 0.8455 - accuracy: 0.6227 - val_loss: 0.8548 - val_accuracy: 0.6171\n",
      "Epoch 7/150\n",
      "39/39 [==============================] - ETA: 0s - loss: 0.8417 - accuracy: 0.6227\n",
      "Epoch 7: val_loss did not improve from 0.85480\n",
      "39/39 [==============================] - 1s 35ms/step - loss: 0.8417 - accuracy: 0.6227 - val_loss: 0.8638 - val_accuracy: 0.5702\n",
      "Epoch 8/150\n",
      "39/39 [==============================] - ETA: 0s - loss: 0.8364 - accuracy: 0.6266\n",
      "Epoch 8: val_loss improved from 0.85480 to 0.84154, saving model to model_S1S2.h5\n",
      "39/39 [==============================] - 2s 41ms/step - loss: 0.8364 - accuracy: 0.6266 - val_loss: 0.8415 - val_accuracy: 0.6045\n",
      "Epoch 9/150\n",
      "39/39 [==============================] - ETA: 0s - loss: 0.8207 - accuracy: 0.6413\n",
      "Epoch 9: val_loss improved from 0.84154 to 0.83639, saving model to model_S1S2.h5\n",
      "39/39 [==============================] - 2s 42ms/step - loss: 0.8207 - accuracy: 0.6413 - val_loss: 0.8364 - val_accuracy: 0.5989\n",
      "Epoch 10/150\n",
      "39/39 [==============================] - ETA: 0s - loss: 0.8114 - accuracy: 0.6454\n",
      "Epoch 10: val_loss improved from 0.83639 to 0.81918, saving model to model_S1S2.h5\n",
      "39/39 [==============================] - 2s 41ms/step - loss: 0.8114 - accuracy: 0.6454 - val_loss: 0.8192 - val_accuracy: 0.6395\n",
      "Epoch 11/150\n",
      "39/39 [==============================] - ETA: 0s - loss: 0.8144 - accuracy: 0.6359\n",
      "Epoch 11: val_loss did not improve from 0.81918\n",
      "39/39 [==============================] - 1s 36ms/step - loss: 0.8144 - accuracy: 0.6359 - val_loss: 0.8312 - val_accuracy: 0.6272\n",
      "Epoch 12/150\n",
      "39/39 [==============================] - ETA: 0s - loss: 0.7921 - accuracy: 0.6450\n",
      "Epoch 12: val_loss improved from 0.81918 to 0.81871, saving model to model_S1S2.h5\n",
      "39/39 [==============================] - 2s 41ms/step - loss: 0.7921 - accuracy: 0.6450 - val_loss: 0.8187 - val_accuracy: 0.6304\n",
      "Epoch 13/150\n",
      "39/39 [==============================] - ETA: 0s - loss: 0.7799 - accuracy: 0.6594\n",
      "Epoch 13: val_loss improved from 0.81871 to 0.80548, saving model to model_S1S2.h5\n",
      "39/39 [==============================] - 2s 42ms/step - loss: 0.7799 - accuracy: 0.6594 - val_loss: 0.8055 - val_accuracy: 0.6108\n",
      "Epoch 14/150\n",
      "39/39 [==============================] - ETA: 0s - loss: 0.7909 - accuracy: 0.6548\n",
      "Epoch 14: val_loss did not improve from 0.80548\n",
      "39/39 [==============================] - 1s 36ms/step - loss: 0.7909 - accuracy: 0.6548 - val_loss: 0.8731 - val_accuracy: 0.5763\n",
      "Epoch 15/150\n",
      "39/39 [==============================] - ETA: 0s - loss: 0.7887 - accuracy: 0.6546\n",
      "Epoch 15: val_loss improved from 0.80548 to 0.79251, saving model to model_S1S2.h5\n",
      "39/39 [==============================] - 2s 42ms/step - loss: 0.7887 - accuracy: 0.6546 - val_loss: 0.7925 - val_accuracy: 0.6251\n",
      "Epoch 16/150\n",
      "39/39 [==============================] - ETA: 0s - loss: 0.7724 - accuracy: 0.6588\n",
      "Epoch 16: val_loss did not improve from 0.79251\n",
      "39/39 [==============================] - 1s 36ms/step - loss: 0.7724 - accuracy: 0.6588 - val_loss: 0.8163 - val_accuracy: 0.6312\n",
      "Epoch 17/150\n",
      "39/39 [==============================] - ETA: 0s - loss: 0.7746 - accuracy: 0.6647\n",
      "Epoch 17: val_loss improved from 0.79251 to 0.79222, saving model to model_S1S2.h5\n",
      "39/39 [==============================] - 2s 41ms/step - loss: 0.7746 - accuracy: 0.6647 - val_loss: 0.7922 - val_accuracy: 0.6190\n",
      "Epoch 18/150\n",
      "39/39 [==============================] - ETA: 0s - loss: 0.7613 - accuracy: 0.6696\n",
      "Epoch 18: val_loss improved from 0.79222 to 0.77659, saving model to model_S1S2.h5\n",
      "39/39 [==============================] - 2s 42ms/step - loss: 0.7613 - accuracy: 0.6696 - val_loss: 0.7766 - val_accuracy: 0.6419\n",
      "Epoch 19/150\n",
      "39/39 [==============================] - ETA: 0s - loss: 0.7805 - accuracy: 0.6628\n",
      "Epoch 19: val_loss improved from 0.77659 to 0.77540, saving model to model_S1S2.h5\n",
      "39/39 [==============================] - 2s 42ms/step - loss: 0.7805 - accuracy: 0.6628 - val_loss: 0.7754 - val_accuracy: 0.6386\n",
      "Epoch 20/150\n",
      "39/39 [==============================] - ETA: 0s - loss: 0.7623 - accuracy: 0.6711\n",
      "Epoch 20: val_loss did not improve from 0.77540\n",
      "39/39 [==============================] - 1s 36ms/step - loss: 0.7623 - accuracy: 0.6711 - val_loss: 0.8544 - val_accuracy: 0.6082\n",
      "Epoch 21/150\n",
      "39/39 [==============================] - ETA: 0s - loss: 0.7596 - accuracy: 0.6659\n",
      "Epoch 21: val_loss improved from 0.77540 to 0.77064, saving model to model_S1S2.h5\n",
      "39/39 [==============================] - 2s 42ms/step - loss: 0.7596 - accuracy: 0.6659 - val_loss: 0.7706 - val_accuracy: 0.6488\n",
      "Epoch 22/150\n",
      "39/39 [==============================] - ETA: 0s - loss: 0.7661 - accuracy: 0.6670\n",
      "Epoch 22: val_loss did not improve from 0.77064\n",
      "39/39 [==============================] - 1s 36ms/step - loss: 0.7661 - accuracy: 0.6670 - val_loss: 0.7790 - val_accuracy: 0.6483\n",
      "Epoch 23/150\n",
      "39/39 [==============================] - ETA: 0s - loss: 0.7472 - accuracy: 0.6777\n",
      "Epoch 23: val_loss did not improve from 0.77064\n",
      "39/39 [==============================] - 1s 36ms/step - loss: 0.7472 - accuracy: 0.6777 - val_loss: 0.7733 - val_accuracy: 0.6323\n",
      "Epoch 24/150\n",
      "39/39 [==============================] - ETA: 0s - loss: 0.7468 - accuracy: 0.6760\n",
      "Epoch 24: val_loss did not improve from 0.77064\n",
      "39/39 [==============================] - 1s 36ms/step - loss: 0.7468 - accuracy: 0.6760 - val_loss: 0.7999 - val_accuracy: 0.6445\n",
      "Epoch 25/150\n",
      "39/39 [==============================] - ETA: 0s - loss: 0.7523 - accuracy: 0.6727\n",
      "Epoch 25: val_loss improved from 0.77064 to 0.72420, saving model to model_S1S2.h5\n",
      "39/39 [==============================] - 2s 42ms/step - loss: 0.7523 - accuracy: 0.6727 - val_loss: 0.7242 - val_accuracy: 0.6588\n",
      "Epoch 26/150\n",
      "39/39 [==============================] - ETA: 0s - loss: 0.7509 - accuracy: 0.6747\n",
      "Epoch 26: val_loss did not improve from 0.72420\n",
      "39/39 [==============================] - 1s 36ms/step - loss: 0.7509 - accuracy: 0.6747 - val_loss: 0.8179 - val_accuracy: 0.6546\n",
      "Epoch 27/150\n",
      "39/39 [==============================] - ETA: 0s - loss: 0.7618 - accuracy: 0.6759\n",
      "Epoch 27: val_loss did not improve from 0.72420\n",
      "39/39 [==============================] - 1s 36ms/step - loss: 0.7618 - accuracy: 0.6759 - val_loss: 0.7453 - val_accuracy: 0.6616\n",
      "Epoch 28/150\n",
      "39/39 [==============================] - ETA: 0s - loss: 0.7285 - accuracy: 0.6871\n",
      "Epoch 28: val_loss did not improve from 0.72420\n",
      "39/39 [==============================] - 1s 36ms/step - loss: 0.7285 - accuracy: 0.6871 - val_loss: 0.7521 - val_accuracy: 0.6583\n",
      "Epoch 29/150\n",
      "39/39 [==============================] - ETA: 0s - loss: 0.7424 - accuracy: 0.6798\n",
      "Epoch 29: val_loss did not improve from 0.72420\n",
      "39/39 [==============================] - 1s 36ms/step - loss: 0.7424 - accuracy: 0.6798 - val_loss: 0.7840 - val_accuracy: 0.6242\n",
      "Epoch 30/150\n",
      "39/39 [==============================] - ETA: 0s - loss: 0.7309 - accuracy: 0.6846\n",
      "Epoch 30: val_loss did not improve from 0.72420\n",
      "39/39 [==============================] - 1s 36ms/step - loss: 0.7309 - accuracy: 0.6846 - val_loss: 0.7638 - val_accuracy: 0.6475\n",
      "Epoch 31/150\n",
      "39/39 [==============================] - ETA: 0s - loss: 0.7438 - accuracy: 0.6740\n",
      "Epoch 31: val_loss did not improve from 0.72420\n",
      "39/39 [==============================] - 1s 36ms/step - loss: 0.7438 - accuracy: 0.6740 - val_loss: 0.7682 - val_accuracy: 0.6499\n",
      "Epoch 32/150\n",
      "39/39 [==============================] - ETA: 0s - loss: 0.7401 - accuracy: 0.6839\n",
      "Epoch 32: val_loss did not improve from 0.72420\n",
      "39/39 [==============================] - 1s 37ms/step - loss: 0.7401 - accuracy: 0.6839 - val_loss: 0.7279 - val_accuracy: 0.6736\n",
      "Epoch 33/150\n",
      "39/39 [==============================] - ETA: 0s - loss: 0.7254 - accuracy: 0.6866\n",
      "Epoch 33: val_loss did not improve from 0.72420\n",
      "39/39 [==============================] - 1s 36ms/step - loss: 0.7254 - accuracy: 0.6866 - val_loss: 0.8586 - val_accuracy: 0.6088\n",
      "Epoch 34/150\n",
      "39/39 [==============================] - ETA: 0s - loss: 0.7232 - accuracy: 0.6885\n",
      "Epoch 34: val_loss did not improve from 0.72420\n",
      "39/39 [==============================] - 1s 36ms/step - loss: 0.7232 - accuracy: 0.6885 - val_loss: 0.7516 - val_accuracy: 0.6664\n",
      "Epoch 35/150\n",
      "39/39 [==============================] - ETA: 0s - loss: 0.7236 - accuracy: 0.6894\n",
      "Epoch 35: val_loss did not improve from 0.72420\n",
      "39/39 [==============================] - 1s 36ms/step - loss: 0.7236 - accuracy: 0.6894 - val_loss: 0.7511 - val_accuracy: 0.6628\n",
      "Epoch 36/150\n",
      "39/39 [==============================] - ETA: 0s - loss: 0.7073 - accuracy: 0.6918\n",
      "Epoch 36: val_loss did not improve from 0.72420\n",
      "39/39 [==============================] - 1s 36ms/step - loss: 0.7073 - accuracy: 0.6918 - val_loss: 0.7315 - val_accuracy: 0.6695\n",
      "Epoch 37/150\n",
      "39/39 [==============================] - ETA: 0s - loss: 0.7269 - accuracy: 0.6909\n",
      "Epoch 37: val_loss did not improve from 0.72420\n",
      "39/39 [==============================] - 1s 36ms/step - loss: 0.7269 - accuracy: 0.6909 - val_loss: 0.7288 - val_accuracy: 0.6722\n",
      "Epoch 38/150\n",
      "39/39 [==============================] - ETA: 0s - loss: 0.7222 - accuracy: 0.6887\n",
      "Epoch 38: val_loss did not improve from 0.72420\n",
      "39/39 [==============================] - 1s 36ms/step - loss: 0.7222 - accuracy: 0.6887 - val_loss: 0.7516 - val_accuracy: 0.6536\n",
      "Epoch 39/150\n",
      "39/39 [==============================] - ETA: 0s - loss: 0.7083 - accuracy: 0.6889\n",
      "Epoch 39: val_loss did not improve from 0.72420\n",
      "39/39 [==============================] - 1s 36ms/step - loss: 0.7083 - accuracy: 0.6889 - val_loss: 0.7473 - val_accuracy: 0.6522\n",
      "Epoch 40/150\n",
      "39/39 [==============================] - ETA: 0s - loss: 0.7135 - accuracy: 0.6932\n",
      "Epoch 40: val_loss did not improve from 0.72420\n",
      "39/39 [==============================] - 1s 36ms/step - loss: 0.7135 - accuracy: 0.6932 - val_loss: 0.8308 - val_accuracy: 0.6472\n"
     ]
    }
   ],
   "source": [
    "checkpointer = tf.keras.callbacks.ModelCheckpoint('model_S1S2.h5', verbose=1, save_best_only=True)\n",
    "\n",
    "callbacks = [\n",
    "    tf.keras.callbacks.EarlyStopping(patience=15, monitor='val_loss'),checkpointer]\n",
    "\n",
    "results = model.fit(x_train, y_train_cat, validation_split=0.1, batch_size=12, epochs=150, callbacks=callbacks)"
   ]
  },
  {
   "cell_type": "markdown",
   "metadata": {},
   "source": [
    "### Evaluate the model on the test data"
   ]
  },
  {
   "cell_type": "code",
   "execution_count": 55,
   "metadata": {
    "colab": {
     "base_uri": "https://localhost:8080/"
    },
    "id": "Aoll3F5h-xfX",
    "outputId": "f62bdc11-ac91-4af9-bf89-d8355b96a2bf"
   },
   "outputs": [
    {
     "name": "stdout",
     "output_type": "stream",
     "text": [
      "Evaluate on test data\n",
      "5/5 [==============================] - 0s 19ms/step - loss: 0.7304 - accuracy: 0.6656\n",
      "test loss, test acc: [0.730411946773529, 0.6656094193458557]\n"
     ]
    }
   ],
   "source": [
    "# Evaluate the model on the test data using `evaluate`\n",
    "print(\"Evaluate on test data\")\n",
    "results = model.evaluate(x_test, y_test_cat, batch_size=12)\n",
    "print(\"test loss, test acc:\", results)"
   ]
  },
  {
   "cell_type": "code",
   "execution_count": 56,
   "metadata": {
    "colab": {
     "base_uri": "https://localhost:8080/"
    },
    "id": "qN0_TU6H-xke",
    "outputId": "49fb1579-84a1-4e28-ad6e-f5efddab3052"
   },
   "outputs": [
    {
     "name": "stdout",
     "output_type": "stream",
     "text": [
      "2/2 [==============================] - 0s 33ms/step\n",
      "Mean IoU:  0.3427987\n"
     ]
    }
   ],
   "source": [
    "# IoU\n",
    "y_pred = model.predict(x_test)\n",
    "y_pred_argmax = np.argmax(y_pred,  axis=3)\n",
    "\n",
    "from keras.metrics import MeanIoU\n",
    "n_classes = 3\n",
    "IoU_Keras = MeanIoU(num_classes=n_classes)\n",
    "IoU_Keras.update_state(y_test[:,:,:,0], y_pred_argmax)\n",
    "print(\"Mean IoU: \", IoU_Keras.result().numpy())"
   ]
  }
 ],
 "metadata": {
  "accelerator": "GPU",
  "colab": {
   "provenance": []
  },
  "gpuClass": "standard",
  "kernelspec": {
   "display_name": "Python 3 (ipykernel)",
   "language": "python",
   "name": "python3"
  },
  "language_info": {
   "codemirror_mode": {
    "name": "ipython",
    "version": 3
   },
   "file_extension": ".py",
   "mimetype": "text/x-python",
   "name": "python",
   "nbconvert_exporter": "python",
   "pygments_lexer": "ipython3",
   "version": "3.7.12"
  }
 },
 "nbformat": 4,
 "nbformat_minor": 1
}

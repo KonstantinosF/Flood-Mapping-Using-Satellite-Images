{
  "nbformat": 4,
  "nbformat_minor": 0,
  "metadata": {
    "colab": {
      "provenance": []
    },
    "kernelspec": {
      "name": "python3",
      "display_name": "Python 3"
    },
    "language_info": {
      "name": "python"
    }
  },
  "cells": [
    {
      "cell_type": "code",
      "execution_count": 1,
      "metadata": {
        "colab": {
          "base_uri": "https://localhost:8080/",
          "height": 17
        },
        "id": "8_3Zre9KX5T7",
        "outputId": "304fbe05-df6e-4eb9-ab91-e4693232893c"
      },
      "outputs": [
        {
          "output_type": "display_data",
          "data": {
            "text/plain": [
              "<IPython.core.display.Javascript object>"
            ],
            "application/javascript": [
              "function ClickConnect(){\n",
              "console.log(\"Working\");\n",
              "document.querySelector(\"colab-toolbar-button#connect\").click()\n",
              "}setInterval(ClickConnect,60000)\n"
            ]
          },
          "metadata": {}
        }
      ],
      "source": [
        "%%javascript\n",
        "function ClickConnect(){\n",
        "console.log(\"Working\");\n",
        "document.querySelector(\"colab-toolbar-button#connect\").click()\n",
        "}setInterval(ClickConnect,60000)"
      ]
    },
    {
      "cell_type": "code",
      "source": [
        "cd /content/drive/MyDrive/DATA/Hand"
      ],
      "metadata": {
        "colab": {
          "base_uri": "https://localhost:8080/"
        },
        "id": "BM90x0i2bhI4",
        "outputId": "f86ea997-fe70-4729-973c-fd78ca7ee36e"
      },
      "execution_count": 4,
      "outputs": [
        {
          "output_type": "stream",
          "name": "stdout",
          "text": [
            "/content/drive/MyDrive/DATA/Hand\n"
          ]
        }
      ]
    },
    {
      "cell_type": "code",
      "source": [
        "from scipy import ndimage as nd\n",
        " \n",
        "from matplotlib import pyplot as plt\n",
        "from skimage.io import imread, imshow\n",
        "from skimage.filters import roberts, sobel, scharr, prewitt\n",
        "\n",
        "import numpy as np \n",
        "import pandas as pd \n",
        "import matplotlib.pyplot as plt\n",
        "import glob\n",
        "import cv2\n",
        "import pickle\n",
        "\n",
        "from keras.models import Sequential, Model\n",
        "from keras.layers import Conv2D\n",
        "import os\n",
        "from keras.applications.vgg16 import VGG16"
      ],
      "metadata": {
        "id": "gZlbefLQYNq3"
      },
      "execution_count": 2,
      "outputs": []
    },
    {
      "cell_type": "code",
      "source": [
        "source_paths1 = \"S1Hand/\"\n",
        "source_paths2 = \"S2Hand\"\n",
        "label_path = \"LabelHand/\"\n",
        "\n",
        "sources1 = []\n",
        "sources2 =[]\n",
        "label = []\n",
        "\n",
        "for file in os.listdir(source_paths1):\n",
        "    if file.endswith(\"tif\"):\n",
        "      sources1.append(file)\n",
        "\n",
        "for file in os.listdir(source_paths2):\n",
        "    if file.endswith(\"tif\"):\n",
        "      sources2.append(file)\n",
        "        \n",
        "for file in os.listdir(label_path):\n",
        "    if file.endswith(\"tif\"):\n",
        "      label.append(file)\n",
        "\n",
        "\n",
        "## Sanity Check\n",
        "sources1 = sorted(sources1)\n",
        "sources2 = sorted(sources2)\n",
        "label = sorted(label)\n",
        "print(len(sources1))\n",
        "print(len(sources2))\n",
        "print(len(label))"
      ],
      "metadata": {
        "colab": {
          "base_uri": "https://localhost:8080/"
        },
        "id": "OfNdK8H6YNy2",
        "outputId": "056b351c-dc75-4f97-9809-b8e2d66ad67e"
      },
      "execution_count": 5,
      "outputs": [
        {
          "output_type": "stream",
          "name": "stdout",
          "text": [
            "577\n",
            "577\n",
            "577\n"
          ]
        }
      ]
    },
    {
      "cell_type": "code",
      "source": [
        "IMG_WIDTH = 128\n",
        "IMG_HEIGHT = 128\n",
        "IMG_CHANNELS = 3\n",
        "\n",
        "X_source = np.zeros((len(sources1), IMG_HEIGHT, IMG_WIDTH, IMG_CHANNELS), dtype=np.uint8)\n",
        "Y_label = np.zeros((len(sources1),IMG_HEIGHT, IMG_WIDTH, 1), dtype=np.int8)\n",
        "\n",
        "# Sanity Check\n",
        "print(X_source.shape)\n",
        "print(Y_label.shape)"
      ],
      "metadata": {
        "colab": {
          "base_uri": "https://localhost:8080/"
        },
        "id": "McZC2eu5Yra3",
        "outputId": "91434351-097b-4ec2-9e2f-f441bd160689"
      },
      "execution_count": 6,
      "outputs": [
        {
          "output_type": "stream",
          "name": "stdout",
          "text": [
            "(577, 128, 128, 3)\n",
            "(577, 128, 128, 1)\n"
          ]
        }
      ]
    },
    {
      "cell_type": "code",
      "source": [
        "for count, file in enumerate(sources1):\n",
        "    source_img = imread(source_paths1 +'/' +file )[1:2,:,:] # Load only VH band\n",
        "    s1_image = np.transpose(source_img, (1, 2, 0))\n",
        "\n",
        "    name = file.split(\"_\")\n",
        "    s2_name = name[0] + \"_\" +  name[1] + \"_\" + \"S2Hand_\" + name[3]\n",
        "    s2_image =imread(source_paths2+'/' +s2_name)[[2,3],:,:] # Load only Red and Nir bands\n",
        "    s2_image = np.transpose(s2_image, (1, 2, 0))\n",
        "\n",
        "    merged = np.concatenate((s2_image, s1_image), axis=2)\n",
        "    X_source[count] = merged\n",
        "\n",
        "\n",
        "for count, file in enumerate(label):\n",
        "    slabel_img = imread(label_path + '/'+file ) #[:,:,:,IMG_CHANNELS]\n",
        "    # print(slabel_img.min())\n",
        "    y = np.expand_dims(slabel_img, axis=2)\n",
        "    Y_label[count] = y "
      ],
      "metadata": {
        "id": "AtXYmY9KZznz"
      },
      "execution_count": 7,
      "outputs": []
    },
    {
      "cell_type": "code",
      "source": [
        "#Use customary x_train and y_train variables\n",
        "X_train = X_source\n",
        "Y_train = Y_label\n",
        "print(X_train.shape)\n",
        "print(Y_train.shape)"
      ],
      "metadata": {
        "colab": {
          "base_uri": "https://localhost:8080/"
        },
        "id": "wG1i6Ws9YrkP",
        "outputId": "88d3909a-3872-4571-be61-d052fe9b6725"
      },
      "execution_count": null,
      "outputs": [
        {
          "output_type": "stream",
          "name": "stdout",
          "text": [
            "(577, 128, 128, 3)\n",
            "(577, 128, 128, 1)\n"
          ]
        }
      ]
    },
    {
      "cell_type": "code",
      "source": [
        "from sklearn.model_selection import train_test_split\n",
        "x_train, x_test, y_train, y_test = train_test_split(X_train, Y_train, test_size=0.3, random_state=42)"
      ],
      "metadata": {
        "id": "pH0POQ20Y_i-"
      },
      "execution_count": null,
      "outputs": []
    },
    {
      "cell_type": "code",
      "source": [
        "#Load VGG16 model wothout classifier/fully connected layers\n",
        "#Load imagenet weights that we are going to use as feature generators\n",
        "VGG_model = VGG16(weights='imagenet', include_top=False, input_shape=(IMG_HEIGHT, IMG_WIDTH, IMG_CHANNELS))\n",
        "\n",
        "#Make loaded layers as non-trainable. This is important as we want to work with pre-trained weights\n",
        "for layer in VGG_model.layers:\n",
        "    layer.trainable = False\n",
        "    \n",
        "VGG_model.summary()  #Trainable parameters will be 0"
      ],
      "metadata": {
        "colab": {
          "base_uri": "https://localhost:8080/"
        },
        "id": "tfNgUEtMY_w9",
        "outputId": "19222cb3-82f6-43a3-9df5-2a9ad7a1e58a"
      },
      "execution_count": null,
      "outputs": [
        {
          "output_type": "stream",
          "name": "stdout",
          "text": [
            "Downloading data from https://storage.googleapis.com/tensorflow/keras-applications/vgg16/vgg16_weights_tf_dim_ordering_tf_kernels_notop.h5\n",
            "58889256/58889256 [==============================] - 3s 0us/step\n",
            "Model: \"vgg16\"\n",
            "_________________________________________________________________\n",
            " Layer (type)                Output Shape              Param #   \n",
            "=================================================================\n",
            " input_1 (InputLayer)        [(None, 128, 128, 3)]     0         \n",
            "                                                                 \n",
            " block1_conv1 (Conv2D)       (None, 128, 128, 64)      1792      \n",
            "                                                                 \n",
            " block1_conv2 (Conv2D)       (None, 128, 128, 64)      36928     \n",
            "                                                                 \n",
            " block1_pool (MaxPooling2D)  (None, 64, 64, 64)        0         \n",
            "                                                                 \n",
            " block2_conv1 (Conv2D)       (None, 64, 64, 128)       73856     \n",
            "                                                                 \n",
            " block2_conv2 (Conv2D)       (None, 64, 64, 128)       147584    \n",
            "                                                                 \n",
            " block2_pool (MaxPooling2D)  (None, 32, 32, 128)       0         \n",
            "                                                                 \n",
            " block3_conv1 (Conv2D)       (None, 32, 32, 256)       295168    \n",
            "                                                                 \n",
            " block3_conv2 (Conv2D)       (None, 32, 32, 256)       590080    \n",
            "                                                                 \n",
            " block3_conv3 (Conv2D)       (None, 32, 32, 256)       590080    \n",
            "                                                                 \n",
            " block3_pool (MaxPooling2D)  (None, 16, 16, 256)       0         \n",
            "                                                                 \n",
            " block4_conv1 (Conv2D)       (None, 16, 16, 512)       1180160   \n",
            "                                                                 \n",
            " block4_conv2 (Conv2D)       (None, 16, 16, 512)       2359808   \n",
            "                                                                 \n",
            " block4_conv3 (Conv2D)       (None, 16, 16, 512)       2359808   \n",
            "                                                                 \n",
            " block4_pool (MaxPooling2D)  (None, 8, 8, 512)         0         \n",
            "                                                                 \n",
            " block5_conv1 (Conv2D)       (None, 8, 8, 512)         2359808   \n",
            "                                                                 \n",
            " block5_conv2 (Conv2D)       (None, 8, 8, 512)         2359808   \n",
            "                                                                 \n",
            " block5_conv3 (Conv2D)       (None, 8, 8, 512)         2359808   \n",
            "                                                                 \n",
            " block5_pool (MaxPooling2D)  (None, 4, 4, 512)         0         \n",
            "                                                                 \n",
            "=================================================================\n",
            "Total params: 14,714,688\n",
            "Trainable params: 0\n",
            "Non-trainable params: 14,714,688\n",
            "_________________________________________________________________\n"
          ]
        }
      ]
    },
    {
      "cell_type": "code",
      "source": [
        "#After the first 2 convolutional layers the image dimension changes. \n",
        "#So for easy comparison to Y (labels) let us only take first 2 conv layers\n",
        "#and create a new model to extract features\n",
        "#New model with only first 2 conv layers\n",
        "new_model = Model(inputs=VGG_model.input, outputs=VGG_model.get_layer('block1_conv2').output)\n",
        "new_model.summary()"
      ],
      "metadata": {
        "colab": {
          "base_uri": "https://localhost:8080/"
        },
        "id": "vu7Wg3hrZJgA",
        "outputId": "c66b67f6-76be-4441-f2ac-086d38872a06"
      },
      "execution_count": null,
      "outputs": [
        {
          "output_type": "stream",
          "name": "stdout",
          "text": [
            "Model: \"model\"\n",
            "_________________________________________________________________\n",
            " Layer (type)                Output Shape              Param #   \n",
            "=================================================================\n",
            " input_1 (InputLayer)        [(None, 128, 128, 3)]     0         \n",
            "                                                                 \n",
            " block1_conv1 (Conv2D)       (None, 128, 128, 64)      1792      \n",
            "                                                                 \n",
            " block1_conv2 (Conv2D)       (None, 128, 128, 64)      36928     \n",
            "                                                                 \n",
            "=================================================================\n",
            "Total params: 38,720\n",
            "Trainable params: 0\n",
            "Non-trainable params: 38,720\n",
            "_________________________________________________________________\n"
          ]
        }
      ]
    },
    {
      "cell_type": "code",
      "source": [
        "# Αpply feature extractor to our training data\n",
        "features=new_model.predict(x_train)"
      ],
      "metadata": {
        "colab": {
          "base_uri": "https://localhost:8080/"
        },
        "id": "qAZ0gFtmZJku",
        "outputId": "f5ad9dff-5ddf-4772-dc45-b155c2ce84df"
      },
      "execution_count": null,
      "outputs": [
        {
          "output_type": "stream",
          "name": "stdout",
          "text": [
            "13/13 [==============================] - 12s 922ms/step\n"
          ]
        }
      ]
    },
    {
      "cell_type": "code",
      "source": [
        "#Plot features to view them\n",
        "square = 8\n",
        "ix=1\n",
        "for _ in range(square):\n",
        "    for _ in range(square):\n",
        "        ax = plt.subplot(square, square, ix)\n",
        "        ax.set_xticks([])\n",
        "        ax.set_yticks([])\n",
        "        plt.imshow(features[0,:,:,ix-1], cmap='gray')\n",
        "        ix +=1\n",
        "plt.show()"
      ],
      "metadata": {
        "colab": {
          "base_uri": "https://localhost:8080/",
          "height": 252
        },
        "id": "qFNosTAVZJnE",
        "outputId": "9f51d5dc-f4b7-4a95-b410-364fd3afcb89"
      },
      "execution_count": null,
      "outputs": [
        {
          "output_type": "display_data",
          "data": {
            "text/plain": [
              "<Figure size 432x288 with 64 Axes>"
            ],
            "image/png": "[encoded data removed]"
          },
          "metadata": {}
        }
      ]
    },
    {
      "cell_type": "code",
      "source": [
        "#Reassign 'features' as X to make it easy to follow\n",
        "X=features\n",
        "X = X.reshape(-1, X.shape[3])  #Make it compatible for Random Forest and match Y labels"
      ],
      "metadata": {
        "id": "CKJk01l0ZOmw"
      },
      "execution_count": null,
      "outputs": []
    },
    {
      "cell_type": "code",
      "source": [
        "#Reshape Y to match X\n",
        "Y = y_train.reshape(-1)"
      ],
      "metadata": {
        "id": "g-1t5EPgZOq9"
      },
      "execution_count": null,
      "outputs": []
    },
    {
      "cell_type": "code",
      "source": [
        "#Combine X and Y into a dataframe \n",
        "#In our labels Y values -1 indicates clouds.\n",
        "dataset = pd.DataFrame(X)\n",
        "dataset['Label'] = Y\n",
        "print(dataset['Label'].unique())\n",
        "print(dataset['Label'].value_counts())"
      ],
      "metadata": {
        "colab": {
          "base_uri": "https://localhost:8080/"
        },
        "id": "1HfAc12IZWpB",
        "outputId": "42fd851e-d7a3-443c-e8ff-5d69d6fdb802"
      },
      "execution_count": null,
      "outputs": [
        {
          "output_type": "stream",
          "name": "stdout",
          "text": [
            "[ 1  0 -1]\n",
            " 0    3853859\n",
            " 1    1981231\n",
            "-1     767662\n",
            "Name: Label, dtype: int64\n"
          ]
        }
      ]
    },
    {
      "cell_type": "code",
      "source": [
        "#Redefine X and Y for Random Forest\n",
        "X_for_RF = dataset.drop(labels = ['Label'], axis=1)\n",
        "Y_for_RF = dataset['Label']"
      ],
      "metadata": {
        "id": "nCjE8uhwZZ9S"
      },
      "execution_count": null,
      "outputs": []
    },
    {
      "cell_type": "code",
      "source": [
        "#RANDOM FOREST\n",
        "from sklearn.ensemble import RandomForestClassifier\n",
        "model = RandomForestClassifier(n_estimators = 20, verbose=10)\n",
        "\n",
        "# Train the model on training data\n",
        "model.fit(X_for_RF, Y_for_RF) "
      ],
      "metadata": {
        "colab": {
          "base_uri": "https://localhost:8080/"
        },
        "id": "NhQqr43BZcQf",
        "outputId": "1cefb355-84d8-48b4-e81c-7db9b6e91724"
      },
      "execution_count": null,
      "outputs": [
        {
          "output_type": "stream",
          "name": "stderr",
          "text": [
            "[Parallel(n_jobs=1)]: Using backend SequentialBackend with 1 concurrent workers.\n"
          ]
        },
        {
          "output_type": "stream",
          "name": "stdout",
          "text": [
            "building tree 1 of 20\n"
          ]
        },
        {
          "output_type": "stream",
          "name": "stderr",
          "text": [
            "[Parallel(n_jobs=1)]: Done   1 out of   1 | elapsed:  2.9min remaining:    0.0s\n"
          ]
        },
        {
          "output_type": "stream",
          "name": "stdout",
          "text": [
            "building tree 2 of 20\n"
          ]
        },
        {
          "output_type": "stream",
          "name": "stderr",
          "text": [
            "[Parallel(n_jobs=1)]: Done   2 out of   2 | elapsed:  5.8min remaining:    0.0s\n"
          ]
        },
        {
          "output_type": "stream",
          "name": "stdout",
          "text": [
            "building tree 3 of 20\n"
          ]
        },
        {
          "output_type": "stream",
          "name": "stderr",
          "text": [
            "[Parallel(n_jobs=1)]: Done   3 out of   3 | elapsed:  8.8min remaining:    0.0s\n"
          ]
        },
        {
          "output_type": "stream",
          "name": "stdout",
          "text": [
            "building tree 4 of 20\n"
          ]
        },
        {
          "output_type": "stream",
          "name": "stderr",
          "text": [
            "[Parallel(n_jobs=1)]: Done   4 out of   4 | elapsed: 11.8min remaining:    0.0s\n"
          ]
        },
        {
          "output_type": "stream",
          "name": "stdout",
          "text": [
            "building tree 5 of 20\n"
          ]
        },
        {
          "output_type": "stream",
          "name": "stderr",
          "text": [
            "[Parallel(n_jobs=1)]: Done   5 out of   5 | elapsed: 15.0min remaining:    0.0s\n"
          ]
        },
        {
          "output_type": "stream",
          "name": "stdout",
          "text": [
            "building tree 6 of 20\n"
          ]
        },
        {
          "output_type": "stream",
          "name": "stderr",
          "text": [
            "[Parallel(n_jobs=1)]: Done   6 out of   6 | elapsed: 17.8min remaining:    0.0s\n"
          ]
        },
        {
          "output_type": "stream",
          "name": "stdout",
          "text": [
            "building tree 7 of 20\n"
          ]
        },
        {
          "output_type": "stream",
          "name": "stderr",
          "text": [
            "[Parallel(n_jobs=1)]: Done   7 out of   7 | elapsed: 20.9min remaining:    0.0s\n"
          ]
        },
        {
          "output_type": "stream",
          "name": "stdout",
          "text": [
            "building tree 8 of 20\n"
          ]
        },
        {
          "output_type": "stream",
          "name": "stderr",
          "text": [
            "[Parallel(n_jobs=1)]: Done   8 out of   8 | elapsed: 23.9min remaining:    0.0s\n"
          ]
        },
        {
          "output_type": "stream",
          "name": "stdout",
          "text": [
            "building tree 9 of 20\n"
          ]
        },
        {
          "output_type": "stream",
          "name": "stderr",
          "text": [
            "[Parallel(n_jobs=1)]: Done   9 out of   9 | elapsed: 26.8min remaining:    0.0s\n"
          ]
        },
        {
          "output_type": "stream",
          "name": "stdout",
          "text": [
            "building tree 10 of 20\n",
            "building tree 11 of 20\n",
            "building tree 12 of 20\n",
            "building tree 13 of 20\n",
            "building tree 14 of 20\n",
            "building tree 15 of 20\n",
            "building tree 16 of 20\n",
            "building tree 17 of 20\n",
            "building tree 18 of 20\n",
            "building tree 19 of 20\n",
            "building tree 20 of 20\n"
          ]
        },
        {
          "output_type": "stream",
          "name": "stderr",
          "text": [
            "[Parallel(n_jobs=1)]: Done  20 out of  20 | elapsed: 55.1min finished\n"
          ]
        },
        {
          "output_type": "execute_result",
          "data": {
            "text/plain": [
              "RandomForestClassifier(n_estimators=20, verbose=10)"
            ]
          },
          "metadata": {},
          "execution_count": 17
        }
      ]
    },
    {
      "cell_type": "code",
      "source": [
        "#Save model for future use\n",
        "filename = 'TL_model_multimodal.sav'\n",
        "pickle.dump(model, open(filename, 'wb'))\n",
        "\n",
        "#Load model.... \n",
        "# loaded_model = pickle.load(open(filename, 'rb'))"
      ],
      "metadata": {
        "id": "rFy4pL7kZcYe"
      },
      "execution_count": 8,
      "outputs": []
    },
    {
      "cell_type": "code",
      "source": [],
      "metadata": {
        "id": "HjMXGqSbpUMb"
      },
      "execution_count": null,
      "outputs": []
    },
    {
      "cell_type": "markdown",
      "source": [
        "## TEST THE MODEL"
      ],
      "metadata": {
        "id": "3wb9NjaRp4sL"
      }
    },
    {
      "cell_type": "code",
      "source": [
        "# x_train, x_test, y_train, y_test\n",
        "#Now, let us apply feature extractor to our training data\n",
        "features=new_model.predict(x_test)"
      ],
      "metadata": {
        "colab": {
          "base_uri": "https://localhost:8080/"
        },
        "id": "TAWtMftRpUTl",
        "outputId": "931055d9-252e-4e20-aa25-1a6275d596d5"
      },
      "execution_count": null,
      "outputs": [
        {
          "output_type": "stream",
          "name": "stdout",
          "text": [
            "6/6 [==============================] - 6s 868ms/step\n"
          ]
        }
      ]
    },
    {
      "cell_type": "code",
      "source": [
        "#Reassign 'features' as X to make it easy to follow\n",
        "Xtest=features\n",
        "Xtest = Xtest.reshape(-1, Xtest.shape[3])  #Make it compatible for Random Forest and match Y labels"
      ],
      "metadata": {
        "id": "2PrJ37fvpUYJ"
      },
      "execution_count": null,
      "outputs": []
    },
    {
      "cell_type": "code",
      "source": [
        "#Reshape Y to match X\n",
        "# Ytest = y_test.reshape(-1)\n",
        "Ytest = y_test.reshape(-1)"
      ],
      "metadata": {
        "id": "2v1BSMaMpVof"
      },
      "execution_count": null,
      "outputs": []
    },
    {
      "cell_type": "code",
      "source": [
        "#Combine X and Y into a dataframe \n",
        "#In our labels Y values -1 indicates clouds.\n",
        "dataset_test = pd.DataFrame(Xtest)\n",
        "dataset_test['Label'] = Ytest\n",
        "print(dataset_test['Label'].unique())\n",
        "print(dataset_test['Label'].value_counts())"
      ],
      "metadata": {
        "colab": {
          "base_uri": "https://localhost:8080/"
        },
        "id": "5_6n33EZpVyf",
        "outputId": "80c4483a-fdcf-4f9c-daad-034ab2647a6c"
      },
      "execution_count": null,
      "outputs": [
        {
          "output_type": "stream",
          "name": "stdout",
          "text": [
            "[ 1  0 -1]\n",
            " 0    1671750\n",
            " 1     903619\n",
            "-1     275447\n",
            "Name: Label, dtype: int64\n"
          ]
        }
      ]
    },
    {
      "cell_type": "code",
      "source": [
        "#Redefine X and Y for Random Forest\n",
        "Xtest_for_RF = dataset_test.drop(labels = ['Label'], axis=1)\n",
        "Ytest_for_RF = dataset_test['Label']"
      ],
      "metadata": {
        "id": "wzG0XfwqpgdF"
      },
      "execution_count": null,
      "outputs": []
    },
    {
      "cell_type": "code",
      "source": [
        "from sklearn import metrics\n",
        "prediction_test = model.predict(Xtest_for_RF)\n",
        "##Check accuracy on test dataset. \n",
        "print (\"Accuracy = \", metrics.accuracy_score(Ytest_for_RF, prediction_test))\n",
        "print(\"IOU = \", metrics.jaccard_score(Ytest_for_RF, prediction_test, average =\"micro\"))\n",
        "print(\"Precision = \", metrics.precision_score(Ytest_for_RF, prediction_test, average =\"micro\"))\n",
        "print(\"Recall = \", \tmetrics.recall_score(Ytest_for_RF, prediction_test, average =\"micro\"))\n",
        "print(\"F1 score = \", metrics.f1_score(Ytest_for_RF, prediction_test, average =\"micro\"))"
      ],
      "metadata": {
        "colab": {
          "base_uri": "https://localhost:8080/"
        },
        "id": "bfnVnVeBpkBV",
        "outputId": "df30682e-a7f9-440c-b341-e498da434a62"
      },
      "execution_count": null,
      "outputs": [
        {
          "output_type": "stream",
          "name": "stderr",
          "text": [
            "[Parallel(n_jobs=1)]: Using backend SequentialBackend with 1 concurrent workers.\n",
            "[Parallel(n_jobs=1)]: Done   1 out of   1 | elapsed:    4.5s remaining:    0.0s\n",
            "[Parallel(n_jobs=1)]: Done   2 out of   2 | elapsed:    8.9s remaining:    0.0s\n",
            "[Parallel(n_jobs=1)]: Done   3 out of   3 | elapsed:   12.9s remaining:    0.0s\n",
            "[Parallel(n_jobs=1)]: Done   4 out of   4 | elapsed:   16.8s remaining:    0.0s\n",
            "[Parallel(n_jobs=1)]: Done   5 out of   5 | elapsed:   20.2s remaining:    0.0s\n",
            "[Parallel(n_jobs=1)]: Done   6 out of   6 | elapsed:   24.1s remaining:    0.0s\n",
            "[Parallel(n_jobs=1)]: Done   7 out of   7 | elapsed:   27.8s remaining:    0.0s\n",
            "[Parallel(n_jobs=1)]: Done   8 out of   8 | elapsed:   32.1s remaining:    0.0s\n",
            "[Parallel(n_jobs=1)]: Done   9 out of   9 | elapsed:   36.3s remaining:    0.0s\n",
            "[Parallel(n_jobs=1)]: Done  20 out of  20 | elapsed:  1.2min finished\n"
          ]
        },
        {
          "output_type": "stream",
          "name": "stdout",
          "text": [
            "Accuracy =  0.7181371930001796\n",
            "IOU =  0.56022937016245\n",
            "Precision =  0.7181371930001796\n",
            "Recall =  0.7181371930001796\n",
            "F1 score =  0.7181371930001796\n"
          ]
        }
      ]
    },
    {
      "cell_type": "code",
      "source": [],
      "metadata": {
        "id": "i7sgs7MAyoHm"
      },
      "execution_count": null,
      "outputs": []
    }
  ]
}
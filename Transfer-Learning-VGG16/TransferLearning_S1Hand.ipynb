{
  "cells": [
    {
      "cell_type": "code",
      "execution_count": null,
      "metadata": {
        "colab": {
          "base_uri": "https://localhost:8080/",
          "height": 17
        },
        "id": "SJN4qChGz9lr",
        "outputId": "7a688706-b79f-4bb8-9afe-42c39d879ea0"
      },
      "outputs": [
        {
          "output_type": "display_data",
          "data": {
            "text/plain": [
              "<IPython.core.display.Javascript object>"
            ],
            "application/javascript": [
              "function ClickConnect(){\n",
              "console.log(\"Working\");\n",
              "document.querySelector(\"colab-toolbar-button#connect\").click()\n",
              "}setInterval(ClickConnect,60000)\n"
            ]
          },
          "metadata": {}
        }
      ],
      "source": [
        "%%javascript\n",
        "function ClickConnect(){\n",
        "console.log(\"Working\");\n",
        "document.querySelector(\"colab-toolbar-button#connect\").click()\n",
        "}setInterval(ClickConnect,60000)"
      ]
    },
    {
      "cell_type": "code",
      "execution_count": null,
      "metadata": {
        "id": "HEIlTNSKzpjD"
      },
      "outputs": [],
      "source": [
        "import numpy as np \n",
        "import pandas as pd \n",
        "import matplotlib.pyplot as plt\n",
        "import glob\n",
        "import cv2\n",
        "import pickle\n",
        "from skimage.io import imread, imshow\n",
        "\n",
        "from keras.models import Sequential, Model\n",
        "from keras.layers import Conv2D\n",
        "import os\n",
        "from keras.applications.vgg16 import VGG16"
      ]
    },
    {
      "cell_type": "code",
      "source": [
        "cd /content/drive/MyDrive/DATA/Hand"
      ],
      "metadata": {
        "colab": {
          "base_uri": "https://localhost:8080/"
        },
        "id": "uvc4vGjnbiuw",
        "outputId": "2c10a939-f33e-40a3-81b0-85383c6927f7"
      },
      "execution_count": null,
      "outputs": [
        {
          "output_type": "stream",
          "name": "stdout",
          "text": [
            "/content/drive/MyDrive/DATA/Hand\n"
          ]
        }
      ]
    },
    {
      "cell_type": "code",
      "execution_count": null,
      "metadata": {
        "colab": {
          "base_uri": "https://localhost:8080/"
        },
        "id": "1vL4KeXP0CMC",
        "outputId": "485fc491-b32c-4f9c-f516-6db5edf6dc82"
      },
      "outputs": [
        {
          "output_type": "stream",
          "name": "stdout",
          "text": [
            "577\n",
            "577\n"
          ]
        }
      ],
      "source": [
        "source_path = \"S1Hand/\"\n",
        "label_path = \"S1OtsuLabelHand/\" \n",
        "\n",
        "source = []\n",
        "label = []\n",
        "for file in os.listdir(source_path):\n",
        "    if file.endswith(\"tif\"):\n",
        "        source.append(file)\n",
        "        \n",
        "for file in os.listdir(label_path):\n",
        "    if file.endswith(\"tif\"):\n",
        "        label.append(file)\n",
        "\n",
        "# Sort the lists \n",
        "source = sorted(source)\n",
        "label = sorted(label)\n",
        "# Sanity Check\n",
        "print(len(source))\n",
        "print(len(label))"
      ]
    },
    {
      "cell_type": "code",
      "execution_count": null,
      "metadata": {
        "colab": {
          "base_uri": "https://localhost:8080/"
        },
        "id": "gGIGTRCf0COZ",
        "outputId": "45624403-5803-4bc6-a997-fbc007a58afe"
      },
      "outputs": [
        {
          "output_type": "stream",
          "name": "stdout",
          "text": [
            "577\n",
            "577\n",
            "Spain_8372658_S1Hand_0128256128.tif\n",
            "Spain_8372658_S1OtsuLabelHand_0128256128.tif\n"
          ]
        }
      ],
      "source": [
        "# Sanity Check - The source and label images should match\n",
        "import random\n",
        "rand_idx = random.randrange(len(source))\n",
        "print(len(source))\n",
        "print(len(label))\n",
        "print(source[rand_idx])\n",
        "print(label[rand_idx])"
      ]
    },
    {
      "cell_type": "code",
      "execution_count": null,
      "metadata": {
        "id": "Qrp2-IQW0CQn"
      },
      "outputs": [],
      "source": [
        "IMG_WIDTH = 128\n",
        "IMG_HEIGHT = 128\n",
        "IMG_CHANNELS = 3 # Since VGG-16 uses 3 bands, we are utilizing VV, VH and VH/VV as spectral bands\n",
        "\n",
        "X_source = np.zeros((len(source), IMG_HEIGHT, IMG_WIDTH, IMG_CHANNELS), dtype=np.uint8)\n",
        "Y_label = np.zeros((len(source),IMG_HEIGHT, IMG_WIDTH, 1), dtype=np.uint8)"
      ]
    },
    {
      "cell_type": "code",
      "execution_count": null,
      "metadata": {
        "id": "7EIFT3Nk0CSV"
      },
      "outputs": [],
      "source": [
        "for count, file in enumerate(source):\n",
        "    source_img = imread(source_path +'/' +file ) #[:,:,IMG_CHANNELS]\n",
        "    new_image = np.transpose(source_img, (1, 2, 0))\n",
        "    vh_vv = new_image[:,:,0]/new_image[:,:,1]\n",
        "    vh_vv = np.expand_dims(vh_vv, axis=2)\n",
        "    final = np.concatenate((new_image,vh_vv), axis=2)\n",
        "    X_source[count] = final[:,:,:] \n",
        "\n",
        "\n",
        "for count, file in enumerate(label):\n",
        "    slabel_img = imread(label_path + '/'+file ) #[:,:,:,IMG_CHANNELS]\n",
        "    y = np.expand_dims(slabel_img, axis=2)\n",
        "    Y_label[count] = y "
      ]
    },
    {
      "cell_type": "code",
      "execution_count": null,
      "metadata": {
        "colab": {
          "base_uri": "https://localhost:8080/"
        },
        "id": "LNiaDACw0KIX",
        "outputId": "6481ba41-891a-4096-cac0-0fc49e2e8109"
      },
      "outputs": [
        {
          "output_type": "stream",
          "name": "stdout",
          "text": [
            "(577, 128, 128, 3)\n",
            "(577, 128, 128, 1)\n"
          ]
        }
      ],
      "source": [
        "#Use customary x_train and y_train variables\n",
        "X_train = X_source\n",
        "y_train = Y_label\n",
        "print(X_train.shape)\n",
        "print(y_train.shape)"
      ]
    },
    {
      "cell_type": "code",
      "execution_count": null,
      "metadata": {
        "id": "-qzGP1xy0N81"
      },
      "outputs": [],
      "source": [
        "from sklearn.model_selection import train_test_split\n",
        "x_train, x_test, y_train, y_test = train_test_split(X_train, y_train, test_size=0.3)# random_state=42"
      ]
    },
    {
      "cell_type": "code",
      "execution_count": null,
      "metadata": {
        "colab": {
          "base_uri": "https://localhost:8080/"
        },
        "id": "FUOdxEA10N_4",
        "outputId": "d5b7f28b-713f-4884-f9b1-f93362d7116f"
      },
      "outputs": [
        {
          "output_type": "stream",
          "name": "stdout",
          "text": [
            "Model: \"vgg16\"\n",
            "_________________________________________________________________\n",
            " Layer (type)                Output Shape              Param #   \n",
            "=================================================================\n",
            " input_1 (InputLayer)        [(None, 128, 128, 3)]     0         \n",
            "                                                                 \n",
            " block1_conv1 (Conv2D)       (None, 128, 128, 64)      1792      \n",
            "                                                                 \n",
            " block1_conv2 (Conv2D)       (None, 128, 128, 64)      36928     \n",
            "                                                                 \n",
            " block1_pool (MaxPooling2D)  (None, 64, 64, 64)        0         \n",
            "                                                                 \n",
            " block2_conv1 (Conv2D)       (None, 64, 64, 128)       73856     \n",
            "                                                                 \n",
            " block2_conv2 (Conv2D)       (None, 64, 64, 128)       147584    \n",
            "                                                                 \n",
            " block2_pool (MaxPooling2D)  (None, 32, 32, 128)       0         \n",
            "                                                                 \n",
            " block3_conv1 (Conv2D)       (None, 32, 32, 256)       295168    \n",
            "                                                                 \n",
            " block3_conv2 (Conv2D)       (None, 32, 32, 256)       590080    \n",
            "                                                                 \n",
            " block3_conv3 (Conv2D)       (None, 32, 32, 256)       590080    \n",
            "                                                                 \n",
            " block3_pool (MaxPooling2D)  (None, 16, 16, 256)       0         \n",
            "                                                                 \n",
            " block4_conv1 (Conv2D)       (None, 16, 16, 512)       1180160   \n",
            "                                                                 \n",
            " block4_conv2 (Conv2D)       (None, 16, 16, 512)       2359808   \n",
            "                                                                 \n",
            " block4_conv3 (Conv2D)       (None, 16, 16, 512)       2359808   \n",
            "                                                                 \n",
            " block4_pool (MaxPooling2D)  (None, 8, 8, 512)         0         \n",
            "                                                                 \n",
            " block5_conv1 (Conv2D)       (None, 8, 8, 512)         2359808   \n",
            "                                                                 \n",
            " block5_conv2 (Conv2D)       (None, 8, 8, 512)         2359808   \n",
            "                                                                 \n",
            " block5_conv3 (Conv2D)       (None, 8, 8, 512)         2359808   \n",
            "                                                                 \n",
            " block5_pool (MaxPooling2D)  (None, 4, 4, 512)         0         \n",
            "                                                                 \n",
            "=================================================================\n",
            "Total params: 14,714,688\n",
            "Trainable params: 0\n",
            "Non-trainable params: 14,714,688\n",
            "_________________________________________________________________\n"
          ]
        }
      ],
      "source": [
        "#Load VGG16 model without classifier/fully connected layers\n",
        "#Load imagenet weights that we are going to use as feature generators\n",
        "VGG_model = VGG16(weights='imagenet', include_top=False, input_shape=(IMG_HEIGHT, IMG_WIDTH, IMG_CHANNELS))\n",
        "\n",
        "#Make loaded layers as non-trainable. This is important as we want to work with pre-trained weights\n",
        "for layer in VGG_model.layers:\n",
        "    layer.trainable = False\n",
        "    \n",
        "VGG_model.summary()  #Trainable parameters will be 0"
      ]
    },
    {
      "cell_type": "code",
      "execution_count": null,
      "metadata": {
        "colab": {
          "base_uri": "https://localhost:8080/"
        },
        "id": "6RNOqFNd0UbU",
        "outputId": "fb5b65e9-1568-4dd7-be90-5cba0efab341"
      },
      "outputs": [
        {
          "output_type": "stream",
          "name": "stdout",
          "text": [
            "Model: \"model\"\n",
            "_________________________________________________________________\n",
            " Layer (type)                Output Shape              Param #   \n",
            "=================================================================\n",
            " input_1 (InputLayer)        [(None, 128, 128, 3)]     0         \n",
            "                                                                 \n",
            " block1_conv1 (Conv2D)       (None, 128, 128, 64)      1792      \n",
            "                                                                 \n",
            " block1_conv2 (Conv2D)       (None, 128, 128, 64)      36928     \n",
            "                                                                 \n",
            "=================================================================\n",
            "Total params: 38,720\n",
            "Trainable params: 0\n",
            "Non-trainable params: 38,720\n",
            "_________________________________________________________________\n"
          ]
        }
      ],
      "source": [
        "# After the first 2 convolutional layers the image dimension changes. \n",
        "# So for easy comparison to Y (labels) let us only take first 2 conv layers\n",
        "# and create a new model to extract features\n",
        "# New model with only first 2 conv layers\n",
        "new_model = Model(inputs=VGG_model.input, outputs=VGG_model.get_layer('block1_conv2').output)\n",
        "new_model.summary()"
      ]
    },
    {
      "cell_type": "code",
      "execution_count": null,
      "metadata": {
        "colab": {
          "base_uri": "https://localhost:8080/"
        },
        "id": "HIyNkWdP0UoY",
        "outputId": "ba3279b2-f8b7-471b-8a59-59515845eecf"
      },
      "outputs": [
        {
          "output_type": "stream",
          "name": "stdout",
          "text": [
            "13/13 [==============================] - 0s 19ms/step\n"
          ]
        }
      ],
      "source": [
        "# Now, let us apply feature extractor to our training data\n",
        "features = new_model.predict(x_train)"
      ]
    },
    {
      "cell_type": "code",
      "execution_count": null,
      "metadata": {
        "colab": {
          "base_uri": "https://localhost:8080/",
          "height": 252
        },
        "id": "8SQZ_xYI0Yiq",
        "outputId": "e2154b2e-767d-471d-ebb7-e1acdf10cccc"
      },
      "outputs": [
        {
          "output_type": "display_data",
          "data": {
            "text/plain": [
              "<Figure size 432x288 with 64 Axes>"
            ],
            "image/png": "[encoded data removed]"
          },
          "metadata": {}
        }
      ],
      "source": [
        "#Plot features to view them - Sanity Check\n",
        "square = 8\n",
        "ix=1\n",
        "for _ in range(square):\n",
        "    for _ in range(square):\n",
        "        ax = plt.subplot(square, square, ix)\n",
        "        ax.set_xticks([])\n",
        "        ax.set_yticks([])\n",
        "        plt.imshow(features[0,:,:,ix-1], cmap='gray')\n",
        "        ix +=1\n",
        "plt.show()"
      ]
    },
    {
      "cell_type": "code",
      "execution_count": null,
      "metadata": {
        "id": "zxUew4CB0Yp6"
      },
      "outputs": [],
      "source": [
        "# Reassign 'features' as X to make it easy to follow\n",
        "X=features\n",
        "X = X.reshape(-1, X.shape[3])  #Make it compatible for Random Forest and match Y labels"
      ]
    },
    {
      "cell_type": "code",
      "execution_count": null,
      "metadata": {
        "id": "BmryTAss0fTC"
      },
      "outputs": [],
      "source": [
        "# Reshape Y to match X\n",
        "Y = y_train.reshape(-1)"
      ]
    },
    {
      "cell_type": "code",
      "execution_count": null,
      "metadata": {
        "colab": {
          "base_uri": "https://localhost:8080/"
        },
        "id": "Tj5PMxwZ0fWp",
        "outputId": "52ee0927-b757-4bbe-bbd6-6cc2bb511880"
      },
      "outputs": [
        {
          "output_type": "stream",
          "name": "stdout",
          "text": [
            "[0 1]\n",
            "0    3468364\n",
            "1    3134388\n",
            "Name: Label, dtype: int64\n"
          ]
        }
      ],
      "source": [
        "# Combine X and Y into a dataframe \n",
        "dataset = pd.DataFrame(X)\n",
        "dataset['Label'] = Y\n",
        "print(dataset['Label'].unique())\n",
        "print(dataset['Label'].value_counts())"
      ]
    },
    {
      "cell_type": "code",
      "execution_count": null,
      "metadata": {
        "id": "XhFvErR60iBg"
      },
      "outputs": [],
      "source": [
        "#Redefine X and Y for Random Forest\n",
        "X_for_RF = dataset.drop(labels = ['Label'], axis=1)\n",
        "Y_for_RF = dataset['Label']"
      ]
    },
    {
      "cell_type": "code",
      "execution_count": null,
      "metadata": {
        "colab": {
          "base_uri": "https://localhost:8080/"
        },
        "id": "TUoIglnv0l3S",
        "outputId": "9514b146-92db-4e8e-a341-9d23187df374"
      },
      "outputs": [
        {
          "output_type": "stream",
          "name": "stderr",
          "text": [
            "[Parallel(n_jobs=1)]: Using backend SequentialBackend with 1 concurrent workers.\n"
          ]
        },
        {
          "output_type": "stream",
          "name": "stdout",
          "text": [
            "building tree 1 of 20\n"
          ]
        },
        {
          "output_type": "stream",
          "name": "stderr",
          "text": [
            "[Parallel(n_jobs=1)]: Done   1 out of   1 | elapsed:  2.1min remaining:    0.0s\n"
          ]
        },
        {
          "output_type": "stream",
          "name": "stdout",
          "text": [
            "building tree 2 of 20\n"
          ]
        },
        {
          "output_type": "stream",
          "name": "stderr",
          "text": [
            "[Parallel(n_jobs=1)]: Done   2 out of   2 | elapsed:  4.1min remaining:    0.0s\n"
          ]
        },
        {
          "output_type": "stream",
          "name": "stdout",
          "text": [
            "building tree 3 of 20\n"
          ]
        },
        {
          "output_type": "stream",
          "name": "stderr",
          "text": [
            "[Parallel(n_jobs=1)]: Done   3 out of   3 | elapsed:  6.1min remaining:    0.0s\n"
          ]
        },
        {
          "output_type": "stream",
          "name": "stdout",
          "text": [
            "building tree 4 of 20\n"
          ]
        },
        {
          "output_type": "stream",
          "name": "stderr",
          "text": [
            "[Parallel(n_jobs=1)]: Done   4 out of   4 | elapsed:  8.0min remaining:    0.0s\n"
          ]
        },
        {
          "output_type": "stream",
          "name": "stdout",
          "text": [
            "building tree 5 of 20\n"
          ]
        },
        {
          "output_type": "stream",
          "name": "stderr",
          "text": [
            "[Parallel(n_jobs=1)]: Done   5 out of   5 | elapsed:  9.9min remaining:    0.0s\n"
          ]
        },
        {
          "output_type": "stream",
          "name": "stdout",
          "text": [
            "building tree 6 of 20\n"
          ]
        },
        {
          "output_type": "stream",
          "name": "stderr",
          "text": [
            "[Parallel(n_jobs=1)]: Done   6 out of   6 | elapsed: 11.8min remaining:    0.0s\n"
          ]
        },
        {
          "output_type": "stream",
          "name": "stdout",
          "text": [
            "building tree 7 of 20\n"
          ]
        },
        {
          "output_type": "stream",
          "name": "stderr",
          "text": [
            "[Parallel(n_jobs=1)]: Done   7 out of   7 | elapsed: 13.6min remaining:    0.0s\n"
          ]
        },
        {
          "output_type": "stream",
          "name": "stdout",
          "text": [
            "building tree 8 of 20\n"
          ]
        },
        {
          "output_type": "stream",
          "name": "stderr",
          "text": [
            "[Parallel(n_jobs=1)]: Done   8 out of   8 | elapsed: 15.6min remaining:    0.0s\n"
          ]
        },
        {
          "output_type": "stream",
          "name": "stdout",
          "text": [
            "building tree 9 of 20\n"
          ]
        },
        {
          "output_type": "stream",
          "name": "stderr",
          "text": [
            "[Parallel(n_jobs=1)]: Done   9 out of   9 | elapsed: 17.5min remaining:    0.0s\n"
          ]
        },
        {
          "output_type": "stream",
          "name": "stdout",
          "text": [
            "building tree 10 of 20\n",
            "building tree 11 of 20\n",
            "building tree 12 of 20\n",
            "building tree 13 of 20\n",
            "building tree 14 of 20\n",
            "building tree 15 of 20\n",
            "building tree 16 of 20\n",
            "building tree 17 of 20\n",
            "building tree 18 of 20\n",
            "building tree 19 of 20\n",
            "building tree 20 of 20\n"
          ]
        },
        {
          "output_type": "stream",
          "name": "stderr",
          "text": [
            "[Parallel(n_jobs=1)]: Done  20 out of  20 | elapsed: 38.4min finished\n"
          ]
        },
        {
          "output_type": "execute_result",
          "data": {
            "text/plain": [
              "RandomForestClassifier(n_estimators=20, verbose=10)"
            ]
          },
          "metadata": {},
          "execution_count": 27
        }
      ],
      "source": [
        "#RANDOM FOREST\n",
        "from sklearn.ensemble import RandomForestClassifier\n",
        "model = RandomForestClassifier(n_estimators = 20, verbose=10)\n",
        "\n",
        "# Train the model on training data\n",
        "model.fit(X_for_RF, Y_for_RF) "
      ]
    },
    {
      "cell_type": "code",
      "execution_count": null,
      "metadata": {
        "id": "caO-8wCU0l9z"
      },
      "outputs": [],
      "source": [
        "#Save model for future use\n",
        "filename = 'TL_model_s1hand.sav'\n",
        "pickle.dump(model, open(filename, 'wb'))\n",
        "\n",
        "#Load model.... \n",
        "# loaded_model = pickle.load(open(filename, 'rb'))"
      ]
    },
    {
      "cell_type": "markdown",
      "source": [
        "## TEST The Trained Model"
      ],
      "metadata": {
        "id": "Mykldcg3UGRU"
      }
    },
    {
      "cell_type": "code",
      "source": [
        "filename = 'RF_model_weakly.sav'\n",
        "#Load model.... \n",
        "loaded_model = pickle.load(open(filename, 'rb'))"
      ],
      "metadata": {
        "id": "90o-nYPTRXyi"
      },
      "execution_count": 1,
      "outputs": []
    },
    {
      "cell_type": "code",
      "source": [
        "#Now, let us apply feature extractor to our training data\n",
        "features=new_model.predict(x_test)"
      ],
      "metadata": {
        "colab": {
          "base_uri": "https://localhost:8080/"
        },
        "id": "3BDqcapVUJH6",
        "outputId": "474456c3-8124-478b-925f-49c81e995c83"
      },
      "execution_count": null,
      "outputs": [
        {
          "output_type": "stream",
          "name": "stdout",
          "text": [
            "6/6 [==============================] - 0s 77ms/step\n"
          ]
        }
      ]
    },
    {
      "cell_type": "code",
      "source": [
        "#Reassign 'features' as X to make it easy to follow\n",
        "Xtest=features\n",
        "Xtest = Xtest.reshape(-1, Xtest.shape[3])  #Make it compatible for Random Forest and match Y labels"
      ],
      "metadata": {
        "id": "WiXQXukiUNki"
      },
      "execution_count": null,
      "outputs": []
    },
    {
      "cell_type": "code",
      "source": [
        "#Reshape Y to match X\n",
        "# Ytest = y_test.reshape(-1)\n",
        "Ytest = y_test.reshape(-1)"
      ],
      "metadata": {
        "id": "N8F7ZfXwUSDT"
      },
      "execution_count": null,
      "outputs": []
    },
    {
      "cell_type": "code",
      "source": [
        "#Combine X and Y into a dataframe to make it easy to drop all rows with Y values 0\n",
        "#In our labels Y values 0 = unlabeled pixels. \n",
        "dataset_test = pd.DataFrame(Xtest)\n",
        "dataset_test['Label'] = Ytest\n",
        "print(dataset_test['Label'].unique())\n",
        "print(dataset_test['Label'].value_counts())"
      ],
      "metadata": {
        "colab": {
          "base_uri": "https://localhost:8080/"
        },
        "id": "EXjIf60sVO69",
        "outputId": "707dd770-0c5c-4e94-885e-de13d8a88cde"
      },
      "execution_count": null,
      "outputs": [
        {
          "output_type": "stream",
          "name": "stdout",
          "text": [
            "[1 0]\n",
            "0    1471944\n",
            "1    1378872\n",
            "Name: Label, dtype: int64\n"
          ]
        }
      ]
    },
    {
      "cell_type": "code",
      "source": [
        "#Redefine X and Y for Random Forest\n",
        "Xtest_for_RF = dataset_test.drop(labels = ['Label'], axis=1)\n",
        "Ytest_for_RF = dataset_test['Label']"
      ],
      "metadata": {
        "id": "cqtEVFavVWkm"
      },
      "execution_count": null,
      "outputs": []
    },
    {
      "cell_type": "code",
      "execution_count": null,
      "metadata": {
        "id": "eyY-zALs0z1m",
        "colab": {
          "base_uri": "https://localhost:8080/"
        },
        "outputId": "feb4a1de-3b5e-44f3-f90b-72100cee40bc"
      },
      "outputs": [
        {
          "output_type": "stream",
          "name": "stderr",
          "text": [
            "[Parallel(n_jobs=1)]: Using backend SequentialBackend with 1 concurrent workers.\n",
            "[Parallel(n_jobs=1)]: Done   1 out of   1 | elapsed:    1.1s remaining:    0.0s\n",
            "[Parallel(n_jobs=1)]: Done   2 out of   2 | elapsed:    2.2s remaining:    0.0s\n",
            "[Parallel(n_jobs=1)]: Done   3 out of   3 | elapsed:    3.2s remaining:    0.0s\n",
            "[Parallel(n_jobs=1)]: Done   4 out of   4 | elapsed:    4.3s remaining:    0.0s\n",
            "[Parallel(n_jobs=1)]: Done   5 out of   5 | elapsed:    5.4s remaining:    0.0s\n",
            "[Parallel(n_jobs=1)]: Done   6 out of   6 | elapsed:    6.4s remaining:    0.0s\n",
            "[Parallel(n_jobs=1)]: Done   7 out of   7 | elapsed:    7.5s remaining:    0.0s\n",
            "[Parallel(n_jobs=1)]: Done   8 out of   8 | elapsed:    8.5s remaining:    0.0s\n",
            "[Parallel(n_jobs=1)]: Done   9 out of   9 | elapsed:    9.6s remaining:    0.0s\n",
            "[Parallel(n_jobs=1)]: Done  20 out of  20 | elapsed:   20.8s finished\n"
          ]
        },
        {
          "output_type": "stream",
          "name": "stdout",
          "text": [
            "Accuracy =  0.911004778982579\n",
            "IOU =  0.836555350657508\n",
            "Precision =  0.911004778982579\n",
            "Recall =  0.911004778982579\n",
            "F1 score =  0.911004778982579\n"
          ]
        }
      ],
      "source": [
        "from sklearn import metrics\n",
        "prediction_test = model.predict(Xtest_for_RF)\n",
        "##Check accuracy on test dataset. \n",
        "print (\"Accuracy = \", metrics.accuracy_score(Ytest_for_RF, prediction_test))\n",
        "print(\"IOU = \", metrics.jaccard_score(Ytest_for_RF, prediction_test, average =\"micro\"))\n",
        "print(\"Precision = \", metrics.precision_score(Ytest_for_RF, prediction_test, average =\"micro\"))\n",
        "print(\"Recall = \", \tmetrics.recall_score(Ytest_for_RF, prediction_test, average =\"micro\"))\n",
        "print(\"F1 score = \", metrics.f1_score(Ytest_for_RF, prediction_test, average =\"micro\"))"
      ]
    },
    {
      "cell_type": "code",
      "source": [],
      "metadata": {
        "id": "XoZj4FSeH51D"
      },
      "execution_count": null,
      "outputs": []
    },
    {
      "cell_type": "markdown",
      "source": [
        "Classification Map - Visual Validation"
      ],
      "metadata": {
        "id": "p3Pgi2IOH59e"
      }
    },
    {
      "cell_type": "code",
      "source": [
        "#Save model for future use\n",
        "filename = 'TL_model_s1hand.sav'\n",
        "\n",
        "#Load model.... \n",
        "loaded_model = pickle.load(open(filename, 'rb'))"
      ],
      "metadata": {
        "id": "ENlV6PbVIYyy"
      },
      "execution_count": null,
      "outputs": []
    },
    {
      "cell_type": "code",
      "source": [
        "# Plot  a Predicted sample image\n",
        "source_path = \"S1Hand/\"\n",
        "img1 = source[9]\n",
        "print(img1)\n",
        "\n",
        "IMG_WIDTH = 128\n",
        "IMG_HEIGHT = 128\n",
        "IMG_CHANNELS = 3 # Since VGG-16 uses 3 bands, we are utilizing VV, VH and VH/VV as spectral bands\n",
        "\n",
        "X_source_viz = np.zeros((1, IMG_HEIGHT, IMG_WIDTH, IMG_CHANNELS), dtype=np.uint8)\n",
        "\n",
        "source_img = imread(source_path +'/' +img1 ) \n",
        "\n",
        "new_image = np.transpose(source_img, (1, 2, 0))\n",
        "vh_vv = new_image[:,:,0]/new_image[:,:,1]\n",
        "vh_vv = np.expand_dims(vh_vv, axis=2)\n",
        "final = np.concatenate((new_image,vh_vv), axis=2)\n",
        "\n",
        "X_source_viz[0] = final[:,:,:] \n",
        "\n",
        "features=new_model.predict(X_source_viz)\n",
        "\n",
        "X=features\n",
        "X = X.reshape(-1, X.shape[3])\n",
        "\n",
        "X_viz = pd.DataFrame(X)  \n",
        "result = loaded_model.predict(X)\n",
        "\n",
        "segmented = result.reshape((128,128))\n",
        "plt.imshow(segmented, cmap='gist_gray')\n"
      ],
      "metadata": {
        "colab": {
          "base_uri": "https://localhost:8080/",
          "height": 511
        },
        "id": "rVB_ozKXIY37",
        "outputId": "02929ff7-452f-43fc-f8e4-ceb513646533"
      },
      "execution_count": null,
      "outputs": [
        {
          "output_type": "stream",
          "name": "stdout",
          "text": [
            "Bolivia_242570_S1Hand_1280128256.tif\n",
            "1/1 [==============================] - 0s 16ms/step\n"
          ]
        },
        {
          "output_type": "stream",
          "name": "stderr",
          "text": [
            "[Parallel(n_jobs=1)]: Using backend SequentialBackend with 1 concurrent workers.\n",
            "[Parallel(n_jobs=1)]: Done   1 out of   1 | elapsed:    0.0s remaining:    0.0s\n",
            "[Parallel(n_jobs=1)]: Done   2 out of   2 | elapsed:    0.0s remaining:    0.0s\n",
            "[Parallel(n_jobs=1)]: Done   3 out of   3 | elapsed:    0.0s remaining:    0.0s\n",
            "[Parallel(n_jobs=1)]: Done   4 out of   4 | elapsed:    0.0s remaining:    0.0s\n",
            "[Parallel(n_jobs=1)]: Done   5 out of   5 | elapsed:    0.1s remaining:    0.0s\n",
            "[Parallel(n_jobs=1)]: Done   6 out of   6 | elapsed:    0.1s remaining:    0.0s\n",
            "[Parallel(n_jobs=1)]: Done   7 out of   7 | elapsed:    0.1s remaining:    0.0s\n",
            "[Parallel(n_jobs=1)]: Done   8 out of   8 | elapsed:    0.1s remaining:    0.0s\n",
            "[Parallel(n_jobs=1)]: Done   9 out of   9 | elapsed:    0.1s remaining:    0.0s\n",
            "[Parallel(n_jobs=1)]: Done  20 out of  20 | elapsed:    0.2s finished\n"
          ]
        },
        {
          "output_type": "execute_result",
          "data": {
            "text/plain": [
              "<matplotlib.image.AxesImage at 0x7f897cf69490>"
            ]
          },
          "metadata": {},
          "execution_count": 25
        },
        {
          "output_type": "display_data",
          "data": {
            "text/plain": [
              "<Figure size 432x288 with 1 Axes>"
            ],
            "image/png": "[encoded data removed]"
          },
          "metadata": {
            "needs_background": "light"
          }
        }
      ]
    },
    {
      "cell_type": "code",
      "source": [
        "# Plot the corresponding ground truth label\n",
        "label1 = label[9]\n",
        "mask_path = \"S1OtsuLabelHand/\"\n",
        "input_mask = imread(mask_path + label1)\n",
        "\n",
        "plt.imshow(input_mask, cmap='gist_gray')"
      ],
      "metadata": {
        "colab": {
          "base_uri": "https://localhost:8080/",
          "height": 285
        },
        "id": "7Yh1Zl-wNAog",
        "outputId": "bd84d93f-d325-4afb-cb78-b9cb35ff3f76"
      },
      "execution_count": null,
      "outputs": [
        {
          "output_type": "execute_result",
          "data": {
            "text/plain": [
              "<matplotlib.image.AxesImage at 0x7f897cf24eb0>"
            ]
          },
          "metadata": {},
          "execution_count": 26
        },
        {
          "output_type": "display_data",
          "data": {
            "text/plain": [
              "<Figure size 432x288 with 1 Axes>"
            ],
            "image/png": "[encoded data removed]"
          },
          "metadata": {
            "needs_background": "light"
          }
        }
      ]
    },
    {
      "cell_type": "code",
      "source": [],
      "metadata": {
        "id": "9kYenqfTQ8_s"
      },
      "execution_count": null,
      "outputs": []
    }
  ],
  "metadata": {
    "colab": {
      "provenance": []
    },
    "kernelspec": {
      "display_name": "Python 3",
      "name": "python3"
    },
    "language_info": {
      "name": "python"
    },
    "accelerator": "GPU",
    "gpuClass": "standard"
  },
  "nbformat": 4,
  "nbformat_minor": 0
}
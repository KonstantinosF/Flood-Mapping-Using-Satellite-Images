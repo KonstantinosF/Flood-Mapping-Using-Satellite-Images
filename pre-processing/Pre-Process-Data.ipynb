{
 "cells": [
  {
   "cell_type": "code",
   "execution_count": null,
   "id": "70a09cc3",
   "metadata": {},
   "outputs": [],
   "source": [
    "# Load Dependencies\n",
    "import os\n",
    "import numpy as np\n",
    "from skimage.io import imread, imshow\n",
    "from collections import Counter\n",
    "import subprocess \n",
    "from subprocess import PIPE\n",
    "from skimage.io import imread, imshow, imsave\n",
    "# from PIL import Image\n",
    "from itertools import product\n",
    "import time"
   ]
  },
  {
   "cell_type": "code",
   "execution_count": null,
   "id": "f3e4f1bc",
   "metadata": {},
   "outputs": [],
   "source": [
    "def get_percentage_diff(previous, current):\n",
    "    try:\n",
    "        percentage = abs(previous - current)/max(previous, current) * 100\n",
    "    except ZeroDivisionError:\n",
    "        percentage = float('inf')\n",
    "    return percentage"
   ]
  },
  {
   "cell_type": "markdown",
   "id": "711d6a15",
   "metadata": {},
   "source": [
    "<h1> Hand Labeled </h1>"
   ]
  },
  {
   "cell_type": "markdown",
   "id": "c581a931",
   "metadata": {},
   "source": [
    "<h3> Create Smaller Patches 128x128 </h3>"
   ]
  },
  {
   "cell_type": "code",
   "execution_count": null,
   "id": "5ecd1481",
   "metadata": {},
   "outputs": [],
   "source": [
    "foldersLabels = ['LabelHand','S1OtsuLabelHand']"
   ]
  },
  {
   "cell_type": "code",
   "execution_count": null,
   "id": "6bd38289",
   "metadata": {},
   "outputs": [],
   "source": [
    "w,h=512,512\n",
    "d = 128\n",
    "grid = product(range(0, h-h%d, d), range(0, w-w%d, d))\n",
    "initial_path = os.getcwd()\n",
    "\n",
    "for folder in foldersLabels:\n",
    "    source_path = initial_path +'/'+ folder+'/'\n",
    "    os.chdir(source_path)\n",
    "    print(os.getcwd())\n",
    "    for item in os.listdir(source_path):\n",
    "        if item.endswith('.tif'):\n",
    "            img = imread(source_path +item)\n",
    "            print(f\"Item: {item}\")\n",
    "            grid = product(range(0, h-h%d, d), range(0, w-w%d, d))\n",
    "            for i, j in grid:\n",
    "                box = (j, i, j+d, i+d)\n",
    "                name = item[:-4]+'_'+str(i)+str(j)+str(j+d)+str(i+d)+'.tif'\n",
    "                new_img = img[box[0]:box[2],box[1]:box[3]]\n",
    "                print(f\"New product: {name}\")\n",
    "                imsave(name, new_img,check_contrast=False)\n",
    "                \n",
    "            path = os.path.join(source_path, item)\n",
    "            os.remove(path)\n",
    "            time.sleep(1)"
   ]
  },
  {
   "cell_type": "code",
   "execution_count": null,
   "id": "d688e541",
   "metadata": {},
   "outputs": [],
   "source": [
    "folder = [\"S2Hand\"]"
   ]
  },
  {
   "cell_type": "code",
   "execution_count": null,
   "id": "2e34b934",
   "metadata": {},
   "outputs": [],
   "source": [
    "w,h=512,512\n",
    "d = 128\n",
    "grid = product(range(0, h-h%d, d), range(0, w-w%d, d))\n",
    "initial_path = os.getcwd()\n",
    "\n",
    "for folder in folders:\n",
    "    source_path = initial_path +'/'+ folder+'/'\n",
    "    os.chdir(source_path)\n",
    "    print(os.getcwd())\n",
    "    for item in os.listdir(source_path):\n",
    "        if item.endswith('.tif'):\n",
    "            img = imread(source_path +item)\n",
    "            print(f\"Item: {item}\")\n",
    "            grid = product(range(0, h-h%d, d), range(0, w-w%d, d))\n",
    "            for i, j in grid:\n",
    "                box = (j, i, j+d, i+d)\n",
    "                name = item[:-4]+'_'+str(i)+str(j)+str(j+d)+str(i+d)+'.tif'\n",
    "                new_img = img[[2,3,4,8,11],box[0]:box[2],box[1]:box[3]] # Keep only RGB NIR and SWIR Bands\n",
    "                print(f\"New product: {name}\")\n",
    "                imsave(name, new_img,check_contrast=False)\n",
    "                \n",
    "            path = os.path.join(source_path, item)\n",
    "            os.remove(path)\n",
    "            time.sleep(1)"
   ]
  },
  {
   "cell_type": "code",
   "execution_count": null,
   "id": "2c377eef",
   "metadata": {},
   "outputs": [],
   "source": [
    "folder = [\"S1Hand\"]"
   ]
  },
  {
   "cell_type": "code",
   "execution_count": null,
   "id": "2dd15e11",
   "metadata": {},
   "outputs": [],
   "source": [
    "w,h=512,512\n",
    "d = 128\n",
    "grid = product(range(0, h-h%d, d), range(0, w-w%d, d))\n",
    "initial_path = os.getcwd()\n",
    "\n",
    "for folder in folders:\n",
    "    source_path = initial_path +'/'+ folder+'/'\n",
    "    os.chdir(source_path)\n",
    "    print(os.getcwd())\n",
    "    for item in os.listdir(source_path):\n",
    "        if item.endswith('.tif'):\n",
    "            img = imread(source_path +item)\n",
    "            print(f\"Item: {item}\")\n",
    "            grid = product(range(0, h-h%d, d), range(0, w-w%d, d))\n",
    "            for i, j in grid:\n",
    "                box = (j, i, j+d, i+d)\n",
    "                name = item[:-4]+'_'+str(i)+str(j)+str(j+d)+str(i+d)+'.tif'\n",
    "                new_img = img[[2,3,4,8,11],box[0]:box[2],box[1]:box[3]]\n",
    "                print(f\"New product: {name}\")\n",
    "                imsave(name, new_img,check_contrast=False)\n",
    "                \n",
    "            path = os.path.join(source_path, item)\n",
    "            os.remove(path)\n",
    "            time.sleep(1)"
   ]
  },
  {
   "cell_type": "markdown",
   "id": "f54a2cec",
   "metadata": {},
   "source": [
    "<h3> Search for Patches Either Unbalanced Or With Corrupt Pixels  </h3>"
   ]
  },
  {
   "cell_type": "code",
   "execution_count": null,
   "id": "3fabdbdb",
   "metadata": {},
   "outputs": [],
   "source": [
    "source_path = os.getcwd() + '/S1OtsuLabelHand/'\n",
    "listimages=[]\n",
    "for item in os.listdir(source_path):\n",
    "    print(item)\n",
    "    img = imread(source_path +item)\n",
    "    countzero = np.count_nonzero(img == 0)\n",
    "    countone = np.count_nonzero(img == 1)\n",
    "    countminus = np.count_nonzero(img ==-1)    \n",
    "    if (get_percentage_diff(countone,countzero) >50.0) or (get_percentage_diff(countzero,countone) >50.0) or (countminus>=1): \n",
    "        x = item.split(\"_\")\n",
    "        name = x[0] +\"_\"+ x[1]+\"_\"+x[3]\n",
    "        listimages.append(name)"
   ]
  },
  {
   "cell_type": "markdown",
   "id": "dc59bb12",
   "metadata": {},
   "source": [
    "<h3> Erase the Patches </h3>"
   ]
  },
  {
   "cell_type": "code",
   "execution_count": null,
   "id": "d72b5a77",
   "metadata": {},
   "outputs": [],
   "source": [
    "folders = [\"S1Hand\",\"S2Hand\",\"LabelHand\",\"S1OtsuLabelHand\"]\n",
    "\n",
    "for folder in folders:\n",
    "    source_path = os.getcwd() + '/' + folder +'/'\n",
    "    for item in os.listdir(source_path):\n",
    "        x = item.split(\"_\")\n",
    "        name = x[0] +\"_\"+ x[1]+\"_\"+x[3]\n",
    "        if name in listimages:\n",
    "            path = os.path.join(source_path, item)\n",
    "            os.remove(path)\n",
    "            time.sleep(1)"
   ]
  },
  {
   "cell_type": "markdown",
   "id": "7aa5274e",
   "metadata": {},
   "source": [
    "<h1> Weakly Labeled </h1>"
   ]
  },
  {
   "cell_type": "code",
   "execution_count": null,
   "id": "16cd1a12",
   "metadata": {},
   "outputs": [],
   "source": [
    "folder = ['S1Weak']"
   ]
  },
  {
   "cell_type": "code",
   "execution_count": null,
   "id": "107a4fdd",
   "metadata": {},
   "outputs": [],
   "source": [
    "w,h=512,512\n",
    "d = 128\n",
    "grid = product(range(0, h-h%d, d), range(0, w-w%d, d))\n",
    "initial_path = os.getcwd()\n",
    "\n",
    "for folder in folder:\n",
    "    source_path = initial_path +'/'+ folder+'/'\n",
    "    os.chdir(source_path)\n",
    "    print(os.getcwd())\n",
    "    for item in os.listdir(source_path):\n",
    "        if item.endswith('.tif'):\n",
    "            img = imread(source_path +item)\n",
    "            print(f\"Item: {item}\")\n",
    "            grid = product(range(0, h-h%d, d), range(0, w-w%d, d))\n",
    "            for i, j in grid:\n",
    "                box = (j, i, j+d, i+d)\n",
    "                name = item[:-4]+'_'+str(i)+str(j)+str(j+d)+str(i+d)+'.tif'\n",
    "                new_img = img[0:2,box[0]:box[2],box[1]:box[3]]\n",
    "                print(f\"New product: {name}\")\n",
    "                imsave(name, new_img,check_contrast=False)\n",
    "                \n",
    "            path = os.path.join(source_path, item)\n",
    "            os.remove(path)\n",
    "            time.sleep(1)"
   ]
  },
  {
   "cell_type": "code",
   "execution_count": null,
   "id": "905acbe3",
   "metadata": {},
   "outputs": [],
   "source": [
    "folder = ['S1OtsuLabelWeak']"
   ]
  },
  {
   "cell_type": "code",
   "execution_count": null,
   "id": "715156da",
   "metadata": {},
   "outputs": [],
   "source": [
    "w,h=512,512\n",
    "d = 128\n",
    "grid = product(range(0, h-h%d, d), range(0, w-w%d, d))\n",
    "initial_path = os.getcwd()\n",
    "\n",
    "for folder in folder:\n",
    "    source_path = initial_path +'/'+ folder+'/'\n",
    "    os.chdir(source_path)\n",
    "    print(os.getcwd())\n",
    "    for item in os.listdir(source_path):\n",
    "        if item.endswith('.tif'):\n",
    "            img = imread(source_path +item)\n",
    "            print(f\"Item: {item}\")\n",
    "            grid = product(range(0, h-h%d, d), range(0, w-w%d, d))\n",
    "            for i, j in grid:\n",
    "                box = (j, i, j+d, i+d)\n",
    "                name = item[:-4]+'_'+str(i)+str(j)+str(j+d)+str(i+d)+'.tif'\n",
    "                new_img = img[box[0]:box[2],box[1]:box[3]]\n",
    "                print(f\"New product: {name}\")\n",
    "                imsave(name, new_img,check_contrast=False)\n",
    "                time.sleep(1)\n",
    "                \n",
    "            path = os.path.join(source_path, item)\n",
    "            os.remove(path)\n",
    "            time.sleep(1)"
   ]
  },
  {
   "cell_type": "markdown",
   "id": "dd98d0af",
   "metadata": {},
   "source": [
    "<h3> Search for Patches Either Unbalanced Or With Corrupt Pixels </h3>"
   ]
  },
  {
   "cell_type": "code",
   "execution_count": null,
   "id": "489fb2f5",
   "metadata": {},
   "outputs": [],
   "source": [
    "source_path = os.getcwd() + '/S1OtsuLabelWeak/'\n",
    "listimagesw=[]\n",
    "for item in os.listdir(source_path):\n",
    "    print(item)\n",
    "    img = imread(source_path +item)\n",
    "    countzero = np.count_nonzero(img == 0)\n",
    "    countone = np.count_nonzero(img == 1)\n",
    "    countminus = np.count_nonzero(img ==-1)    \n",
    "    if (get_percentage_diff(countone,countzero) >50.0) or (get_percentage_diff(countzero,countone) >50.0) or (countminus>=1): \n",
    "        x = item.split(\"_\")\n",
    "        name = x[0] +\"_\"+ x[1]+\"_\"+x[3]\n",
    "        listimagesw.append(name)"
   ]
  },
  {
   "cell_type": "markdown",
   "id": "a925c30f",
   "metadata": {},
   "source": [
    "<h3> Erase the Patches </h3>"
   ]
  },
  {
   "cell_type": "code",
   "execution_count": null,
   "id": "7bd01be4",
   "metadata": {},
   "outputs": [],
   "source": [
    "folders = [\"S1Weak\",\"S1OtsuLabelWeak\"]\n",
    "\n",
    "for folder in folders:\n",
    "    source_path = os.getcwd() + '/' + folder +'/'\n",
    "    for item in os.listdir(source_path):\n",
    "        x = item.split(\"_\")\n",
    "        name = x[0] +\"_\"+ x[1]+\"_\"+x[3]\n",
    "        if name in listimagesw:\n",
    "            path = os.path.join(source_path, item)\n",
    "            os.remove(path)\n",
    "            time.sleep(1)"
   ]
  },
  {
   "cell_type": "code",
   "execution_count": null,
   "id": "9f2f0fae",
   "metadata": {},
   "outputs": [],
   "source": []
  },
  {
   "cell_type": "code",
   "execution_count": null,
   "id": "b6a1dcf6",
   "metadata": {},
   "outputs": [],
   "source": []
  }
 ],
 "metadata": {
  "kernelspec": {
   "display_name": "Python 3 (ipykernel)",
   "language": "python",
   "name": "python3"
  },
  "language_info": {
   "codemirror_mode": {
    "name": "ipython",
    "version": 3
   },
   "file_extension": ".py",
   "mimetype": "text/x-python",
   "name": "python",
   "nbconvert_exporter": "python",
   "pygments_lexer": "ipython3",
   "version": "3.7.12"
  }
 },
 "nbformat": 4,
 "nbformat_minor": 5
}
